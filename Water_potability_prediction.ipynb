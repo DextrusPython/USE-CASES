{
 "cells": [
  {
   "cell_type": "code",
   "execution_count": 1,
   "id": "9248b13e",
   "metadata": {
    "cell_id": "00001-636b88f8-a63b-4a85-acca-c76c820d38ad",
    "deepnote_cell_type": "code",
    "deepnote_to_be_reexecuted": false,
    "execution": {
     "iopub.execute_input": "2021-11-17T08:56:25.403503Z",
     "iopub.status.busy": "2021-11-17T08:56:25.402298Z",
     "iopub.status.idle": "2021-11-17T08:56:29.895492Z",
     "shell.execute_reply": "2021-11-17T08:56:29.894816Z",
     "shell.execute_reply.started": "2021-11-17T08:54:55.975551Z"
    },
    "execution_millis": 1296,
    "execution_start": 1625755185347,
    "papermill": {
     "duration": 4.532318,
     "end_time": "2021-11-17T08:56:29.895666",
     "exception": false,
     "start_time": "2021-11-17T08:56:25.363348",
     "status": "completed"
    },
    "source_hash": "92018e31",
    "tags": []
   },
   "outputs": [
    {
     "data": {
      "text/html": [
       "        <script type=\"text/javascript\">\n",
       "        window.PlotlyConfig = {MathJaxConfig: 'local'};\n",
       "        if (window.MathJax) {MathJax.Hub.Config({SVG: {font: \"STIX-Web\"}});}\n",
       "        if (typeof require !== 'undefined') {\n",
       "        require.undef(\"plotly\");\n",
       "        requirejs.config({\n",
       "            paths: {\n",
       "                'plotly': ['https://cdn.plot.ly/plotly-2.4.2.min']\n",
       "            }\n",
       "        });\n",
       "        require(['plotly'], function(Plotly) {\n",
       "            window._Plotly = Plotly;\n",
       "        });\n",
       "        }\n",
       "        </script>\n",
       "        "
      ]
     },
     "metadata": {},
     "output_type": "display_data"
    }
   ],
   "source": [
    "from sklearn.model_selection import train_test_split\n",
    "from sklearn.svm import LinearSVC\n",
    "from sklearn.svm import SVC\n",
    "from sklearn.ensemble import RandomForestClassifier\n",
    "from sklearn.linear_model import LogisticRegression \n",
    "from sklearn.neighbors import KNeighborsClassifier\n",
    "from sklearn import tree\n",
    "from scipy.spatial.distance import pdist, squareform\n",
    "from sklearn.pipeline import Pipeline\n",
    "from sklearn.preprocessing import StandardScaler\n",
    "from sklearn.model_selection import cross_val_score\n",
    "from sklearn.metrics import accuracy_score\n",
    "from sklearn import metrics\n",
    "\n",
    "from pandas import plotting\n",
    "\n",
    "import numpy as np\n",
    "import pandas as pd\n",
    "import matplotlib.pyplot as plt\n",
    "import seaborn as sns\n",
    "#plotly \n",
    "import plotly.offline as py\n",
    "import plotly.graph_objects as go\n",
    "from plotly.offline import init_notebook_mode, iplot\n",
    "from plotly import tools\n",
    "init_notebook_mode(connected=True)\n",
    "import plotly.figure_factory as ff\n",
    "import plotly.express as px\n",
    "\n",
    "from sklearn.preprocessing import StandardScaler\n",
    "\n",
    "from sklearn.linear_model import LogisticRegression\n",
    "from sklearn import preprocessing\n",
    "from sklearn import neighbors\n",
    "from sklearn.metrics import confusion_matrix,classification_report,precision_score, plot_roc_curve, plot_precision_recall_curve, balanced_accuracy_score\n",
    "from sklearn.model_selection import train_test_split\n",
    "\n",
    "import statsmodels.api as sm\n",
    "import statsmodels.formula.api as smf\n",
    "sns.set(style=\"whitegrid\")\n",
    "\n",
    "plt.style.use('fivethirtyeight')"
   ]
  },
  {
   "cell_type": "code",
   "execution_count": 2,
   "id": "d7f4302a",
   "metadata": {
    "cell_id": "00002-0d81803e-8f08-4ec1-8779-fd9a5e4cd29c",
    "deepnote_cell_type": "code",
    "deepnote_to_be_reexecuted": false,
    "execution": {
     "iopub.execute_input": "2021-11-17T08:56:29.962239Z",
     "iopub.status.busy": "2021-11-17T08:56:29.961487Z",
     "iopub.status.idle": "2021-11-17T08:56:29.964884Z",
     "shell.execute_reply": "2021-11-17T08:56:29.965431Z",
     "shell.execute_reply.started": "2021-11-17T08:55:00.718413Z"
    },
    "execution_millis": 10,
    "execution_start": 1625755186651,
    "papermill": {
     "duration": 0.03789,
     "end_time": "2021-11-17T08:56:29.965607",
     "exception": false,
     "start_time": "2021-11-17T08:56:29.927717",
     "status": "completed"
    },
    "source_hash": "50b955e8",
    "tags": []
   },
   "outputs": [],
   "source": [
    "import warnings #para que no molesten los warnings\n",
    "warnings.filterwarnings('ignore')"
   ]
  },
  {
   "cell_type": "markdown",
   "id": "95c6c15a",
   "metadata": {
    "cell_id": "00005-d8fbd4ce-9063-48d2-9938-a087fcbeb8fa",
    "deepnote_cell_type": "text-cell-p",
    "papermill": {
     "duration": 0.030814,
     "end_time": "2021-11-17T08:56:30.027406",
     "exception": false,
     "start_time": "2021-11-17T08:56:29.996592",
     "status": "completed"
    },
    "tags": []
   },
   "source": [
    "This dataset gives us information about potability for different waters with respect to their conductivity, PH, etc. With this information we expect to extract conclusions about which components have a bigger impact on the potability of water."
   ]
  },
  {
   "cell_type": "markdown",
   "id": "45d9cd46",
   "metadata": {
    "cell_id": "00005-6decbe1b-a916-4f51-b117-4be5e41b2b64",
    "deepnote_cell_type": "text-cell-h1",
    "papermill": {
     "duration": 0.030884,
     "end_time": "2021-11-17T08:56:30.089593",
     "exception": false,
     "start_time": "2021-11-17T08:56:30.058709",
     "status": "completed"
    },
    "tags": []
   },
   "source": [
    "# Part 0: Preprocessing"
   ]
  },
  {
   "cell_type": "code",
   "execution_count": 3,
   "id": "5e9f0cfa",
   "metadata": {
    "cell_id": "00005-572dfb4d-55d9-4f5c-a26a-b08063458654",
    "deepnote_cell_type": "code",
    "deepnote_to_be_reexecuted": false,
    "execution": {
     "iopub.execute_input": "2021-11-17T08:56:30.155455Z",
     "iopub.status.busy": "2021-11-17T08:56:30.154763Z",
     "iopub.status.idle": "2021-11-17T08:56:30.219656Z",
     "shell.execute_reply": "2021-11-17T08:56:30.218937Z",
     "shell.execute_reply.started": "2021-11-17T08:55:00.725152Z"
    },
    "execution_millis": 144,
    "execution_start": 1625755186680,
    "papermill": {
     "duration": 0.0989,
     "end_time": "2021-11-17T08:56:30.219825",
     "exception": false,
     "start_time": "2021-11-17T08:56:30.120925",
     "status": "completed"
    },
    "source_hash": "d6963464",
    "tags": []
   },
   "outputs": [
    {
     "data": {
      "text/html": [
       "<div>\n",
       "<style scoped>\n",
       "    .dataframe tbody tr th:only-of-type {\n",
       "        vertical-align: middle;\n",
       "    }\n",
       "\n",
       "    .dataframe tbody tr th {\n",
       "        vertical-align: top;\n",
       "    }\n",
       "\n",
       "    .dataframe thead th {\n",
       "        text-align: right;\n",
       "    }\n",
       "</style>\n",
       "<table border=\"1\" class=\"dataframe\">\n",
       "  <thead>\n",
       "    <tr style=\"text-align: right;\">\n",
       "      <th></th>\n",
       "      <th>ph</th>\n",
       "      <th>Hardness</th>\n",
       "      <th>Solids</th>\n",
       "      <th>Chloramines</th>\n",
       "      <th>Sulfate</th>\n",
       "      <th>Conductivity</th>\n",
       "      <th>Organic_carbon</th>\n",
       "      <th>Trihalomethanes</th>\n",
       "      <th>Turbidity</th>\n",
       "      <th>Potability</th>\n",
       "    </tr>\n",
       "  </thead>\n",
       "  <tbody>\n",
       "    <tr>\n",
       "      <th>0</th>\n",
       "      <td>NaN</td>\n",
       "      <td>204.890455</td>\n",
       "      <td>20791.318981</td>\n",
       "      <td>7.300212</td>\n",
       "      <td>368.516441</td>\n",
       "      <td>564.308654</td>\n",
       "      <td>10.379783</td>\n",
       "      <td>86.990970</td>\n",
       "      <td>2.963135</td>\n",
       "      <td>0</td>\n",
       "    </tr>\n",
       "    <tr>\n",
       "      <th>1</th>\n",
       "      <td>3.716080</td>\n",
       "      <td>129.422921</td>\n",
       "      <td>18630.057858</td>\n",
       "      <td>6.635246</td>\n",
       "      <td>NaN</td>\n",
       "      <td>592.885359</td>\n",
       "      <td>15.180013</td>\n",
       "      <td>56.329076</td>\n",
       "      <td>4.500656</td>\n",
       "      <td>0</td>\n",
       "    </tr>\n",
       "    <tr>\n",
       "      <th>2</th>\n",
       "      <td>8.099124</td>\n",
       "      <td>224.236259</td>\n",
       "      <td>19909.541732</td>\n",
       "      <td>9.275884</td>\n",
       "      <td>NaN</td>\n",
       "      <td>418.606213</td>\n",
       "      <td>16.868637</td>\n",
       "      <td>66.420093</td>\n",
       "      <td>3.055934</td>\n",
       "      <td>0</td>\n",
       "    </tr>\n",
       "    <tr>\n",
       "      <th>3</th>\n",
       "      <td>8.316766</td>\n",
       "      <td>214.373394</td>\n",
       "      <td>22018.417441</td>\n",
       "      <td>8.059332</td>\n",
       "      <td>356.886136</td>\n",
       "      <td>363.266516</td>\n",
       "      <td>18.436524</td>\n",
       "      <td>100.341674</td>\n",
       "      <td>4.628771</td>\n",
       "      <td>0</td>\n",
       "    </tr>\n",
       "    <tr>\n",
       "      <th>4</th>\n",
       "      <td>9.092223</td>\n",
       "      <td>181.101509</td>\n",
       "      <td>17978.986339</td>\n",
       "      <td>6.546600</td>\n",
       "      <td>310.135738</td>\n",
       "      <td>398.410813</td>\n",
       "      <td>11.558279</td>\n",
       "      <td>31.997993</td>\n",
       "      <td>4.075075</td>\n",
       "      <td>0</td>\n",
       "    </tr>\n",
       "    <tr>\n",
       "      <th>...</th>\n",
       "      <td>...</td>\n",
       "      <td>...</td>\n",
       "      <td>...</td>\n",
       "      <td>...</td>\n",
       "      <td>...</td>\n",
       "      <td>...</td>\n",
       "      <td>...</td>\n",
       "      <td>...</td>\n",
       "      <td>...</td>\n",
       "      <td>...</td>\n",
       "    </tr>\n",
       "    <tr>\n",
       "      <th>3271</th>\n",
       "      <td>4.668102</td>\n",
       "      <td>193.681735</td>\n",
       "      <td>47580.991603</td>\n",
       "      <td>7.166639</td>\n",
       "      <td>359.948574</td>\n",
       "      <td>526.424171</td>\n",
       "      <td>13.894419</td>\n",
       "      <td>66.687695</td>\n",
       "      <td>4.435821</td>\n",
       "      <td>1</td>\n",
       "    </tr>\n",
       "    <tr>\n",
       "      <th>3272</th>\n",
       "      <td>7.808856</td>\n",
       "      <td>193.553212</td>\n",
       "      <td>17329.802160</td>\n",
       "      <td>8.061362</td>\n",
       "      <td>NaN</td>\n",
       "      <td>392.449580</td>\n",
       "      <td>19.903225</td>\n",
       "      <td>NaN</td>\n",
       "      <td>2.798243</td>\n",
       "      <td>1</td>\n",
       "    </tr>\n",
       "    <tr>\n",
       "      <th>3273</th>\n",
       "      <td>9.419510</td>\n",
       "      <td>175.762646</td>\n",
       "      <td>33155.578218</td>\n",
       "      <td>7.350233</td>\n",
       "      <td>NaN</td>\n",
       "      <td>432.044783</td>\n",
       "      <td>11.039070</td>\n",
       "      <td>69.845400</td>\n",
       "      <td>3.298875</td>\n",
       "      <td>1</td>\n",
       "    </tr>\n",
       "    <tr>\n",
       "      <th>3274</th>\n",
       "      <td>5.126763</td>\n",
       "      <td>230.603758</td>\n",
       "      <td>11983.869376</td>\n",
       "      <td>6.303357</td>\n",
       "      <td>NaN</td>\n",
       "      <td>402.883113</td>\n",
       "      <td>11.168946</td>\n",
       "      <td>77.488213</td>\n",
       "      <td>4.708658</td>\n",
       "      <td>1</td>\n",
       "    </tr>\n",
       "    <tr>\n",
       "      <th>3275</th>\n",
       "      <td>7.874671</td>\n",
       "      <td>195.102299</td>\n",
       "      <td>17404.177061</td>\n",
       "      <td>7.509306</td>\n",
       "      <td>NaN</td>\n",
       "      <td>327.459760</td>\n",
       "      <td>16.140368</td>\n",
       "      <td>78.698446</td>\n",
       "      <td>2.309149</td>\n",
       "      <td>1</td>\n",
       "    </tr>\n",
       "  </tbody>\n",
       "</table>\n",
       "<p>3276 rows × 10 columns</p>\n",
       "</div>"
      ],
      "text/plain": [
       "            ph    Hardness        Solids  Chloramines     Sulfate  \\\n",
       "0          NaN  204.890455  20791.318981     7.300212  368.516441   \n",
       "1     3.716080  129.422921  18630.057858     6.635246         NaN   \n",
       "2     8.099124  224.236259  19909.541732     9.275884         NaN   \n",
       "3     8.316766  214.373394  22018.417441     8.059332  356.886136   \n",
       "4     9.092223  181.101509  17978.986339     6.546600  310.135738   \n",
       "...        ...         ...           ...          ...         ...   \n",
       "3271  4.668102  193.681735  47580.991603     7.166639  359.948574   \n",
       "3272  7.808856  193.553212  17329.802160     8.061362         NaN   \n",
       "3273  9.419510  175.762646  33155.578218     7.350233         NaN   \n",
       "3274  5.126763  230.603758  11983.869376     6.303357         NaN   \n",
       "3275  7.874671  195.102299  17404.177061     7.509306         NaN   \n",
       "\n",
       "      Conductivity  Organic_carbon  Trihalomethanes  Turbidity  Potability  \n",
       "0       564.308654       10.379783        86.990970   2.963135           0  \n",
       "1       592.885359       15.180013        56.329076   4.500656           0  \n",
       "2       418.606213       16.868637        66.420093   3.055934           0  \n",
       "3       363.266516       18.436524       100.341674   4.628771           0  \n",
       "4       398.410813       11.558279        31.997993   4.075075           0  \n",
       "...            ...             ...              ...        ...         ...  \n",
       "3271    526.424171       13.894419        66.687695   4.435821           1  \n",
       "3272    392.449580       19.903225              NaN   2.798243           1  \n",
       "3273    432.044783       11.039070        69.845400   3.298875           1  \n",
       "3274    402.883113       11.168946        77.488213   4.708658           1  \n",
       "3275    327.459760       16.140368        78.698446   2.309149           1  \n",
       "\n",
       "[3276 rows x 10 columns]"
      ]
     },
     "execution_count": 3,
     "metadata": {},
     "output_type": "execute_result"
    }
   ],
   "source": [
    "df = pd.read_csv ('../input/water-potability/water_potability.csv')\n",
    "df"
   ]
  },
  {
   "cell_type": "markdown",
   "id": "e2e7b012",
   "metadata": {
    "cell_id": "00007-5ae5df5c-ec6a-4e01-a59e-cfa20d69184e",
    "deepnote_cell_type": "text-cell-h3",
    "papermill": {
     "duration": 0.032169,
     "end_time": "2021-11-17T08:56:30.284112",
     "exception": false,
     "start_time": "2021-11-17T08:56:30.251943",
     "status": "completed"
    },
    "tags": []
   },
   "source": [
    "### We check for null values"
   ]
  },
  {
   "cell_type": "code",
   "execution_count": 4,
   "id": "e0f929d8",
   "metadata": {
    "cell_id": "00007-a500cc14-0a87-42d2-a0dd-424f76b5d870",
    "deepnote_cell_type": "code",
    "deepnote_to_be_reexecuted": false,
    "execution": {
     "iopub.execute_input": "2021-11-17T08:56:30.352765Z",
     "iopub.status.busy": "2021-11-17T08:56:30.352073Z",
     "iopub.status.idle": "2021-11-17T08:56:30.358221Z",
     "shell.execute_reply": "2021-11-17T08:56:30.358790Z",
     "shell.execute_reply.started": "2021-11-17T08:55:00.800977Z"
    },
    "execution_millis": 6,
    "execution_start": 1625755186842,
    "papermill": {
     "duration": 0.042987,
     "end_time": "2021-11-17T08:56:30.358971",
     "exception": false,
     "start_time": "2021-11-17T08:56:30.315984",
     "status": "completed"
    },
    "source_hash": "f3dd26da",
    "tags": []
   },
   "outputs": [
    {
     "data": {
      "text/plain": [
       "ph                 491\n",
       "Hardness             0\n",
       "Solids               0\n",
       "Chloramines          0\n",
       "Sulfate            781\n",
       "Conductivity         0\n",
       "Organic_carbon       0\n",
       "Trihalomethanes    162\n",
       "Turbidity            0\n",
       "Potability           0\n",
       "dtype: int64"
      ]
     },
     "execution_count": 4,
     "metadata": {},
     "output_type": "execute_result"
    }
   ],
   "source": [
    "df.isnull().sum()"
   ]
  },
  {
   "cell_type": "code",
   "execution_count": 5,
   "id": "92f3e790",
   "metadata": {
    "execution": {
     "iopub.execute_input": "2021-11-17T08:56:30.428113Z",
     "iopub.status.busy": "2021-11-17T08:56:30.427298Z",
     "iopub.status.idle": "2021-11-17T08:56:30.432124Z",
     "shell.execute_reply": "2021-11-17T08:56:30.432727Z",
     "shell.execute_reply.started": "2021-11-17T08:55:00.813901Z"
    },
    "papermill": {
     "duration": 0.041733,
     "end_time": "2021-11-17T08:56:30.432902",
     "exception": false,
     "start_time": "2021-11-17T08:56:30.391169",
     "status": "completed"
    },
    "tags": []
   },
   "outputs": [
    {
     "data": {
      "text/plain": [
       "(3276, 10)"
      ]
     },
     "execution_count": 5,
     "metadata": {},
     "output_type": "execute_result"
    }
   ],
   "source": [
    "df.shape"
   ]
  },
  {
   "cell_type": "code",
   "execution_count": 6,
   "id": "0bcd728c",
   "metadata": {
    "execution": {
     "iopub.execute_input": "2021-11-17T08:56:30.502047Z",
     "iopub.status.busy": "2021-11-17T08:56:30.501389Z",
     "iopub.status.idle": "2021-11-17T08:56:30.506381Z",
     "shell.execute_reply": "2021-11-17T08:56:30.506997Z",
     "shell.execute_reply.started": "2021-11-17T08:55:00.828085Z"
    },
    "papermill": {
     "duration": 0.04063,
     "end_time": "2021-11-17T08:56:30.507183",
     "exception": false,
     "start_time": "2021-11-17T08:56:30.466553",
     "status": "completed"
    },
    "tags": []
   },
   "outputs": [
    {
     "data": {
      "text/plain": [
       "Index(['ph', 'Hardness', 'Solids', 'Chloramines', 'Sulfate', 'Conductivity',\n",
       "       'Organic_carbon', 'Trihalomethanes', 'Turbidity', 'Potability'],\n",
       "      dtype='object')"
      ]
     },
     "execution_count": 6,
     "metadata": {},
     "output_type": "execute_result"
    }
   ],
   "source": [
    "df.columns"
   ]
  },
  {
   "cell_type": "code",
   "execution_count": 7,
   "id": "2298bb0d",
   "metadata": {
    "execution": {
     "iopub.execute_input": "2021-11-17T08:56:30.577748Z",
     "iopub.status.busy": "2021-11-17T08:56:30.577086Z",
     "iopub.status.idle": "2021-11-17T08:56:30.598982Z",
     "shell.execute_reply": "2021-11-17T08:56:30.599881Z",
     "shell.execute_reply.started": "2021-11-17T08:55:00.843878Z"
    },
    "papermill": {
     "duration": 0.059268,
     "end_time": "2021-11-17T08:56:30.600114",
     "exception": false,
     "start_time": "2021-11-17T08:56:30.540846",
     "status": "completed"
    },
    "tags": []
   },
   "outputs": [
    {
     "name": "stdout",
     "output_type": "stream",
     "text": [
      "<class 'pandas.core.frame.DataFrame'>\n",
      "RangeIndex: 3276 entries, 0 to 3275\n",
      "Data columns (total 10 columns):\n",
      " #   Column           Non-Null Count  Dtype  \n",
      "---  ------           --------------  -----  \n",
      " 0   ph               2785 non-null   float64\n",
      " 1   Hardness         3276 non-null   float64\n",
      " 2   Solids           3276 non-null   float64\n",
      " 3   Chloramines      3276 non-null   float64\n",
      " 4   Sulfate          2495 non-null   float64\n",
      " 5   Conductivity     3276 non-null   float64\n",
      " 6   Organic_carbon   3276 non-null   float64\n",
      " 7   Trihalomethanes  3114 non-null   float64\n",
      " 8   Turbidity        3276 non-null   float64\n",
      " 9   Potability       3276 non-null   int64  \n",
      "dtypes: float64(9), int64(1)\n",
      "memory usage: 256.1 KB\n"
     ]
    }
   ],
   "source": [
    "df.info()"
   ]
  },
  {
   "cell_type": "markdown",
   "id": "64589a79",
   "metadata": {
    "cell_id": "00009-2d66a30f-cea6-4f91-8fef-a49c16816341",
    "deepnote_cell_type": "text-cell-h3",
    "papermill": {
     "duration": 0.03289,
     "end_time": "2021-11-17T08:56:30.667296",
     "exception": false,
     "start_time": "2021-11-17T08:56:30.634406",
     "status": "completed"
    },
    "tags": []
   },
   "source": [
    "### There are null values, let's check which:"
   ]
  },
  {
   "cell_type": "code",
   "execution_count": 8,
   "id": "8409dec7",
   "metadata": {
    "cell_id": "00009-d02bcca3-f920-4610-b291-8135c330ad33",
    "deepnote_cell_type": "code",
    "deepnote_to_be_reexecuted": false,
    "execution": {
     "iopub.execute_input": "2021-11-17T08:56:30.736532Z",
     "iopub.status.busy": "2021-11-17T08:56:30.735913Z",
     "iopub.status.idle": "2021-11-17T08:56:30.759024Z",
     "shell.execute_reply": "2021-11-17T08:56:30.758345Z",
     "shell.execute_reply.started": "2021-11-17T08:55:00.875568Z"
    },
    "execution_millis": 74,
    "execution_start": 1625755186843,
    "papermill": {
     "duration": 0.058842,
     "end_time": "2021-11-17T08:56:30.759170",
     "exception": false,
     "start_time": "2021-11-17T08:56:30.700328",
     "status": "completed"
    },
    "source_hash": "1833a94f",
    "tags": []
   },
   "outputs": [
    {
     "data": {
      "text/html": [
       "<div>\n",
       "<style scoped>\n",
       "    .dataframe tbody tr th:only-of-type {\n",
       "        vertical-align: middle;\n",
       "    }\n",
       "\n",
       "    .dataframe tbody tr th {\n",
       "        vertical-align: top;\n",
       "    }\n",
       "\n",
       "    .dataframe thead th {\n",
       "        text-align: right;\n",
       "    }\n",
       "</style>\n",
       "<table border=\"1\" class=\"dataframe\">\n",
       "  <thead>\n",
       "    <tr style=\"text-align: right;\">\n",
       "      <th></th>\n",
       "      <th>ph</th>\n",
       "      <th>Hardness</th>\n",
       "      <th>Solids</th>\n",
       "      <th>Chloramines</th>\n",
       "      <th>Sulfate</th>\n",
       "      <th>Conductivity</th>\n",
       "      <th>Organic_carbon</th>\n",
       "      <th>Trihalomethanes</th>\n",
       "      <th>Turbidity</th>\n",
       "      <th>Potability</th>\n",
       "    </tr>\n",
       "  </thead>\n",
       "  <tbody>\n",
       "    <tr>\n",
       "      <th>62</th>\n",
       "      <td>NaN</td>\n",
       "      <td>229.485694</td>\n",
       "      <td>35729.692709</td>\n",
       "      <td>8.810843</td>\n",
       "      <td>384.943779</td>\n",
       "      <td>296.397547</td>\n",
       "      <td>16.927092</td>\n",
       "      <td>NaN</td>\n",
       "      <td>3.855602</td>\n",
       "      <td>0</td>\n",
       "    </tr>\n",
       "    <tr>\n",
       "      <th>81</th>\n",
       "      <td>5.519126</td>\n",
       "      <td>168.728583</td>\n",
       "      <td>12531.601921</td>\n",
       "      <td>7.730723</td>\n",
       "      <td>NaN</td>\n",
       "      <td>443.570372</td>\n",
       "      <td>18.099078</td>\n",
       "      <td>NaN</td>\n",
       "      <td>3.758996</td>\n",
       "      <td>0</td>\n",
       "    </tr>\n",
       "    <tr>\n",
       "      <th>110</th>\n",
       "      <td>9.286155</td>\n",
       "      <td>222.661551</td>\n",
       "      <td>12311.268366</td>\n",
       "      <td>7.289866</td>\n",
       "      <td>332.239359</td>\n",
       "      <td>353.740100</td>\n",
       "      <td>14.171763</td>\n",
       "      <td>NaN</td>\n",
       "      <td>5.239982</td>\n",
       "      <td>0</td>\n",
       "    </tr>\n",
       "    <tr>\n",
       "      <th>118</th>\n",
       "      <td>7.397413</td>\n",
       "      <td>122.541040</td>\n",
       "      <td>8855.114121</td>\n",
       "      <td>6.888689</td>\n",
       "      <td>241.607532</td>\n",
       "      <td>489.851600</td>\n",
       "      <td>13.365906</td>\n",
       "      <td>NaN</td>\n",
       "      <td>3.149158</td>\n",
       "      <td>0</td>\n",
       "    </tr>\n",
       "    <tr>\n",
       "      <th>119</th>\n",
       "      <td>7.812804</td>\n",
       "      <td>196.583886</td>\n",
       "      <td>42550.841816</td>\n",
       "      <td>7.334648</td>\n",
       "      <td>NaN</td>\n",
       "      <td>442.545775</td>\n",
       "      <td>14.666917</td>\n",
       "      <td>NaN</td>\n",
       "      <td>6.204846</td>\n",
       "      <td>0</td>\n",
       "    </tr>\n",
       "    <tr>\n",
       "      <th>...</th>\n",
       "      <td>...</td>\n",
       "      <td>...</td>\n",
       "      <td>...</td>\n",
       "      <td>...</td>\n",
       "      <td>...</td>\n",
       "      <td>...</td>\n",
       "      <td>...</td>\n",
       "      <td>...</td>\n",
       "      <td>...</td>\n",
       "      <td>...</td>\n",
       "    </tr>\n",
       "    <tr>\n",
       "      <th>3174</th>\n",
       "      <td>6.698154</td>\n",
       "      <td>198.286268</td>\n",
       "      <td>34675.862845</td>\n",
       "      <td>6.263602</td>\n",
       "      <td>360.232834</td>\n",
       "      <td>430.935009</td>\n",
       "      <td>12.176678</td>\n",
       "      <td>NaN</td>\n",
       "      <td>3.758180</td>\n",
       "      <td>1</td>\n",
       "    </tr>\n",
       "    <tr>\n",
       "      <th>3185</th>\n",
       "      <td>6.110022</td>\n",
       "      <td>234.800957</td>\n",
       "      <td>16663.539074</td>\n",
       "      <td>5.984536</td>\n",
       "      <td>348.055211</td>\n",
       "      <td>437.892115</td>\n",
       "      <td>10.059523</td>\n",
       "      <td>NaN</td>\n",
       "      <td>2.817780</td>\n",
       "      <td>1</td>\n",
       "    </tr>\n",
       "    <tr>\n",
       "      <th>3219</th>\n",
       "      <td>6.417716</td>\n",
       "      <td>209.702425</td>\n",
       "      <td>31974.481631</td>\n",
       "      <td>7.263425</td>\n",
       "      <td>321.382124</td>\n",
       "      <td>289.450118</td>\n",
       "      <td>11.369071</td>\n",
       "      <td>NaN</td>\n",
       "      <td>4.210327</td>\n",
       "      <td>1</td>\n",
       "    </tr>\n",
       "    <tr>\n",
       "      <th>3259</th>\n",
       "      <td>9.271355</td>\n",
       "      <td>181.259617</td>\n",
       "      <td>16540.979048</td>\n",
       "      <td>7.022499</td>\n",
       "      <td>309.238865</td>\n",
       "      <td>487.692788</td>\n",
       "      <td>13.228441</td>\n",
       "      <td>NaN</td>\n",
       "      <td>4.333953</td>\n",
       "      <td>1</td>\n",
       "    </tr>\n",
       "    <tr>\n",
       "      <th>3272</th>\n",
       "      <td>7.808856</td>\n",
       "      <td>193.553212</td>\n",
       "      <td>17329.802160</td>\n",
       "      <td>8.061362</td>\n",
       "      <td>NaN</td>\n",
       "      <td>392.449580</td>\n",
       "      <td>19.903225</td>\n",
       "      <td>NaN</td>\n",
       "      <td>2.798243</td>\n",
       "      <td>1</td>\n",
       "    </tr>\n",
       "  </tbody>\n",
       "</table>\n",
       "<p>162 rows × 10 columns</p>\n",
       "</div>"
      ],
      "text/plain": [
       "            ph    Hardness        Solids  Chloramines     Sulfate  \\\n",
       "62         NaN  229.485694  35729.692709     8.810843  384.943779   \n",
       "81    5.519126  168.728583  12531.601921     7.730723         NaN   \n",
       "110   9.286155  222.661551  12311.268366     7.289866  332.239359   \n",
       "118   7.397413  122.541040   8855.114121     6.888689  241.607532   \n",
       "119   7.812804  196.583886  42550.841816     7.334648         NaN   \n",
       "...        ...         ...           ...          ...         ...   \n",
       "3174  6.698154  198.286268  34675.862845     6.263602  360.232834   \n",
       "3185  6.110022  234.800957  16663.539074     5.984536  348.055211   \n",
       "3219  6.417716  209.702425  31974.481631     7.263425  321.382124   \n",
       "3259  9.271355  181.259617  16540.979048     7.022499  309.238865   \n",
       "3272  7.808856  193.553212  17329.802160     8.061362         NaN   \n",
       "\n",
       "      Conductivity  Organic_carbon  Trihalomethanes  Turbidity  Potability  \n",
       "62      296.397547       16.927092              NaN   3.855602           0  \n",
       "81      443.570372       18.099078              NaN   3.758996           0  \n",
       "110     353.740100       14.171763              NaN   5.239982           0  \n",
       "118     489.851600       13.365906              NaN   3.149158           0  \n",
       "119     442.545775       14.666917              NaN   6.204846           0  \n",
       "...            ...             ...              ...        ...         ...  \n",
       "3174    430.935009       12.176678              NaN   3.758180           1  \n",
       "3185    437.892115       10.059523              NaN   2.817780           1  \n",
       "3219    289.450118       11.369071              NaN   4.210327           1  \n",
       "3259    487.692788       13.228441              NaN   4.333953           1  \n",
       "3272    392.449580       19.903225              NaN   2.798243           1  \n",
       "\n",
       "[162 rows x 10 columns]"
      ]
     },
     "execution_count": 8,
     "metadata": {},
     "output_type": "execute_result"
    }
   ],
   "source": [
    "df[df['Sulfate'].isnull()]\n",
    "df[df['ph'].isnull()]\n",
    "df[df['Trihalomethanes'].isnull()]"
   ]
  },
  {
   "cell_type": "markdown",
   "id": "e717c6c1",
   "metadata": {
    "cell_id": "00011-bbbb7360-3ef0-427a-9579-8655e7a2e86f",
    "deepnote_cell_type": "text-cell-h3",
    "papermill": {
     "duration": 0.033376,
     "end_time": "2021-11-17T08:56:30.826332",
     "exception": false,
     "start_time": "2021-11-17T08:56:30.792956",
     "status": "completed"
    },
    "tags": []
   },
   "source": [
    "### We replace them with the mean"
   ]
  },
  {
   "cell_type": "code",
   "execution_count": 9,
   "id": "49338f2a",
   "metadata": {
    "cell_id": "00011-6638d2bb-749d-4dcd-8b17-8f7b54a89e9b",
    "deepnote_cell_type": "code",
    "deepnote_to_be_reexecuted": false,
    "execution": {
     "iopub.execute_input": "2021-11-17T08:56:30.902878Z",
     "iopub.status.busy": "2021-11-17T08:56:30.902157Z",
     "iopub.status.idle": "2021-11-17T08:56:30.907837Z",
     "shell.execute_reply": "2021-11-17T08:56:30.908375Z",
     "shell.execute_reply.started": "2021-11-17T08:55:00.904579Z"
    },
    "execution_millis": 1,
    "execution_start": 1625755186909,
    "papermill": {
     "duration": 0.048418,
     "end_time": "2021-11-17T08:56:30.908546",
     "exception": false,
     "start_time": "2021-11-17T08:56:30.860128",
     "status": "completed"
    },
    "source_hash": "b9755d81",
    "tags": []
   },
   "outputs": [],
   "source": [
    "df['ph']=df['ph'].fillna(df.groupby(['Potability'])['ph'].transform('mean'))\n",
    "df['Sulfate']=df['Sulfate'].fillna(df.groupby(['Potability'])['Sulfate'].transform('mean'))\n",
    "df['Trihalomethanes']=df['Trihalomethanes'].fillna(df.groupby(['Potability'])['Trihalomethanes'].transform('mean'))"
   ]
  },
  {
   "cell_type": "code",
   "execution_count": 10,
   "id": "e436cc7c",
   "metadata": {
    "cell_id": "00013-cd06a5a1-9aed-4f75-bffc-288640b602c3",
    "deepnote_cell_type": "code",
    "deepnote_to_be_reexecuted": false,
    "execution": {
     "iopub.execute_input": "2021-11-17T08:56:30.979796Z",
     "iopub.status.busy": "2021-11-17T08:56:30.979117Z",
     "iopub.status.idle": "2021-11-17T08:56:30.986251Z",
     "shell.execute_reply": "2021-11-17T08:56:30.986847Z",
     "shell.execute_reply.started": "2021-11-17T08:55:00.922763Z"
    },
    "execution_millis": 7,
    "execution_start": 1625755186962,
    "papermill": {
     "duration": 0.044145,
     "end_time": "2021-11-17T08:56:30.987026",
     "exception": false,
     "start_time": "2021-11-17T08:56:30.942881",
     "status": "completed"
    },
    "source_hash": "d794f466",
    "tags": []
   },
   "outputs": [
    {
     "data": {
      "text/plain": [
       "ph                 0\n",
       "Hardness           0\n",
       "Solids             0\n",
       "Chloramines        0\n",
       "Sulfate            0\n",
       "Conductivity       0\n",
       "Organic_carbon     0\n",
       "Trihalomethanes    0\n",
       "Turbidity          0\n",
       "Potability         0\n",
       "dtype: int64"
      ]
     },
     "execution_count": 10,
     "metadata": {},
     "output_type": "execute_result"
    }
   ],
   "source": [
    "df.isna().sum()"
   ]
  },
  {
   "cell_type": "markdown",
   "id": "685c8a35",
   "metadata": {
    "cell_id": "00014-6c7de2aa-5cba-4741-bae5-b0f58b945c6b",
    "deepnote_cell_type": "text-cell-h3",
    "papermill": {
     "duration": 0.035072,
     "end_time": "2021-11-17T08:56:31.057124",
     "exception": false,
     "start_time": "2021-11-17T08:56:31.022052",
     "status": "completed"
    },
    "tags": []
   },
   "source": [
    "### No more null values remain."
   ]
  },
  {
   "cell_type": "markdown",
   "id": "6a968c6f",
   "metadata": {
    "cell_id": "00019-6991b8b0-92a1-42e1-955b-09389e7a5f78",
    "deepnote_cell_type": "text-cell-p",
    "papermill": {
     "duration": 0.033851,
     "end_time": "2021-11-17T08:56:31.125295",
     "exception": false,
     "start_time": "2021-11-17T08:56:31.091444",
     "status": "completed"
    },
    "tags": []
   },
   "source": [
    "Data preprocessing is complete"
   ]
  },
  {
   "cell_type": "code",
   "execution_count": 11,
   "id": "97d710a0",
   "metadata": {
    "execution": {
     "iopub.execute_input": "2021-11-17T08:56:31.197149Z",
     "iopub.status.busy": "2021-11-17T08:56:31.196513Z",
     "iopub.status.idle": "2021-11-17T08:56:31.202608Z",
     "shell.execute_reply": "2021-11-17T08:56:31.203236Z",
     "shell.execute_reply.started": "2021-11-17T08:55:00.946646Z"
    },
    "papermill": {
     "duration": 0.043993,
     "end_time": "2021-11-17T08:56:31.203408",
     "exception": false,
     "start_time": "2021-11-17T08:56:31.159415",
     "status": "completed"
    },
    "tags": []
   },
   "outputs": [
    {
     "data": {
      "text/plain": [
       "0    1998\n",
       "1    1278\n",
       "Name: Potability, dtype: int64"
      ]
     },
     "execution_count": 11,
     "metadata": {},
     "output_type": "execute_result"
    }
   ],
   "source": [
    "df['Potability'].value_counts()"
   ]
  },
  {
   "cell_type": "code",
   "execution_count": 12,
   "id": "082d99dd",
   "metadata": {
    "execution": {
     "iopub.execute_input": "2021-11-17T08:56:31.276591Z",
     "iopub.status.busy": "2021-11-17T08:56:31.275945Z",
     "iopub.status.idle": "2021-11-17T08:56:32.251640Z",
     "shell.execute_reply": "2021-11-17T08:56:32.252181Z",
     "shell.execute_reply.started": "2021-11-17T08:55:00.961973Z"
    },
    "papermill": {
     "duration": 1.013817,
     "end_time": "2021-11-17T08:56:32.252358",
     "exception": false,
     "start_time": "2021-11-17T08:56:31.238541",
     "status": "completed"
    },
    "tags": []
   },
   "outputs": [
    {
     "data": {
      "image/png": "[encoded data removed]",
      "text/plain": [
       "<Figure size 1440x1440 with 2 Axes>"
      ]
     },
     "metadata": {},
     "output_type": "display_data"
    }
   ],
   "source": [
    "corr = df.corr().round(2)\n",
    "\n",
    "# Mask for the upper triangle\n",
    "mask = np.zeros_like(corr, dtype=np.bool)\n",
    "mask[np.triu_indices_from(mask)] = True\n",
    "\n",
    "# Set figure size\n",
    "f, ax = plt.subplots(figsize=(20, 20))\n",
    "\n",
    "# Define custom colormap\n",
    "cmap = sns.diverging_palette(220, 10, as_cmap=True)\n",
    "\n",
    "# Draw the heatmap\n",
    "sns.heatmap(corr, mask=mask, cmap=cmap, vmin=-1, vmax=1, center=0,\n",
    "            square=True, linewidths=.5, cbar_kws={\"shrink\": .5}, annot=True)\n",
    "\n",
    "plt.tight_layout()"
   ]
  },
  {
   "cell_type": "code",
   "execution_count": 13,
   "id": "c6879db0",
   "metadata": {
    "execution": {
     "iopub.execute_input": "2021-11-17T08:56:32.329119Z",
     "iopub.status.busy": "2021-11-17T08:56:32.328427Z",
     "iopub.status.idle": "2021-11-17T08:56:32.336627Z",
     "shell.execute_reply": "2021-11-17T08:56:32.337180Z",
     "shell.execute_reply.started": "2021-11-17T08:55:01.994854Z"
    },
    "papermill": {
     "duration": 0.048423,
     "end_time": "2021-11-17T08:56:32.337368",
     "exception": false,
     "start_time": "2021-11-17T08:56:32.288945",
     "status": "completed"
    },
    "tags": []
   },
   "outputs": [],
   "source": [
    "from statsmodels.stats.outliers_influence import variance_inflation_factor\n",
    "cols=['Potability']\n",
    "X=df.drop(cols, axis=1)"
   ]
  },
  {
   "cell_type": "code",
   "execution_count": 14,
   "id": "457077db",
   "metadata": {
    "execution": {
     "iopub.execute_input": "2021-11-17T08:56:32.413888Z",
     "iopub.status.busy": "2021-11-17T08:56:32.413252Z",
     "iopub.status.idle": "2021-11-17T08:56:32.467700Z",
     "shell.execute_reply": "2021-11-17T08:56:32.469184Z",
     "shell.execute_reply.started": "2021-11-17T08:55:02.004570Z"
    },
    "papermill": {
     "duration": 0.095525,
     "end_time": "2021-11-17T08:56:32.469490",
     "exception": false,
     "start_time": "2021-11-17T08:56:32.373965",
     "status": "completed"
    },
    "tags": []
   },
   "outputs": [
    {
     "name": "stdout",
     "output_type": "stream",
     "text": [
      "           feature        VIF\n",
      "0               ph  22.852476\n",
      "1         Hardness  30.840673\n",
      "2           Solids   6.969494\n",
      "3      Chloramines  19.583666\n",
      "4          Sulfate  56.235910\n",
      "5     Conductivity  25.978045\n",
      "6   Organic_carbon  18.697147\n",
      "7  Trihalomethanes  17.365660\n",
      "8        Turbidity  24.131537\n"
     ]
    }
   ],
   "source": [
    "vif_data = pd.DataFrame()\n",
    "vif_data[\"feature\"] = X.columns\n",
    "vif_data[\"VIF\"] = [variance_inflation_factor(X.values, i)\n",
    "                          for i in range(len(X.columns))]\n",
    "print(vif_data)"
   ]
  },
  {
   "cell_type": "markdown",
   "id": "4dad5833",
   "metadata": {
    "cell_id": "00005-a90bbc8f-ac78-4e2e-bcaf-4f3517484437",
    "deepnote_cell_type": "text-cell-h1",
    "papermill": {
     "duration": 0.054093,
     "end_time": "2021-11-17T08:56:32.595053",
     "exception": false,
     "start_time": "2021-11-17T08:56:32.540960",
     "status": "completed"
    },
    "tags": []
   },
   "source": [
    "# Part 1: Data visualtization"
   ]
  },
  {
   "cell_type": "code",
   "execution_count": 15,
   "id": "9240c7e0",
   "metadata": {
    "cell_id": "00018-d524f2c5-dd91-4dc4-b19f-1bf04ebcb1c5",
    "deepnote_cell_type": "code",
    "deepnote_to_be_reexecuted": false,
    "execution": {
     "iopub.execute_input": "2021-11-17T08:56:32.674302Z",
     "iopub.status.busy": "2021-11-17T08:56:32.673611Z",
     "iopub.status.idle": "2021-11-17T08:56:32.680303Z",
     "shell.execute_reply": "2021-11-17T08:56:32.679730Z",
     "shell.execute_reply.started": "2021-11-17T08:55:02.063967Z"
    },
    "execution_millis": 0,
    "execution_start": 1625755186963,
    "papermill": {
     "duration": 0.048647,
     "end_time": "2021-11-17T08:56:32.680442",
     "exception": false,
     "start_time": "2021-11-17T08:56:32.631795",
     "status": "completed"
    },
    "source_hash": "787d1484",
    "tags": []
   },
   "outputs": [],
   "source": [
    "x = df.drop(\"Potability\", axis=1)\n",
    "y = df.Potability\n",
    "X_train , X_test , y_train , y_test = train_test_split(x , y, test_size=0.25, random_state=42)"
   ]
  },
  {
   "cell_type": "markdown",
   "id": "4b0ab203",
   "metadata": {
    "papermill": {
     "duration": 0.036514,
     "end_time": "2021-11-17T08:56:32.753880",
     "exception": false,
     "start_time": "2021-11-17T08:56:32.717366",
     "status": "completed"
    },
    "tags": []
   },
   "source": [
    "# Logistic Regression"
   ]
  },
  {
   "cell_type": "code",
   "execution_count": 16,
   "id": "10a03746",
   "metadata": {
    "execution": {
     "iopub.execute_input": "2021-11-17T08:56:32.831856Z",
     "iopub.status.busy": "2021-11-17T08:56:32.830796Z",
     "iopub.status.idle": "2021-11-17T08:56:32.834928Z",
     "shell.execute_reply": "2021-11-17T08:56:32.835414Z",
     "shell.execute_reply.started": "2021-11-17T08:55:02.080049Z"
    },
    "papermill": {
     "duration": 0.044947,
     "end_time": "2021-11-17T08:56:32.835593",
     "exception": false,
     "start_time": "2021-11-17T08:56:32.790646",
     "status": "completed"
    },
    "tags": []
   },
   "outputs": [],
   "source": [
    "from sklearn import metrics\n",
    "from sklearn.linear_model import LogisticRegression\n",
    "from sklearn.metrics import classification_report, confusion_matrix,ConfusionMatrixDisplay"
   ]
  },
  {
   "cell_type": "code",
   "execution_count": 17,
   "id": "035215a1",
   "metadata": {
    "execution": {
     "iopub.execute_input": "2021-11-17T08:56:32.914591Z",
     "iopub.status.busy": "2021-11-17T08:56:32.913550Z",
     "iopub.status.idle": "2021-11-17T08:56:32.916822Z",
     "shell.execute_reply": "2021-11-17T08:56:32.917275Z",
     "shell.execute_reply.started": "2021-11-17T08:55:02.088496Z"
    },
    "papermill": {
     "duration": 0.044903,
     "end_time": "2021-11-17T08:56:32.917449",
     "exception": false,
     "start_time": "2021-11-17T08:56:32.872546",
     "status": "completed"
    },
    "tags": []
   },
   "outputs": [],
   "source": [
    "import statsmodels.api as sm\n",
    "import statsmodels.formula.api as smf"
   ]
  },
  {
   "cell_type": "code",
   "execution_count": 18,
   "id": "ae5393b8",
   "metadata": {
    "execution": {
     "iopub.execute_input": "2021-11-17T08:56:32.995252Z",
     "iopub.status.busy": "2021-11-17T08:56:32.994234Z",
     "iopub.status.idle": "2021-11-17T08:56:33.047928Z",
     "shell.execute_reply": "2021-11-17T08:56:33.048816Z",
     "shell.execute_reply.started": "2021-11-17T08:55:02.100872Z"
    },
    "papermill": {
     "duration": 0.094839,
     "end_time": "2021-11-17T08:56:33.049100",
     "exception": false,
     "start_time": "2021-11-17T08:56:32.954261",
     "status": "completed"
    },
    "tags": []
   },
   "outputs": [
    {
     "data": {
      "text/plain": [
       "LogisticRegression()"
      ]
     },
     "execution_count": 18,
     "metadata": {},
     "output_type": "execute_result"
    }
   ],
   "source": [
    "lr=LogisticRegression()\n",
    "lr.fit(X_train, y_train)"
   ]
  },
  {
   "cell_type": "code",
   "execution_count": 19,
   "id": "fa72916c",
   "metadata": {
    "execution": {
     "iopub.execute_input": "2021-11-17T08:56:33.184229Z",
     "iopub.status.busy": "2021-11-17T08:56:33.182363Z",
     "iopub.status.idle": "2021-11-17T08:56:33.186933Z",
     "shell.execute_reply": "2021-11-17T08:56:33.188006Z",
     "shell.execute_reply.started": "2021-11-17T08:55:02.167190Z"
    },
    "papermill": {
     "duration": 0.068321,
     "end_time": "2021-11-17T08:56:33.188290",
     "exception": false,
     "start_time": "2021-11-17T08:56:33.119969",
     "status": "completed"
    },
    "tags": []
   },
   "outputs": [],
   "source": [
    "y_pred=lr.predict(X_train)\n"
   ]
  },
  {
   "cell_type": "code",
   "execution_count": 20,
   "id": "b4af1c69",
   "metadata": {
    "execution": {
     "iopub.execute_input": "2021-11-17T08:56:33.322855Z",
     "iopub.status.busy": "2021-11-17T08:56:33.322139Z",
     "iopub.status.idle": "2021-11-17T08:56:33.340932Z",
     "shell.execute_reply": "2021-11-17T08:56:33.341480Z",
     "shell.execute_reply.started": "2021-11-17T08:55:02.177516Z"
    },
    "papermill": {
     "duration": 0.08417,
     "end_time": "2021-11-17T08:56:33.341650",
     "exception": false,
     "start_time": "2021-11-17T08:56:33.257480",
     "status": "completed"
    },
    "tags": []
   },
   "outputs": [
    {
     "name": "stdout",
     "output_type": "stream",
     "text": [
      "Accuracy Score:- 0.6056166056166056\n",
      "F1 Score:- 0.0\n",
      "Average Precision Score:- 0.39438339438339437\n",
      "Log Loss:- 13.621519872473936\n",
      "Precision Score:- 0.0\n",
      "Recall Score:- 0.0\n",
      "ROC-AUC Score:- 0.5\n"
     ]
    }
   ],
   "source": [
    "print(\"Accuracy Score:-\", metrics.accuracy_score(y_train, y_pred))\n",
    "print(\"F1 Score:-\", metrics.f1_score(y_train, y_pred))\n",
    "print(\"Average Precision Score:-\", metrics.average_precision_score(y_train, y_pred))\n",
    "print(\"Log Loss:-\", metrics.log_loss(y_train, y_pred))\n",
    "print(\"Precision Score:-\", metrics.precision_score(y_train, y_pred))\n",
    "print(\"Recall Score:-\", metrics.recall_score(y_train, y_pred))\n",
    "print(\"ROC-AUC Score:-\", metrics.roc_auc_score(y_train, y_pred))"
   ]
  },
  {
   "cell_type": "code",
   "execution_count": 21,
   "id": "4620872f",
   "metadata": {
    "execution": {
     "iopub.execute_input": "2021-11-17T08:56:33.420024Z",
     "iopub.status.busy": "2021-11-17T08:56:33.419378Z",
     "iopub.status.idle": "2021-11-17T08:56:33.424648Z",
     "shell.execute_reply": "2021-11-17T08:56:33.425159Z",
     "shell.execute_reply.started": "2021-11-17T08:55:02.217187Z"
    },
    "papermill": {
     "duration": 0.045905,
     "end_time": "2021-11-17T08:56:33.425328",
     "exception": false,
     "start_time": "2021-11-17T08:56:33.379423",
     "status": "completed"
    },
    "tags": []
   },
   "outputs": [],
   "source": [
    "y_test_pred=lr.predict(X_test)\n"
   ]
  },
  {
   "cell_type": "code",
   "execution_count": 22,
   "id": "1f8fcce5",
   "metadata": {
    "execution": {
     "iopub.execute_input": "2021-11-17T08:56:33.567470Z",
     "iopub.status.busy": "2021-11-17T08:56:33.566744Z",
     "iopub.status.idle": "2021-11-17T08:56:33.584378Z",
     "shell.execute_reply": "2021-11-17T08:56:33.584928Z",
     "shell.execute_reply.started": "2021-11-17T08:55:02.234541Z"
    },
    "papermill": {
     "duration": 0.059725,
     "end_time": "2021-11-17T08:56:33.585107",
     "exception": false,
     "start_time": "2021-11-17T08:56:33.525382",
     "status": "completed"
    },
    "tags": []
   },
   "outputs": [
    {
     "name": "stdout",
     "output_type": "stream",
     "text": [
      "Accuracy Score:- 0.6227106227106227\n",
      "F1 Score:- 0.0\n",
      "Average Precision Score:- 0.3772893772893773\n",
      "Log Loss:- 13.031113438372897\n",
      "Precision Score:- 0.0\n",
      "Recall Score:- 0.0\n",
      "ROC-AUC Score:- 0.5\n"
     ]
    }
   ],
   "source": [
    "lr_acc=metrics.accuracy_score(y_test, y_test_pred)\n",
    "print(\"Accuracy Score:-\",lr_acc)\n",
    "print(\"F1 Score:-\", metrics.f1_score(y_test, y_test_pred))\n",
    "print(\"Average Precision Score:-\", metrics.average_precision_score(y_test, y_test_pred))\n",
    "print(\"Log Loss:-\", metrics.log_loss(y_test, y_test_pred))\n",
    "print(\"Precision Score:-\", metrics.precision_score(y_test, y_test_pred))\n",
    "print(\"Recall Score:-\", metrics.recall_score(y_test, y_test_pred))\n",
    "print(\"ROC-AUC Score:-\", metrics.roc_auc_score(y_test, y_test_pred))"
   ]
  },
  {
   "cell_type": "code",
   "execution_count": 23,
   "id": "2744042f",
   "metadata": {
    "execution": {
     "iopub.execute_input": "2021-11-17T08:56:33.668288Z",
     "iopub.status.busy": "2021-11-17T08:56:33.667241Z",
     "iopub.status.idle": "2021-11-17T08:56:33.676397Z",
     "shell.execute_reply": "2021-11-17T08:56:33.676902Z",
     "shell.execute_reply.started": "2021-11-17T08:55:02.287276Z"
    },
    "papermill": {
     "duration": 0.051693,
     "end_time": "2021-11-17T08:56:33.677089",
     "exception": false,
     "start_time": "2021-11-17T08:56:33.625396",
     "status": "completed"
    },
    "tags": []
   },
   "outputs": [],
   "source": [
    "from sklearn.metrics import roc_auc_score\n",
    "from sklearn.metrics import confusion_matrix\n",
    "from sklearn.metrics import confusion_matrix,classification_report,precision_score, plot_roc_curve, plot_precision_recall_curve, balanced_accuracy_score\n",
    "\n",
    "def clf_scores(clf, y_predicted):\n",
    "    # Accuracy\n",
    "    acc_train = clf.score(X_train, y_train)*100\n",
    "    acc_test = clf.score(X_test, y_test)*100\n",
    "    \n",
    "    roc = roc_auc_score(y_test, y_predicted)*100 \n",
    "    tn, fp, fn, tp = confusion_matrix(y_test, y_predicted).ravel()\n",
    "    cm = confusion_matrix(y_test, y_predicted)\n",
    "    correct = tp + tn\n",
    "    incorrect = fp + fn\n",
    "    d=[acc_train, acc_test,  roc, correct, incorrect,  cm]\n",
    "    index=[\"acc_train\",'Test Accuracy',\"Roc Score\",\"COrrect\",\"Incorrect\",\"Confusion\"  ]\n",
    "    output=pd.DataFrame(data=d, index=index)\n",
    "    \n",
    "    d=sns.heatmap(cm, annot=True)\n",
    "    dd=plot_roc_curve(clf, X_train, y_train)\n",
    "    ddd=plot_precision_recall_curve(clf, X_train, y_train)\n",
    "\n",
    "    return output,d, dd, ddd"
   ]
  },
  {
   "cell_type": "code",
   "execution_count": 24,
   "id": "18e0fd53",
   "metadata": {
    "execution": {
     "iopub.execute_input": "2021-11-17T08:56:33.762087Z",
     "iopub.status.busy": "2021-11-17T08:56:33.761099Z",
     "iopub.status.idle": "2021-11-17T08:56:34.754497Z",
     "shell.execute_reply": "2021-11-17T08:56:34.755048Z",
     "shell.execute_reply.started": "2021-11-17T08:55:02.302680Z"
    },
    "papermill": {
     "duration": 1.040042,
     "end_time": "2021-11-17T08:56:34.755291",
     "exception": false,
     "start_time": "2021-11-17T08:56:33.715249",
     "status": "completed"
    },
    "tags": []
   },
   "outputs": [
    {
     "name": "stdout",
     "output_type": "stream",
     "text": [
      "(                                  0\n",
      "acc_train                 60.561661\n",
      "Test Accuracy             62.271062\n",
      "Roc Score                      50.0\n",
      "COrrect                         510\n",
      "Incorrect                       309\n",
      "Confusion      [[510, 0], [309, 0]], <AxesSubplot:>, <sklearn.metrics._plot.roc_curve.RocCurveDisplay object at 0x7f4ac5e32ed0>, <sklearn.metrics._plot.precision_recall_curve.PrecisionRecallDisplay object at 0x7f4ac5da5690>)\n"
     ]
    },
    {
     "data": {
      "image/png": "[encoded data removed]",
      "text/plain": [
       "<Figure size 432x288 with 2 Axes>"
      ]
     },
     "metadata": {},
     "output_type": "display_data"
    },
    {
     "data": {
      "image/png": "[encoded data removed]",
      "text/plain": [
       "<Figure size 432x288 with 1 Axes>"
      ]
     },
     "metadata": {},
     "output_type": "display_data"
    },
    {
     "data": {
      "image/png": "[encoded data removed]",
      "text/plain": [
       "<Figure size 432x288 with 1 Axes>"
      ]
     },
     "metadata": {},
     "output_type": "display_data"
    }
   ],
   "source": [
    "#1. Logistic regression\n",
    "\n",
    "from sklearn.linear_model import LogisticRegression\n",
    "clf_lr = LogisticRegression(solver='liblinear')\n",
    "clf_lr.fit(X_train, y_train)\n",
    "\n",
    "Y_pred_lr = clf_lr.predict(X_test)\n",
    "print(clf_scores(clf_lr, Y_pred_lr))"
   ]
  },
  {
   "cell_type": "code",
   "execution_count": 25,
   "id": "b1bc2ad9",
   "metadata": {
    "execution": {
     "iopub.execute_input": "2021-11-17T08:56:34.877505Z",
     "iopub.status.busy": "2021-11-17T08:56:34.846342Z",
     "iopub.status.idle": "2021-11-17T08:56:36.575301Z",
     "shell.execute_reply": "2021-11-17T08:56:36.575825Z",
     "shell.execute_reply.started": "2021-11-17T08:55:03.282603Z"
    },
    "papermill": {
     "duration": 1.77917,
     "end_time": "2021-11-17T08:56:36.576010",
     "exception": false,
     "start_time": "2021-11-17T08:56:34.796840",
     "status": "completed"
    },
    "tags": []
   },
   "outputs": [
    {
     "name": "stdout",
     "output_type": "stream",
     "text": [
      "(                                     0\n",
      "acc_train                        100.0\n",
      "Test Accuracy                 80.09768\n",
      "Roc Score                    76.239292\n",
      "COrrect                            656\n",
      "Incorrect                          163\n",
      "Confusion      [[469, 41], [122, 187]], <AxesSubplot:>, <sklearn.metrics._plot.roc_curve.RocCurveDisplay object at 0x7f4ac5d09d10>, <sklearn.metrics._plot.precision_recall_curve.PrecisionRecallDisplay object at 0x7f4ac5d3d390>)\n"
     ]
    },
    {
     "data": {
      "image/png": "[encoded data removed]",
      "text/plain": [
       "<Figure size 432x288 with 2 Axes>"
      ]
     },
     "metadata": {},
     "output_type": "display_data"
    },
    {
     "data": {
      "image/png": "[encoded data removed]",
      "text/plain": [
       "<Figure size 432x288 with 1 Axes>"
      ]
     },
     "metadata": {},
     "output_type": "display_data"
    },
    {
     "data": {
      "image/png": "[encoded data removed]",
      "text/plain": [
       "<Figure size 432x288 with 1 Axes>"
      ]
     },
     "metadata": {},
     "output_type": "display_data"
    }
   ],
   "source": [
    "# 2 Random Forest\n",
    "\n",
    "from sklearn.ensemble import RandomForestClassifier\n",
    "clf_rf = RandomForestClassifier()\n",
    "clf_rf.fit(X_train, y_train)\n",
    "\n",
    "Y_pred_rf = clf_rf.predict(X_test)\n",
    "print(clf_scores(clf_rf, Y_pred_rf))"
   ]
  },
  {
   "cell_type": "code",
   "execution_count": 26,
   "id": "b79761c2",
   "metadata": {
    "execution": {
     "iopub.execute_input": "2021-11-17T08:56:36.667909Z",
     "iopub.status.busy": "2021-11-17T08:56:36.667224Z",
     "iopub.status.idle": "2021-11-17T08:56:38.474717Z",
     "shell.execute_reply": "2021-11-17T08:56:38.475250Z",
     "shell.execute_reply.started": "2021-11-17T08:55:05.075906Z"
    },
    "papermill": {
     "duration": 1.854877,
     "end_time": "2021-11-17T08:56:38.475426",
     "exception": false,
     "start_time": "2021-11-17T08:56:36.620549",
     "status": "completed"
    },
    "tags": []
   },
   "outputs": [
    {
     "name": "stdout",
     "output_type": "stream",
     "text": [
      "(                                     0\n",
      "acc_train                    85.673586\n",
      "Test Accuracy                77.899878\n",
      "Roc Score                    72.816486\n",
      "COrrect                            638\n",
      "Incorrect                          181\n",
      "Confusion      [[477, 33], [148, 161]], <AxesSubplot:>, <sklearn.metrics._plot.roc_curve.RocCurveDisplay object at 0x7f4ac5ad5ad0>, <sklearn.metrics._plot.precision_recall_curve.PrecisionRecallDisplay object at 0x7f4ac59d8750>)\n"
     ]
    },
    {
     "data": {
      "image/png": "[encoded data removed]",
      "text/plain": [
       "<Figure size 432x288 with 2 Axes>"
      ]
     },
     "metadata": {},
     "output_type": "display_data"
    },
    {
     "data": {
      "image/png": "[encoded data removed]",
      "text/plain": [
       "<Figure size 432x288 with 1 Axes>"
      ]
     },
     "metadata": {},
     "output_type": "display_data"
    },
    {
     "data": {
      "image/png": "[encoded data removed]",
      "text/plain": [
       "<Figure size 432x288 with 1 Axes>"
      ]
     },
     "metadata": {},
     "output_type": "display_data"
    }
   ],
   "source": [
    "# 3 XGboost\n",
    "from sklearn.ensemble import GradientBoostingClassifier\n",
    "clf_xg = GradientBoostingClassifier()\n",
    "clf_xg.fit(X_train, y_train)\n",
    "\n",
    "Y_pred_xg = clf_xg.predict(X_test)\n",
    "print(clf_scores(clf_xg, Y_pred_xg))"
   ]
  },
  {
   "cell_type": "markdown",
   "id": "83df7712",
   "metadata": {
    "papermill": {
     "duration": 0.047064,
     "end_time": "2021-11-17T08:56:38.570203",
     "exception": false,
     "start_time": "2021-11-17T08:56:38.523139",
     "status": "completed"
    },
    "tags": []
   },
   "source": [
    "# Fine-tune Random Forest"
   ]
  },
  {
   "cell_type": "code",
   "execution_count": 27,
   "id": "a46f492d",
   "metadata": {
    "execution": {
     "iopub.execute_input": "2021-11-17T08:56:38.670461Z",
     "iopub.status.busy": "2021-11-17T08:56:38.669416Z",
     "iopub.status.idle": "2021-11-17T08:57:02.368892Z",
     "shell.execute_reply": "2021-11-17T08:57:02.368289Z",
     "shell.execute_reply.started": "2021-11-17T08:55:06.817895Z"
    },
    "papermill": {
     "duration": 23.751642,
     "end_time": "2021-11-17T08:57:02.369054",
     "exception": false,
     "start_time": "2021-11-17T08:56:38.617412",
     "status": "completed"
    },
    "tags": []
   },
   "outputs": [
    {
     "data": {
      "text/plain": [
       "GridSearchCV(cv=10, estimator=RandomForestClassifier(),\n",
       "             param_grid=[{'bootstrap': [True, False],\n",
       "                          'max_depth': [10, 50, None], 'max_features': [5, 10],\n",
       "                          'n_estimators': [10, 25]}],\n",
       "             scoring='neg_mean_squared_error')"
      ]
     },
     "execution_count": 27,
     "metadata": {},
     "output_type": "execute_result"
    }
   ],
   "source": [
    "from sklearn.model_selection import GridSearchCV\n",
    "\n",
    "param_grid = [\n",
    "{'n_estimators': [10, 25], 'max_features': [5, 10], \n",
    " 'max_depth': [10, 50, None], 'bootstrap': [True, False]}\n",
    "]\n",
    "\n",
    "grid_search_forest = GridSearchCV(clf_rf, param_grid, cv=10, scoring='neg_mean_squared_error')\n",
    "grid_search_forest.fit(X_train, y_train)"
   ]
  },
  {
   "cell_type": "code",
   "execution_count": 28,
   "id": "2765be38",
   "metadata": {
    "execution": {
     "iopub.execute_input": "2021-11-17T08:57:02.471223Z",
     "iopub.status.busy": "2021-11-17T08:57:02.470153Z",
     "iopub.status.idle": "2021-11-17T08:57:02.479308Z",
     "shell.execute_reply": "2021-11-17T08:57:02.478590Z",
     "shell.execute_reply.started": "2021-11-17T08:55:30.849100Z"
    },
    "papermill": {
     "duration": 0.062373,
     "end_time": "2021-11-17T08:57:02.479467",
     "exception": false,
     "start_time": "2021-11-17T08:57:02.417094",
     "status": "completed"
    },
    "tags": []
   },
   "outputs": [
    {
     "name": "stdout",
     "output_type": "stream",
     "text": [
      "0.46445052020025307 {'bootstrap': True, 'max_depth': 10, 'max_features': 5, 'n_estimators': 10}\n",
      "0.4564890795420683 {'bootstrap': True, 'max_depth': 10, 'max_features': 5, 'n_estimators': 25}\n",
      "nan {'bootstrap': True, 'max_depth': 10, 'max_features': 10, 'n_estimators': 10}\n",
      "nan {'bootstrap': True, 'max_depth': 10, 'max_features': 10, 'n_estimators': 25}\n",
      "0.47952952442135444 {'bootstrap': True, 'max_depth': 50, 'max_features': 5, 'n_estimators': 10}\n",
      "0.46967081588545406 {'bootstrap': True, 'max_depth': 50, 'max_features': 5, 'n_estimators': 25}\n",
      "nan {'bootstrap': True, 'max_depth': 50, 'max_features': 10, 'n_estimators': 10}\n",
      "nan {'bootstrap': True, 'max_depth': 50, 'max_features': 10, 'n_estimators': 25}\n",
      "0.4757064903987189 {'bootstrap': True, 'max_depth': None, 'max_features': 5, 'n_estimators': 10}\n",
      "0.46619948645908416 {'bootstrap': True, 'max_depth': None, 'max_features': 5, 'n_estimators': 25}\n",
      "nan {'bootstrap': True, 'max_depth': None, 'max_features': 10, 'n_estimators': 10}\n",
      "nan {'bootstrap': True, 'max_depth': None, 'max_features': 10, 'n_estimators': 25}\n",
      "0.46706352084457764 {'bootstrap': False, 'max_depth': 10, 'max_features': 5, 'n_estimators': 10}\n",
      "0.4627057006947834 {'bootstrap': False, 'max_depth': 10, 'max_features': 5, 'n_estimators': 25}\n",
      "nan {'bootstrap': False, 'max_depth': 10, 'max_features': 10, 'n_estimators': 10}\n",
      "nan {'bootstrap': False, 'max_depth': 10, 'max_features': 10, 'n_estimators': 25}\n",
      "0.4765515471973838 {'bootstrap': False, 'max_depth': 50, 'max_features': 5, 'n_estimators': 10}\n",
      "0.46880096924376746 {'bootstrap': False, 'max_depth': 50, 'max_features': 5, 'n_estimators': 25}\n",
      "nan {'bootstrap': False, 'max_depth': 50, 'max_features': 10, 'n_estimators': 10}\n",
      "nan {'bootstrap': False, 'max_depth': 50, 'max_features': 10, 'n_estimators': 25}\n",
      "0.479122795042549 {'bootstrap': False, 'max_depth': None, 'max_features': 5, 'n_estimators': 10}\n",
      "0.4735565950136644 {'bootstrap': False, 'max_depth': None, 'max_features': 5, 'n_estimators': 25}\n",
      "nan {'bootstrap': False, 'max_depth': None, 'max_features': 10, 'n_estimators': 10}\n",
      "nan {'bootstrap': False, 'max_depth': None, 'max_features': 10, 'n_estimators': 25}\n"
     ]
    }
   ],
   "source": [
    "#now let's how the RMSE changes for each parameter configuration\n",
    "cvres = grid_search_forest.cv_results_\n",
    "for mean_score, params in zip(cvres[\"mean_test_score\"], cvres[\"params\"]):\n",
    "    print(np.sqrt(-mean_score), params)"
   ]
  },
  {
   "cell_type": "code",
   "execution_count": 29,
   "id": "643f6d57",
   "metadata": {
    "execution": {
     "iopub.execute_input": "2021-11-17T08:57:02.581074Z",
     "iopub.status.busy": "2021-11-17T08:57:02.580184Z",
     "iopub.status.idle": "2021-11-17T08:57:02.583713Z",
     "shell.execute_reply": "2021-11-17T08:57:02.584240Z",
     "shell.execute_reply.started": "2021-11-17T08:55:30.862790Z"
    },
    "papermill": {
     "duration": 0.057285,
     "end_time": "2021-11-17T08:57:02.584417",
     "exception": false,
     "start_time": "2021-11-17T08:57:02.527132",
     "status": "completed"
    },
    "tags": []
   },
   "outputs": [
    {
     "data": {
      "text/plain": [
       "RandomForestClassifier(max_depth=10, max_features=5, n_estimators=25)"
      ]
     },
     "execution_count": 29,
     "metadata": {},
     "output_type": "execute_result"
    }
   ],
   "source": [
    "#find the best model of grid search\n",
    "grid_search_forest.best_estimator_"
   ]
  },
  {
   "cell_type": "code",
   "execution_count": 30,
   "id": "de2c07f8",
   "metadata": {
    "execution": {
     "iopub.execute_input": "2021-11-17T08:57:02.689619Z",
     "iopub.status.busy": "2021-11-17T08:57:02.688775Z",
     "iopub.status.idle": "2021-11-17T08:57:02.704066Z",
     "shell.execute_reply": "2021-11-17T08:57:02.704622Z",
     "shell.execute_reply.started": "2021-11-17T08:55:30.870938Z"
    },
    "papermill": {
     "duration": 0.071953,
     "end_time": "2021-11-17T08:57:02.704865",
     "exception": false,
     "start_time": "2021-11-17T08:57:02.632912",
     "status": "completed"
    },
    "tags": []
   },
   "outputs": [
    {
     "name": "stdout",
     "output_type": "stream",
     "text": [
      "The best model from grid-search has an accuracy of -inf %\n"
     ]
    }
   ],
   "source": [
    "# Performance metrics\n",
    "grid_best= grid_search_forest.best_estimator_.predict(X_train)\n",
    "errors = abs(grid_best - y_train)\n",
    "# Calculate mean absolute percentage error (MAPE)\n",
    "mape = np.mean(100 * (errors / y_train))\n",
    "# Calculate and display accuracy\n",
    "accuracy = 100 - mape    \n",
    "#print result\n",
    "print('The best model from grid-search has an accuracy of', round(accuracy, 2),'%')"
   ]
  },
  {
   "cell_type": "code",
   "execution_count": 31,
   "id": "cdeda42d",
   "metadata": {
    "execution": {
     "iopub.execute_input": "2021-11-17T08:57:02.807066Z",
     "iopub.status.busy": "2021-11-17T08:57:02.806335Z",
     "iopub.status.idle": "2021-11-17T08:57:04.066121Z",
     "shell.execute_reply": "2021-11-17T08:57:04.065526Z",
     "shell.execute_reply.started": "2021-11-17T08:55:50.854937Z"
    },
    "papermill": {
     "duration": 1.312442,
     "end_time": "2021-11-17T08:57:04.066276",
     "exception": false,
     "start_time": "2021-11-17T08:57:02.753834",
     "status": "completed"
    },
    "tags": []
   },
   "outputs": [
    {
     "name": "stdout",
     "output_type": "stream",
     "text": [
      "(                                     0\n",
      "acc_train                        100.0\n",
      "Test Accuracy                78.510379\n",
      "Roc Score                    75.666286\n",
      "COrrect                            643\n",
      "Incorrect                          176\n",
      "Confusion      [[445, 65], [111, 198]], <AxesSubplot:>, <sklearn.metrics._plot.roc_curve.RocCurveDisplay object at 0x7f4ac58e16d0>, <sklearn.metrics._plot.precision_recall_curve.PrecisionRecallDisplay object at 0x7f4ac58d4bd0>)\n"
     ]
    },
    {
     "data": {
      "image/png": "[encoded data removed]",
      "text/plain": [
       "<Figure size 432x288 with 2 Axes>"
      ]
     },
     "metadata": {},
     "output_type": "display_data"
    },
    {
     "data": {
      "image/png": "[encoded data removed]",
      "text/plain": [
       "<Figure size 432x288 with 1 Axes>"
      ]
     },
     "metadata": {},
     "output_type": "display_data"
    },
    {
     "data": {
      "image/png": "[encoded data removed]",
      "text/plain": [
       "<Figure size 432x288 with 1 Axes>"
      ]
     },
     "metadata": {},
     "output_type": "display_data"
    }
   ],
   "source": [
    "# Tuned Random Forest\n",
    "\n",
    "from sklearn.ensemble import RandomForestClassifier\n",
    "clf_rf = RandomForestClassifier(bootstrap=False, max_features=5, n_estimators=25)\n",
    "clf_rf.fit(X_train, y_train)                 \n",
    "Y_pred_rf = clf_rf.predict(X_test)\n",
    "print(clf_scores(clf_rf, Y_pred_rf))"
   ]
  },
  {
   "cell_type": "markdown",
   "id": "017fb80a",
   "metadata": {
    "cell_id": "00076-f41b59a3-8357-453b-951c-f1ef192bd5d9",
    "deepnote_cell_type": "text-cell-h1",
    "papermill": {
     "duration": 0.05177,
     "end_time": "2021-11-17T08:57:04.172387",
     "exception": false,
     "start_time": "2021-11-17T08:57:04.120617",
     "status": "completed"
    },
    "tags": []
   },
   "source": [
    "#                                                          THE END"
   ]
  }
 ],
 "metadata": {
  "kernelspec": {
   "display_name": "Python 3",
   "language": "python",
   "name": "python3"
  },
  "language_info": {
   "codemirror_mode": {
    "name": "ipython",
    "version": 3
   },
   "file_extension": ".py",
   "mimetype": "text/x-python",
   "name": "python",
   "nbconvert_exporter": "python",
   "pygments_lexer": "ipython3",
   "version": "3.7.10"
  },
  "papermill": {
   "default_parameters": {},
   "duration": 49.249386,
   "end_time": "2021-11-17T08:57:05.136327",
   "environment_variables": {},
   "exception": null,
   "input_path": "__notebook__.ipynb",
   "output_path": "__notebook__.ipynb",
   "parameters": {},
   "start_time": "2021-11-17T08:56:15.886941",
   "version": "2.3.3"
  }
 },
 "nbformat": 4,
 "nbformat_minor": 5
}
