{
 "cells": [
  {
   "cell_type": "markdown",
   "metadata": {},
   "source": [
    "### Importing libraries and packages to be used in Data Analysis"
   ]
  },
  {
   "cell_type": "code",
   "execution_count": 121,
   "metadata": {},
   "outputs": [],
   "source": [
    "import pandas as pd\n",
    "import numpy as np\n",
    "import seaborn as sns\n",
    "import xgboost as xgb\n",
    "from matplotlib import pyplot as plt\n",
    "from sklearn import preprocessing\n",
    "from sklearn.preprocessing import StandardScaler, MinMaxScaler\n",
    "from sklearn.model_selection import train_test_split\n",
    "from sklearn.linear_model import LogisticRegression\n",
    "from sklearn.ensemble import RandomForestClassifier\n",
    "from imblearn.over_sampling import RandomOverSampler \n",
    "from imblearn.under_sampling import RandomUnderSampler\n",
    "from imblearn.over_sampling import SMOTE\n",
    "import sklearn.metrics as metrics\n",
    "from sklearn.metrics import accuracy_score, recall_score, precision_score, f1_score, confusion_matrix\n",
    "from sklearn.metrics import roc_auc_score\n",
    "from sklearn.metrics import roc_curve\n",
    "from sklearn.metrics import average_precision_score, precision_recall_curve, plot_precision_recall_curve\n",
    "from sklearn.svm import OneClassSVM\n",
    "from sklearn.neighbors import LocalOutlierFactor\n",
    "from sklearn.ensemble import IsolationForest"
   ]
  },
  {
   "cell_type": "markdown",
   "metadata": {},
   "source": [
    "Importing Dataset:"
   ]
  },
  {
   "cell_type": "code",
   "execution_count": 122,
   "metadata": {},
   "outputs": [
    {
     "data": {
      "text/html": [
       "<div>\n",
       "<style scoped>\n",
       "    .dataframe tbody tr th:only-of-type {\n",
       "        vertical-align: middle;\n",
       "    }\n",
       "\n",
       "    .dataframe tbody tr th {\n",
       "        vertical-align: top;\n",
       "    }\n",
       "\n",
       "    .dataframe thead th {\n",
       "        text-align: right;\n",
       "    }\n",
       "</style>\n",
       "<table border=\"1\" class=\"dataframe\">\n",
       "  <thead>\n",
       "    <tr style=\"text-align: right;\">\n",
       "      <th></th>\n",
       "      <th>Time</th>\n",
       "      <th>V1</th>\n",
       "      <th>V2</th>\n",
       "      <th>V3</th>\n",
       "      <th>V4</th>\n",
       "      <th>V5</th>\n",
       "      <th>V6</th>\n",
       "      <th>V7</th>\n",
       "      <th>V8</th>\n",
       "      <th>V9</th>\n",
       "      <th>...</th>\n",
       "      <th>V21</th>\n",
       "      <th>V22</th>\n",
       "      <th>V23</th>\n",
       "      <th>V24</th>\n",
       "      <th>V25</th>\n",
       "      <th>V26</th>\n",
       "      <th>V27</th>\n",
       "      <th>V28</th>\n",
       "      <th>Amount</th>\n",
       "      <th>Class</th>\n",
       "    </tr>\n",
       "  </thead>\n",
       "  <tbody>\n",
       "    <tr>\n",
       "      <th>0</th>\n",
       "      <td>0.0</td>\n",
       "      <td>-1.359807</td>\n",
       "      <td>-0.072781</td>\n",
       "      <td>2.536347</td>\n",
       "      <td>1.378155</td>\n",
       "      <td>-0.338321</td>\n",
       "      <td>0.462388</td>\n",
       "      <td>0.239599</td>\n",
       "      <td>0.098698</td>\n",
       "      <td>0.363787</td>\n",
       "      <td>...</td>\n",
       "      <td>-0.018307</td>\n",
       "      <td>0.277838</td>\n",
       "      <td>-0.110474</td>\n",
       "      <td>0.066928</td>\n",
       "      <td>0.128539</td>\n",
       "      <td>-0.189115</td>\n",
       "      <td>0.133558</td>\n",
       "      <td>-0.021053</td>\n",
       "      <td>149.62</td>\n",
       "      <td>0</td>\n",
       "    </tr>\n",
       "    <tr>\n",
       "      <th>1</th>\n",
       "      <td>0.0</td>\n",
       "      <td>1.191857</td>\n",
       "      <td>0.266151</td>\n",
       "      <td>0.166480</td>\n",
       "      <td>0.448154</td>\n",
       "      <td>0.060018</td>\n",
       "      <td>-0.082361</td>\n",
       "      <td>-0.078803</td>\n",
       "      <td>0.085102</td>\n",
       "      <td>-0.255425</td>\n",
       "      <td>...</td>\n",
       "      <td>-0.225775</td>\n",
       "      <td>-0.638672</td>\n",
       "      <td>0.101288</td>\n",
       "      <td>-0.339846</td>\n",
       "      <td>0.167170</td>\n",
       "      <td>0.125895</td>\n",
       "      <td>-0.008983</td>\n",
       "      <td>0.014724</td>\n",
       "      <td>2.69</td>\n",
       "      <td>0</td>\n",
       "    </tr>\n",
       "    <tr>\n",
       "      <th>2</th>\n",
       "      <td>1.0</td>\n",
       "      <td>-1.358354</td>\n",
       "      <td>-1.340163</td>\n",
       "      <td>1.773209</td>\n",
       "      <td>0.379780</td>\n",
       "      <td>-0.503198</td>\n",
       "      <td>1.800499</td>\n",
       "      <td>0.791461</td>\n",
       "      <td>0.247676</td>\n",
       "      <td>-1.514654</td>\n",
       "      <td>...</td>\n",
       "      <td>0.247998</td>\n",
       "      <td>0.771679</td>\n",
       "      <td>0.909412</td>\n",
       "      <td>-0.689281</td>\n",
       "      <td>-0.327642</td>\n",
       "      <td>-0.139097</td>\n",
       "      <td>-0.055353</td>\n",
       "      <td>-0.059752</td>\n",
       "      <td>378.66</td>\n",
       "      <td>0</td>\n",
       "    </tr>\n",
       "    <tr>\n",
       "      <th>3</th>\n",
       "      <td>1.0</td>\n",
       "      <td>-0.966272</td>\n",
       "      <td>-0.185226</td>\n",
       "      <td>1.792993</td>\n",
       "      <td>-0.863291</td>\n",
       "      <td>-0.010309</td>\n",
       "      <td>1.247203</td>\n",
       "      <td>0.237609</td>\n",
       "      <td>0.377436</td>\n",
       "      <td>-1.387024</td>\n",
       "      <td>...</td>\n",
       "      <td>-0.108300</td>\n",
       "      <td>0.005274</td>\n",
       "      <td>-0.190321</td>\n",
       "      <td>-1.175575</td>\n",
       "      <td>0.647376</td>\n",
       "      <td>-0.221929</td>\n",
       "      <td>0.062723</td>\n",
       "      <td>0.061458</td>\n",
       "      <td>123.50</td>\n",
       "      <td>0</td>\n",
       "    </tr>\n",
       "    <tr>\n",
       "      <th>4</th>\n",
       "      <td>2.0</td>\n",
       "      <td>-1.158233</td>\n",
       "      <td>0.877737</td>\n",
       "      <td>1.548718</td>\n",
       "      <td>0.403034</td>\n",
       "      <td>-0.407193</td>\n",
       "      <td>0.095921</td>\n",
       "      <td>0.592941</td>\n",
       "      <td>-0.270533</td>\n",
       "      <td>0.817739</td>\n",
       "      <td>...</td>\n",
       "      <td>-0.009431</td>\n",
       "      <td>0.798278</td>\n",
       "      <td>-0.137458</td>\n",
       "      <td>0.141267</td>\n",
       "      <td>-0.206010</td>\n",
       "      <td>0.502292</td>\n",
       "      <td>0.219422</td>\n",
       "      <td>0.215153</td>\n",
       "      <td>69.99</td>\n",
       "      <td>0</td>\n",
       "    </tr>\n",
       "  </tbody>\n",
       "</table>\n",
       "<p>5 rows × 31 columns</p>\n",
       "</div>"
      ],
      "text/plain": [
       "   Time        V1        V2        V3        V4        V5        V6        V7  \\\n",
       "0   0.0 -1.359807 -0.072781  2.536347  1.378155 -0.338321  0.462388  0.239599   \n",
       "1   0.0  1.191857  0.266151  0.166480  0.448154  0.060018 -0.082361 -0.078803   \n",
       "2   1.0 -1.358354 -1.340163  1.773209  0.379780 -0.503198  1.800499  0.791461   \n",
       "3   1.0 -0.966272 -0.185226  1.792993 -0.863291 -0.010309  1.247203  0.237609   \n",
       "4   2.0 -1.158233  0.877737  1.548718  0.403034 -0.407193  0.095921  0.592941   \n",
       "\n",
       "         V8        V9  ...       V21       V22       V23       V24       V25  \\\n",
       "0  0.098698  0.363787  ... -0.018307  0.277838 -0.110474  0.066928  0.128539   \n",
       "1  0.085102 -0.255425  ... -0.225775 -0.638672  0.101288 -0.339846  0.167170   \n",
       "2  0.247676 -1.514654  ...  0.247998  0.771679  0.909412 -0.689281 -0.327642   \n",
       "3  0.377436 -1.387024  ... -0.108300  0.005274 -0.190321 -1.175575  0.647376   \n",
       "4 -0.270533  0.817739  ... -0.009431  0.798278 -0.137458  0.141267 -0.206010   \n",
       "\n",
       "        V26       V27       V28  Amount  Class  \n",
       "0 -0.189115  0.133558 -0.021053  149.62      0  \n",
       "1  0.125895 -0.008983  0.014724    2.69      0  \n",
       "2 -0.139097 -0.055353 -0.059752  378.66      0  \n",
       "3 -0.221929  0.062723  0.061458  123.50      0  \n",
       "4  0.502292  0.219422  0.215153   69.99      0  \n",
       "\n",
       "[5 rows x 31 columns]"
      ]
     },
     "execution_count": 122,
     "metadata": {},
     "output_type": "execute_result"
    }
   ],
   "source": [
    "df=pd.read_csv(\"creditcard.csv\")\n",
    "df.head()"
   ]
  },
  {
   "cell_type": "code",
   "execution_count": 123,
   "metadata": {
    "scrolled": true
   },
   "outputs": [
    {
     "data": {
      "text/plain": [
       "(284807, 31)"
      ]
     },
     "execution_count": 123,
     "metadata": {},
     "output_type": "execute_result"
    }
   ],
   "source": [
    "df.shape"
   ]
  },
  {
   "cell_type": "code",
   "execution_count": 124,
   "metadata": {},
   "outputs": [
    {
     "data": {
      "text/html": [
       "<div>\n",
       "<style scoped>\n",
       "    .dataframe tbody tr th:only-of-type {\n",
       "        vertical-align: middle;\n",
       "    }\n",
       "\n",
       "    .dataframe tbody tr th {\n",
       "        vertical-align: top;\n",
       "    }\n",
       "\n",
       "    .dataframe thead th {\n",
       "        text-align: right;\n",
       "    }\n",
       "</style>\n",
       "<table border=\"1\" class=\"dataframe\">\n",
       "  <thead>\n",
       "    <tr style=\"text-align: right;\">\n",
       "      <th></th>\n",
       "      <th>Time</th>\n",
       "      <th>V1</th>\n",
       "      <th>V2</th>\n",
       "      <th>V3</th>\n",
       "      <th>V4</th>\n",
       "      <th>V5</th>\n",
       "      <th>V6</th>\n",
       "      <th>V7</th>\n",
       "      <th>V8</th>\n",
       "      <th>V9</th>\n",
       "      <th>...</th>\n",
       "      <th>V21</th>\n",
       "      <th>V22</th>\n",
       "      <th>V23</th>\n",
       "      <th>V24</th>\n",
       "      <th>V25</th>\n",
       "      <th>V26</th>\n",
       "      <th>V27</th>\n",
       "      <th>V28</th>\n",
       "      <th>Amount</th>\n",
       "      <th>Class</th>\n",
       "    </tr>\n",
       "  </thead>\n",
       "  <tbody>\n",
       "    <tr>\n",
       "      <th>count</th>\n",
       "      <td>284807.000000</td>\n",
       "      <td>2.848070e+05</td>\n",
       "      <td>2.848070e+05</td>\n",
       "      <td>2.848070e+05</td>\n",
       "      <td>2.848070e+05</td>\n",
       "      <td>2.848070e+05</td>\n",
       "      <td>2.848070e+05</td>\n",
       "      <td>2.848070e+05</td>\n",
       "      <td>2.848070e+05</td>\n",
       "      <td>2.848070e+05</td>\n",
       "      <td>...</td>\n",
       "      <td>2.848070e+05</td>\n",
       "      <td>2.848070e+05</td>\n",
       "      <td>2.848070e+05</td>\n",
       "      <td>2.848070e+05</td>\n",
       "      <td>2.848070e+05</td>\n",
       "      <td>2.848070e+05</td>\n",
       "      <td>2.848070e+05</td>\n",
       "      <td>2.848070e+05</td>\n",
       "      <td>284807.000000</td>\n",
       "      <td>284807.000000</td>\n",
       "    </tr>\n",
       "    <tr>\n",
       "      <th>mean</th>\n",
       "      <td>94813.859575</td>\n",
       "      <td>3.919560e-15</td>\n",
       "      <td>5.688174e-16</td>\n",
       "      <td>-8.769071e-15</td>\n",
       "      <td>2.782312e-15</td>\n",
       "      <td>-1.552563e-15</td>\n",
       "      <td>2.010663e-15</td>\n",
       "      <td>-1.694249e-15</td>\n",
       "      <td>-1.927028e-16</td>\n",
       "      <td>-3.137024e-15</td>\n",
       "      <td>...</td>\n",
       "      <td>1.537294e-16</td>\n",
       "      <td>7.959909e-16</td>\n",
       "      <td>5.367590e-16</td>\n",
       "      <td>4.458112e-15</td>\n",
       "      <td>1.453003e-15</td>\n",
       "      <td>1.699104e-15</td>\n",
       "      <td>-3.660161e-16</td>\n",
       "      <td>-1.206049e-16</td>\n",
       "      <td>88.349619</td>\n",
       "      <td>0.001727</td>\n",
       "    </tr>\n",
       "    <tr>\n",
       "      <th>std</th>\n",
       "      <td>47488.145955</td>\n",
       "      <td>1.958696e+00</td>\n",
       "      <td>1.651309e+00</td>\n",
       "      <td>1.516255e+00</td>\n",
       "      <td>1.415869e+00</td>\n",
       "      <td>1.380247e+00</td>\n",
       "      <td>1.332271e+00</td>\n",
       "      <td>1.237094e+00</td>\n",
       "      <td>1.194353e+00</td>\n",
       "      <td>1.098632e+00</td>\n",
       "      <td>...</td>\n",
       "      <td>7.345240e-01</td>\n",
       "      <td>7.257016e-01</td>\n",
       "      <td>6.244603e-01</td>\n",
       "      <td>6.056471e-01</td>\n",
       "      <td>5.212781e-01</td>\n",
       "      <td>4.822270e-01</td>\n",
       "      <td>4.036325e-01</td>\n",
       "      <td>3.300833e-01</td>\n",
       "      <td>250.120109</td>\n",
       "      <td>0.041527</td>\n",
       "    </tr>\n",
       "    <tr>\n",
       "      <th>min</th>\n",
       "      <td>0.000000</td>\n",
       "      <td>-5.640751e+01</td>\n",
       "      <td>-7.271573e+01</td>\n",
       "      <td>-4.832559e+01</td>\n",
       "      <td>-5.683171e+00</td>\n",
       "      <td>-1.137433e+02</td>\n",
       "      <td>-2.616051e+01</td>\n",
       "      <td>-4.355724e+01</td>\n",
       "      <td>-7.321672e+01</td>\n",
       "      <td>-1.343407e+01</td>\n",
       "      <td>...</td>\n",
       "      <td>-3.483038e+01</td>\n",
       "      <td>-1.093314e+01</td>\n",
       "      <td>-4.480774e+01</td>\n",
       "      <td>-2.836627e+00</td>\n",
       "      <td>-1.029540e+01</td>\n",
       "      <td>-2.604551e+00</td>\n",
       "      <td>-2.256568e+01</td>\n",
       "      <td>-1.543008e+01</td>\n",
       "      <td>0.000000</td>\n",
       "      <td>0.000000</td>\n",
       "    </tr>\n",
       "    <tr>\n",
       "      <th>25%</th>\n",
       "      <td>54201.500000</td>\n",
       "      <td>-9.203734e-01</td>\n",
       "      <td>-5.985499e-01</td>\n",
       "      <td>-8.903648e-01</td>\n",
       "      <td>-8.486401e-01</td>\n",
       "      <td>-6.915971e-01</td>\n",
       "      <td>-7.682956e-01</td>\n",
       "      <td>-5.540759e-01</td>\n",
       "      <td>-2.086297e-01</td>\n",
       "      <td>-6.430976e-01</td>\n",
       "      <td>...</td>\n",
       "      <td>-2.283949e-01</td>\n",
       "      <td>-5.423504e-01</td>\n",
       "      <td>-1.618463e-01</td>\n",
       "      <td>-3.545861e-01</td>\n",
       "      <td>-3.171451e-01</td>\n",
       "      <td>-3.269839e-01</td>\n",
       "      <td>-7.083953e-02</td>\n",
       "      <td>-5.295979e-02</td>\n",
       "      <td>5.600000</td>\n",
       "      <td>0.000000</td>\n",
       "    </tr>\n",
       "    <tr>\n",
       "      <th>50%</th>\n",
       "      <td>84692.000000</td>\n",
       "      <td>1.810880e-02</td>\n",
       "      <td>6.548556e-02</td>\n",
       "      <td>1.798463e-01</td>\n",
       "      <td>-1.984653e-02</td>\n",
       "      <td>-5.433583e-02</td>\n",
       "      <td>-2.741871e-01</td>\n",
       "      <td>4.010308e-02</td>\n",
       "      <td>2.235804e-02</td>\n",
       "      <td>-5.142873e-02</td>\n",
       "      <td>...</td>\n",
       "      <td>-2.945017e-02</td>\n",
       "      <td>6.781943e-03</td>\n",
       "      <td>-1.119293e-02</td>\n",
       "      <td>4.097606e-02</td>\n",
       "      <td>1.659350e-02</td>\n",
       "      <td>-5.213911e-02</td>\n",
       "      <td>1.342146e-03</td>\n",
       "      <td>1.124383e-02</td>\n",
       "      <td>22.000000</td>\n",
       "      <td>0.000000</td>\n",
       "    </tr>\n",
       "    <tr>\n",
       "      <th>75%</th>\n",
       "      <td>139320.500000</td>\n",
       "      <td>1.315642e+00</td>\n",
       "      <td>8.037239e-01</td>\n",
       "      <td>1.027196e+00</td>\n",
       "      <td>7.433413e-01</td>\n",
       "      <td>6.119264e-01</td>\n",
       "      <td>3.985649e-01</td>\n",
       "      <td>5.704361e-01</td>\n",
       "      <td>3.273459e-01</td>\n",
       "      <td>5.971390e-01</td>\n",
       "      <td>...</td>\n",
       "      <td>1.863772e-01</td>\n",
       "      <td>5.285536e-01</td>\n",
       "      <td>1.476421e-01</td>\n",
       "      <td>4.395266e-01</td>\n",
       "      <td>3.507156e-01</td>\n",
       "      <td>2.409522e-01</td>\n",
       "      <td>9.104512e-02</td>\n",
       "      <td>7.827995e-02</td>\n",
       "      <td>77.165000</td>\n",
       "      <td>0.000000</td>\n",
       "    </tr>\n",
       "    <tr>\n",
       "      <th>max</th>\n",
       "      <td>172792.000000</td>\n",
       "      <td>2.454930e+00</td>\n",
       "      <td>2.205773e+01</td>\n",
       "      <td>9.382558e+00</td>\n",
       "      <td>1.687534e+01</td>\n",
       "      <td>3.480167e+01</td>\n",
       "      <td>7.330163e+01</td>\n",
       "      <td>1.205895e+02</td>\n",
       "      <td>2.000721e+01</td>\n",
       "      <td>1.559499e+01</td>\n",
       "      <td>...</td>\n",
       "      <td>2.720284e+01</td>\n",
       "      <td>1.050309e+01</td>\n",
       "      <td>2.252841e+01</td>\n",
       "      <td>4.584549e+00</td>\n",
       "      <td>7.519589e+00</td>\n",
       "      <td>3.517346e+00</td>\n",
       "      <td>3.161220e+01</td>\n",
       "      <td>3.384781e+01</td>\n",
       "      <td>25691.160000</td>\n",
       "      <td>1.000000</td>\n",
       "    </tr>\n",
       "  </tbody>\n",
       "</table>\n",
       "<p>8 rows × 31 columns</p>\n",
       "</div>"
      ],
      "text/plain": [
       "                Time            V1            V2            V3            V4  \\\n",
       "count  284807.000000  2.848070e+05  2.848070e+05  2.848070e+05  2.848070e+05   \n",
       "mean    94813.859575  3.919560e-15  5.688174e-16 -8.769071e-15  2.782312e-15   \n",
       "std     47488.145955  1.958696e+00  1.651309e+00  1.516255e+00  1.415869e+00   \n",
       "min         0.000000 -5.640751e+01 -7.271573e+01 -4.832559e+01 -5.683171e+00   \n",
       "25%     54201.500000 -9.203734e-01 -5.985499e-01 -8.903648e-01 -8.486401e-01   \n",
       "50%     84692.000000  1.810880e-02  6.548556e-02  1.798463e-01 -1.984653e-02   \n",
       "75%    139320.500000  1.315642e+00  8.037239e-01  1.027196e+00  7.433413e-01   \n",
       "max    172792.000000  2.454930e+00  2.205773e+01  9.382558e+00  1.687534e+01   \n",
       "\n",
       "                 V5            V6            V7            V8            V9  \\\n",
       "count  2.848070e+05  2.848070e+05  2.848070e+05  2.848070e+05  2.848070e+05   \n",
       "mean  -1.552563e-15  2.010663e-15 -1.694249e-15 -1.927028e-16 -3.137024e-15   \n",
       "std    1.380247e+00  1.332271e+00  1.237094e+00  1.194353e+00  1.098632e+00   \n",
       "min   -1.137433e+02 -2.616051e+01 -4.355724e+01 -7.321672e+01 -1.343407e+01   \n",
       "25%   -6.915971e-01 -7.682956e-01 -5.540759e-01 -2.086297e-01 -6.430976e-01   \n",
       "50%   -5.433583e-02 -2.741871e-01  4.010308e-02  2.235804e-02 -5.142873e-02   \n",
       "75%    6.119264e-01  3.985649e-01  5.704361e-01  3.273459e-01  5.971390e-01   \n",
       "max    3.480167e+01  7.330163e+01  1.205895e+02  2.000721e+01  1.559499e+01   \n",
       "\n",
       "       ...           V21           V22           V23           V24  \\\n",
       "count  ...  2.848070e+05  2.848070e+05  2.848070e+05  2.848070e+05   \n",
       "mean   ...  1.537294e-16  7.959909e-16  5.367590e-16  4.458112e-15   \n",
       "std    ...  7.345240e-01  7.257016e-01  6.244603e-01  6.056471e-01   \n",
       "min    ... -3.483038e+01 -1.093314e+01 -4.480774e+01 -2.836627e+00   \n",
       "25%    ... -2.283949e-01 -5.423504e-01 -1.618463e-01 -3.545861e-01   \n",
       "50%    ... -2.945017e-02  6.781943e-03 -1.119293e-02  4.097606e-02   \n",
       "75%    ...  1.863772e-01  5.285536e-01  1.476421e-01  4.395266e-01   \n",
       "max    ...  2.720284e+01  1.050309e+01  2.252841e+01  4.584549e+00   \n",
       "\n",
       "                V25           V26           V27           V28         Amount  \\\n",
       "count  2.848070e+05  2.848070e+05  2.848070e+05  2.848070e+05  284807.000000   \n",
       "mean   1.453003e-15  1.699104e-15 -3.660161e-16 -1.206049e-16      88.349619   \n",
       "std    5.212781e-01  4.822270e-01  4.036325e-01  3.300833e-01     250.120109   \n",
       "min   -1.029540e+01 -2.604551e+00 -2.256568e+01 -1.543008e+01       0.000000   \n",
       "25%   -3.171451e-01 -3.269839e-01 -7.083953e-02 -5.295979e-02       5.600000   \n",
       "50%    1.659350e-02 -5.213911e-02  1.342146e-03  1.124383e-02      22.000000   \n",
       "75%    3.507156e-01  2.409522e-01  9.104512e-02  7.827995e-02      77.165000   \n",
       "max    7.519589e+00  3.517346e+00  3.161220e+01  3.384781e+01   25691.160000   \n",
       "\n",
       "               Class  \n",
       "count  284807.000000  \n",
       "mean        0.001727  \n",
       "std         0.041527  \n",
       "min         0.000000  \n",
       "25%         0.000000  \n",
       "50%         0.000000  \n",
       "75%         0.000000  \n",
       "max         1.000000  \n",
       "\n",
       "[8 rows x 31 columns]"
      ]
     },
     "execution_count": 124,
     "metadata": {},
     "output_type": "execute_result"
    }
   ],
   "source": [
    "df.describe()"
   ]
  },
  {
   "cell_type": "code",
   "execution_count": 125,
   "metadata": {
    "scrolled": true
   },
   "outputs": [
    {
     "data": {
      "text/plain": [
       "False"
      ]
     },
     "execution_count": 125,
     "metadata": {},
     "output_type": "execute_result"
    }
   ],
   "source": [
    "df.isnull().values.any()"
   ]
  },
  {
   "cell_type": "code",
   "execution_count": 126,
   "metadata": {},
   "outputs": [
    {
     "name": "stdout",
     "output_type": "stream",
     "text": [
      "<class 'pandas.core.frame.DataFrame'>\n",
      "RangeIndex: 284807 entries, 0 to 284806\n",
      "Data columns (total 31 columns):\n",
      "Time      284807 non-null float64\n",
      "V1        284807 non-null float64\n",
      "V2        284807 non-null float64\n",
      "V3        284807 non-null float64\n",
      "V4        284807 non-null float64\n",
      "V5        284807 non-null float64\n",
      "V6        284807 non-null float64\n",
      "V7        284807 non-null float64\n",
      "V8        284807 non-null float64\n",
      "V9        284807 non-null float64\n",
      "V10       284807 non-null float64\n",
      "V11       284807 non-null float64\n",
      "V12       284807 non-null float64\n",
      "V13       284807 non-null float64\n",
      "V14       284807 non-null float64\n",
      "V15       284807 non-null float64\n",
      "V16       284807 non-null float64\n",
      "V17       284807 non-null float64\n",
      "V18       284807 non-null float64\n",
      "V19       284807 non-null float64\n",
      "V20       284807 non-null float64\n",
      "V21       284807 non-null float64\n",
      "V22       284807 non-null float64\n",
      "V23       284807 non-null float64\n",
      "V24       284807 non-null float64\n",
      "V25       284807 non-null float64\n",
      "V26       284807 non-null float64\n",
      "V27       284807 non-null float64\n",
      "V28       284807 non-null float64\n",
      "Amount    284807 non-null float64\n",
      "Class     284807 non-null int64\n",
      "dtypes: float64(30), int64(1)\n",
      "memory usage: 67.4 MB\n"
     ]
    }
   ],
   "source": [
    "df.info()"
   ]
  },
  {
   "cell_type": "code",
   "execution_count": 127,
   "metadata": {},
   "outputs": [
    {
     "data": {
      "text/plain": [
       "Index(['Time', 'V1', 'V2', 'V3', 'V4', 'V5', 'V6', 'V7', 'V8', 'V9', 'V10',\n",
       "       'V11', 'V12', 'V13', 'V14', 'V15', 'V16', 'V17', 'V18', 'V19', 'V20',\n",
       "       'V21', 'V22', 'V23', 'V24', 'V25', 'V26', 'V27', 'V28', 'Amount',\n",
       "       'Class'],\n",
       "      dtype='object')"
      ]
     },
     "execution_count": 127,
     "metadata": {},
     "output_type": "execute_result"
    }
   ],
   "source": [
    "df.columns"
   ]
  },
  {
   "cell_type": "code",
   "execution_count": 136,
   "metadata": {},
   "outputs": [
    {
     "data": {
      "image/png": "[encoded data removed]",
      "text/plain": [
       "<Figure size 216x360 with 1 Axes>"
      ]
     },
     "metadata": {
      "needs_background": "light"
     },
     "output_type": "display_data"
    }
   ],
   "source": [
    "plt.figure(figsize=(3,5))\n",
    "Result_Bar = df['Class'].value_counts().plot.bar(color=['green', 'red'],title = 'Classes in the Dataset')\n",
    "Result_Bar.set_xlabel(\"Class\")\n",
    "Result_Bar.set_ylabel(\"Count\")\n",
    "Result_Bar.tick_params(labelrotation=360)"
   ]
  },
  {
   "cell_type": "code",
   "execution_count": 129,
   "metadata": {},
   "outputs": [
    {
     "name": "stdout",
     "output_type": "stream",
     "text": [
      "Good Customers in Data :  99.82725143693798  %\n"
     ]
    }
   ],
   "source": [
    "print(\"Good Customers in Data : \", (284315/len(df)) * 100 , \" %\")"
   ]
  },
  {
   "cell_type": "code",
   "execution_count": 130,
   "metadata": {},
   "outputs": [
    {
     "name": "stdout",
     "output_type": "stream",
     "text": [
      "Fraud Customers in Data :  0.1727485630620034  %\n"
     ]
    }
   ],
   "source": [
    "print(\"Fraud Customers in Data : \", (492/len(df)) * 100 , \" %\")"
   ]
  },
  {
   "cell_type": "markdown",
   "metadata": {},
   "source": [
    "From above we can see that data is very imbalance"
   ]
  },
  {
   "cell_type": "markdown",
   "metadata": {},
   "source": [
    "Distribution of fraud and normal transactions in data"
   ]
  },
  {
   "cell_type": "code",
   "execution_count": 134,
   "metadata": {
    "scrolled": false
   },
   "outputs": [
    {
     "data": {
      "image/png": "[encoded data removed]",
      "text/plain": [
       "<Figure size 720x360 with 1 Axes>"
      ]
     },
     "metadata": {
      "needs_background": "light"
     },
     "output_type": "display_data"
    }
   ],
   "source": [
    "plt.figure(figsize=(10,5))\n",
    "\n",
    "sns.distplot(df.loc[df['Class'] == 0][\"Time\"], label = \"Fraud\")\n",
    "sns.distplot(df.loc[df['Class'] == 1][\"Time\"], label = \"Normal\")\n",
    "plt.title('Fraud and Normal Transactions by feature time', fontsize=17)\n",
    "plt.ylabel('Time',size=14)\n",
    "plt.xlabel('Distribution',size=14)\n",
    "plt.show()\n",
    "#sns.plt.legend()"
   ]
  },
  {
   "cell_type": "markdown",
   "metadata": {},
   "source": [
    "distribution of time and amount features"
   ]
  },
  {
   "cell_type": "code",
   "execution_count": 135,
   "metadata": {
    "scrolled": true
   },
   "outputs": [
    {
     "data": {
      "image/png": "[encoded data removed]",
      "text/plain": [
       "<Figure size 1296x288 with 2 Axes>"
      ]
     },
     "metadata": {
      "needs_background": "light"
     },
     "output_type": "display_data"
    }
   ],
   "source": [
    "fig, ax = plt.subplots(1, 2, figsize=(18,4))\n",
    "\n",
    "amount_val = df['Amount'].values\n",
    "time_val =df['Time'].values\n",
    "\n",
    "sns.distplot(amount_val, ax=ax[0], color='r')\n",
    "ax[0].set_title('Distribution of Transaction Amount', fontsize=14)\n",
    "ax[0].set_xlim([min(amount_val), max(amount_val)])\n",
    "\n",
    "sns.distplot(time_val, ax=ax[1], color='b')\n",
    "ax[1].set_title('Distribution of Transaction Time', fontsize=14)\n",
    "ax[1].set_xlim([min(time_val), max(time_val)])\n",
    "plt.show()"
   ]
  },
  {
   "cell_type": "markdown",
   "metadata": {},
   "source": [
    "Correlation between the features"
   ]
  },
  {
   "cell_type": "code",
   "execution_count": 138,
   "metadata": {
    "scrolled": true
   },
   "outputs": [
    {
     "data": {
      "text/plain": [
       "Text(0.5, 1, 'Correlation betweent the variables')"
      ]
     },
     "execution_count": 138,
     "metadata": {},
     "output_type": "execute_result"
    },
    {
     "data": {
      "image/png": "[encoded data removed]",
      "text/plain": [
       "<Figure size 864x864 with 2 Axes>"
      ]
     },
     "metadata": {
      "needs_background": "light"
     },
     "output_type": "display_data"
    }
   ],
   "source": [
    "# Generate a mask for the upper triangle\n",
    "corr= df.corr()\n",
    "mask = np.zeros_like(corr, dtype=np.bool)\n",
    "mask[np.triu_indices_from(mask)] = True\n",
    "\n",
    "f, ax = plt.subplots(figsize=(12, 12))\n",
    "\n",
    "cmap = sns.diverging_palette(100,20,as_cmap=True)\n",
    "\n",
    "sns.heatmap(corr, mask=mask, cmap=cmap, vmax=1, vmin=-1, center=0,\n",
    "            square=True, linewidths=0.2, cbar_kws={\"shrink\": 0.8});\n",
    "plt.title('Correlation betweent the variables', fontsize=20)"
   ]
  },
  {
   "cell_type": "markdown",
   "metadata": {},
   "source": [
    "From above we see there is not much correlation between the features."
   ]
  },
  {
   "cell_type": "markdown",
   "metadata": {},
   "source": [
    "------------------------------------------"
   ]
  },
  {
   "cell_type": "markdown",
   "metadata": {},
   "source": [
    "# PREPROCESSING THE DATA:\n",
    "Standardization of column \"Amount\" and \"Time"
   ]
  },
  {
   "cell_type": "code",
   "execution_count": 11,
   "metadata": {
    "scrolled": true
   },
   "outputs": [],
   "source": [
    "ss = StandardScaler()\n",
    "df['Amount_SS'] = ss.fit_transform(df['Amount'].values.reshape(-1,1))\n",
    "df['Time_SS'] = ss.fit_transform(df['Time'].values.reshape(-1,1))\n",
    "df.drop(['Time', 'Amount'], axis=1, inplace=True)"
   ]
  },
  {
   "cell_type": "markdown",
   "metadata": {},
   "source": [
    "Defining our target variable which is class\n",
    "Moving target value to y and rest of the data to X"
   ]
  },
  {
   "cell_type": "code",
   "execution_count": 12,
   "metadata": {},
   "outputs": [],
   "source": [
    "X = df.drop([\"Class\"], axis=1)\n",
    "Y = df[\"Class\"].values"
   ]
  },
  {
   "cell_type": "markdown",
   "metadata": {},
   "source": [
    "Spliting the data set:\n",
    "\n",
    "Training set : 70%  ;  Validation set : 10%   ;   Testing set : 20%"
   ]
  },
  {
   "cell_type": "code",
   "execution_count": 13,
   "metadata": {},
   "outputs": [],
   "source": [
    "#First spliting the data into 70% training and keeping the 30% in other\n",
    "X_train, X_test, Y_train, Y_test = train_test_split(X, Y, test_size=0.30, random_state=7)\n",
    "\n",
    "#Spliting the other 30% data into testing 20% and validation 10%\n",
    "X_test, X_val, Y_test, Y_val = train_test_split(X_test, Y_test, test_size=0.33, random_state=7)"
   ]
  },
  {
   "cell_type": "code",
   "execution_count": 14,
   "metadata": {},
   "outputs": [
    {
     "name": "stdout",
     "output_type": "stream",
     "text": [
      "Rows and columns in training sets:  (199364, 30) (199364,)\n",
      "Rows and columns in testing sets:  (57246, 30) (57246,)\n",
      "Rows and columns in validation sets:  (28197, 30) (28197,)\n"
     ]
    }
   ],
   "source": [
    "#printing the shape of the datasets\n",
    "print(\"Rows and columns in training sets: \" , X_train.shape, Y_train.shape)\n",
    "print(\"Rows and columns in testing sets: \" , X_test.shape, Y_test.shape)\n",
    "print(\"Rows and columns in validation sets: \" , X_val.shape, Y_val.shape)"
   ]
  },
  {
   "cell_type": "markdown",
   "metadata": {},
   "source": [
    "-------------------------------------------------------\n",
    "### RANDOM FOREST After PREPROCESSING"
   ]
  },
  {
   "cell_type": "code",
   "execution_count": 15,
   "metadata": {},
   "outputs": [],
   "source": [
    "RF1 = RandomForestClassifier().fit(X_train, Y_train)"
   ]
  },
  {
   "cell_type": "markdown",
   "metadata": {},
   "source": [
    "Predicting targets on testing data"
   ]
  },
  {
   "cell_type": "code",
   "execution_count": 16,
   "metadata": {},
   "outputs": [],
   "source": [
    "Y_Test_Pred_RF1 = RF1.predict(X_test)"
   ]
  },
  {
   "cell_type": "code",
   "execution_count": 103,
   "metadata": {},
   "outputs": [
    {
     "name": "stdout",
     "output_type": "stream",
     "text": [
      "Accuracy of Random Forest on Testing data :  0.9996331621423331\n",
      "Precision of Random Forest on Testing data :  0.9438202247191011\n",
      "Recall of Random Forest on Testing data :  0.84\n",
      "F1 score of Random Forest on Testing data :  0.888888888888889\n",
      "Error rate of Random Forest on Testing data :  0.0003668378576668907\n",
      "Confusion matrix : \n",
      " [[57141     5]\n",
      " [   16    84]]\n"
     ]
    }
   ],
   "source": [
    "#metrix for Random Forest on test data\n",
    "\n",
    "#Accuracy_LR1 = LR1.score(X_test, Y_test)\n",
    "print(\"Accuracy of Random Forest on Testing data : \", accuracy_score(Y_test, Y_Test_Pred_RF1))\n",
    "print(\"Precision of Random Forest on Testing data : \", precision_score(Y_test, Y_Test_Pred_RF1))\n",
    "print(\"Recall of Random Forest on Testing data : \", recall_score(Y_test, Y_Test_Pred_RF1))\n",
    "print(\"F1 score of Random Forest on Testing data : \", f1_score(Y_test, Y_Test_Pred_RF1))\n",
    "print(\"Error rate of Random Forest on Testing data : \", 1 - accuracy_score(Y_test, Y_Test_Pred_RF1))\n",
    "\n",
    "\n",
    "#CM_LR1 = confusion_matrix(Y_test, Y_Test_Pred1)\n",
    "print(\"Confusion matrix : \\n\", confusion_matrix(Y_test, Y_Test_Pred_RF1))"
   ]
  },
  {
   "cell_type": "markdown",
   "metadata": {},
   "source": [
    "Predicting targets on Validation data"
   ]
  },
  {
   "cell_type": "code",
   "execution_count": 18,
   "metadata": {},
   "outputs": [],
   "source": [
    "Y_val_Pred_RF1 = RF1.predict(X_val)"
   ]
  },
  {
   "cell_type": "code",
   "execution_count": 104,
   "metadata": {
    "scrolled": true
   },
   "outputs": [
    {
     "name": "stdout",
     "output_type": "stream",
     "text": [
      "Accuracy of Random Forest on Testing data :  0.9995744228109373\n",
      "Precision of Random Forest on Testing data :  0.9215686274509803\n",
      "Recall of Random Forest on Testing data :  0.8545454545454545\n",
      "F1 score of Random Forest on Testing data :  0.8867924528301887\n",
      "Error rate of Random Forest on Testing data :  0.00042557718906266473\n",
      "Confusion matrix : \n",
      " [[28138     4]\n",
      " [    8    47]]\n"
     ]
    }
   ],
   "source": [
    "#metrix for Random Forest on Validataion data\n",
    "\n",
    "#Accuracy_LR1 = LR1.score(X_test, Y_test)\n",
    "print(\"Accuracy of Random Forest on Testing data : \", accuracy_score(Y_val, Y_val_Pred_RF1))\n",
    "print(\"Precision of Random Forest on Testing data : \", precision_score(Y_val, Y_val_Pred_RF1))\n",
    "print(\"Recall of Random Forest on Testing data : \", recall_score(Y_val, Y_val_Pred_RF1))\n",
    "print(\"F1 score of Random Forest on Testing data : \", f1_score(Y_val, Y_val_Pred_RF1))\n",
    "print(\"Error rate of Random Forest on Testing data : \", 1 - accuracy_score(Y_val, Y_val_Pred_RF1))\n",
    "\n",
    "\n",
    "#CM_LR1 = confusion_matrix(Y_test, Y_Test_Pred1)\n",
    "print(\"Confusion matrix : \\n\", confusion_matrix(Y_val, Y_val_Pred_RF1))"
   ]
  },
  {
   "cell_type": "markdown",
   "metadata": {},
   "source": [
    "Area under Precision recall curve for Testing and Validation datasets."
   ]
  },
  {
   "cell_type": "code",
   "execution_count": 43,
   "metadata": {
    "scrolled": true
   },
   "outputs": [
    {
     "data": {
      "text/plain": [
       "Text(0.5, 1.0, 'Precision-Recall curve on Validation data')"
      ]
     },
     "execution_count": 43,
     "metadata": {},
     "output_type": "execute_result"
    },
    {
     "data": {
      "image/png": "[encoded data removed]",
      "text/plain": [
       "<Figure size 432x288 with 1 Axes>"
      ]
     },
     "metadata": {
      "needs_background": "light"
     },
     "output_type": "display_data"
    },
    {
     "data": {
      "image/png": "[encoded data removed]",
      "text/plain": [
       "<Figure size 432x288 with 1 Axes>"
      ]
     },
     "metadata": {
      "needs_background": "light"
     },
     "output_type": "display_data"
    }
   ],
   "source": [
    "#fig, (ax1,ax2) = plt.subplots(1,2,figsize = (12,6))\n",
    "dist1 = plot_precision_recall_curve(RF1,  X_test, Y_test)\n",
    "dist1.ax_.set_title('Precision-Recall curve on Testing data')\n",
    "\n",
    "dist2 = plot_precision_recall_curve(RF1,  X_val, Y_val)\n",
    "dist2.ax_.set_title('Precision-Recall curve on Validation data')"
   ]
  },
  {
   "cell_type": "markdown",
   "metadata": {},
   "source": [
    "ROC Curve for Testing and Validation datasets."
   ]
  },
  {
   "cell_type": "code",
   "execution_count": 102,
   "metadata": {
    "scrolled": true
   },
   "outputs": [
    {
     "data": {
      "image/png": "[encoded data removed]",
      "text/plain": [
       "<Figure size 432x288 with 1 Axes>"
      ]
     },
     "metadata": {
      "needs_background": "light"
     },
     "output_type": "display_data"
    },
    {
     "data": {
      "image/png": "[encoded data removed]",
      "text/plain": [
       "<Figure size 432x288 with 1 Axes>"
      ]
     },
     "metadata": {
      "needs_background": "light"
     },
     "output_type": "display_data"
    }
   ],
   "source": [
    "#roc for testing set\n",
    "Y_Test_Prob_RF1 = RF1.predict_proba(X_test)[:,1]\n",
    "fpr1, tpr1, _ = metrics.roc_curve(Y_test,  Y_Test_Prob_RF1)\n",
    "auc1 = metrics.roc_auc_score(Y_test, Y_Test_Prob_RF1)\n",
    "plt.title('ROC curve on training data')\n",
    "plt.plot(fpr1, tpr1, label='AUC = %0.2f' % auc1)\n",
    "plt.legend(loc = 'lower right')\n",
    "plt.xlabel(\"False Positive Rate\")\n",
    "plt.ylabel('True Positive Rate')\n",
    "plt.show()\n",
    "\n",
    "#roc for Validataion set\n",
    "Y_val_Prob_RF1 = RF1.predict_proba(X_val)[:,1]\n",
    "fpr2, tpr2, _ = metrics.roc_curve(Y_val,  Y_val_Prob_RF1)\n",
    "auc2 = metrics.roc_auc_score(Y_val, Y_val_Prob_RF1)\n",
    "plt.title('ROC curve on Validation data')\n",
    "plt.plot(fpr2, tpr2, label='AUC = %0.2f' % auc2)\n",
    "plt.legend(loc = 'lower right')\n",
    "plt.xlabel(\"False Positive Rate\")\n",
    "plt.ylabel('True Positive Rate')\n",
    "plt.show()"
   ]
  },
  {
   "cell_type": "markdown",
   "metadata": {},
   "source": [
    "-------------------------------------------------------\n",
    "### XGBOOST After PREPROCESSING"
   ]
  },
  {
   "cell_type": "code",
   "execution_count": 45,
   "metadata": {
    "scrolled": true
   },
   "outputs": [],
   "source": [
    "XGB1 = xgb.XGBClassifier(n_estimators=1000,learning_rate = 0.1).fit(X_train, Y_train)\n",
    "Y_Test_Pred_XGB1 = XGB1.predict(X_test)"
   ]
  },
  {
   "cell_type": "markdown",
   "metadata": {},
   "source": [
    "Predicting targets on testing data and printing metrics"
   ]
  },
  {
   "cell_type": "code",
   "execution_count": 105,
   "metadata": {
    "scrolled": true
   },
   "outputs": [
    {
     "name": "stdout",
     "output_type": "stream",
     "text": [
      "Accuracy of XGBoost on Testing data :  0.999580756734095\n",
      "Precision of XGBoost on Testing data :  0.9318181818181818\n",
      "Recall of XGBoost on Testing data :  0.82\n",
      "F1 score of XGBoost on Testing data :  0.8723404255319149\n",
      "Error rate of XGBoost on Testing data :  0.0004192432659050338\n",
      "Confusion matrix : \n",
      " [[57140     6]\n",
      " [   18    82]]\n"
     ]
    }
   ],
   "source": [
    "#metrix for XGBoost on test data\n",
    "\n",
    "print(\"Accuracy of XGBoost on Testing data : \", accuracy_score(Y_test, Y_Test_Pred_XGB1))\n",
    "print(\"Precision of XGBoost on Testing data : \", precision_score(Y_test, Y_Test_Pred_XGB1))\n",
    "print(\"Recall of XGBoost on Testing data : \", recall_score(Y_test, Y_Test_Pred_XGB1))\n",
    "print(\"F1 score of XGBoost on Testing data : \", f1_score(Y_test, Y_Test_Pred_XGB1))\n",
    "print(\"Error rate of XGBoost on Testing data : \", 1 - accuracy_score(Y_test, Y_Test_Pred_XGB1))\n",
    "\n",
    "\n",
    "print(\"Confusion matrix : \\n\", confusion_matrix(Y_test, Y_Test_Pred_XGB1))"
   ]
  },
  {
   "cell_type": "markdown",
   "metadata": {},
   "source": [
    "Predicting targets on Validataion data and printing metrics"
   ]
  },
  {
   "cell_type": "code",
   "execution_count": 47,
   "metadata": {},
   "outputs": [],
   "source": [
    "Y_val_Pred_XGB1 = XGB1.predict(X_val)"
   ]
  },
  {
   "cell_type": "code",
   "execution_count": 106,
   "metadata": {
    "scrolled": true
   },
   "outputs": [
    {
     "name": "stdout",
     "output_type": "stream",
     "text": [
      "Accuracy of XGBoost on Testing data :  0.9996098875766926\n",
      "Precision of XGBoost on Testing data :  0.9583333333333334\n",
      "Recall of XGBoost on Testing data :  0.8363636363636363\n",
      "F1 score of XGBoost on Testing data :  0.8932038834951457\n",
      "Error rate of XGBoost on Testing data :  0.00039011242330744267\n",
      "Confusion matrix : \n",
      " [[28140     2]\n",
      " [    9    46]]\n"
     ]
    }
   ],
   "source": [
    "#metrix for XGBoost on Validataion data\n",
    "\n",
    "print(\"Accuracy of XGBoost on Testing data : \", accuracy_score(Y_val, Y_val_Pred_XGB1))\n",
    "print(\"Precision of XGBoost on Testing data : \", precision_score(Y_val, Y_val_Pred_XGB1))\n",
    "print(\"Recall of XGBoost on Testing data : \", recall_score(Y_val, Y_val_Pred_XGB1))\n",
    "print(\"F1 score of XGBoost on Testing data : \", f1_score(Y_val, Y_val_Pred_XGB1))\n",
    "print(\"Error rate of XGBoost on Testing data : \", 1 - accuracy_score(Y_val, Y_val_Pred_XGB1))\n",
    "\n",
    "\n",
    "print(\"Confusion matrix : \\n\", confusion_matrix(Y_val, Y_val_Pred_XGB1))"
   ]
  },
  {
   "cell_type": "markdown",
   "metadata": {},
   "source": [
    "Area under Precision recall curve for Testing and Validation datasets."
   ]
  },
  {
   "cell_type": "code",
   "execution_count": 49,
   "metadata": {
    "scrolled": true
   },
   "outputs": [
    {
     "data": {
      "text/plain": [
       "Text(0.5, 1.0, 'Precision-Recall curve on Validation data')"
      ]
     },
     "execution_count": 49,
     "metadata": {},
     "output_type": "execute_result"
    },
    {
     "data": {
      "image/png": "[encoded data removed]",
      "text/plain": [
       "<Figure size 432x288 with 1 Axes>"
      ]
     },
     "metadata": {
      "needs_background": "light"
     },
     "output_type": "display_data"
    },
    {
     "data": {
      "image/png": "[encoded data removed]",
      "text/plain": [
       "<Figure size 432x288 with 1 Axes>"
      ]
     },
     "metadata": {
      "needs_background": "light"
     },
     "output_type": "display_data"
    }
   ],
   "source": [
    "#fig, (ax1,ax2) = plt.subplots(1,2,figsize = (12,6))\n",
    "dist1 = plot_precision_recall_curve(XGB1,  X_test, Y_test)\n",
    "dist1.ax_.set_title('Precision-Recall curve on Testing data')\n",
    "\n",
    "dist2 = plot_precision_recall_curve(XGB1,  X_val, Y_val)\n",
    "dist2.ax_.set_title('Precision-Recall curve on Validation data')"
   ]
  },
  {
   "cell_type": "markdown",
   "metadata": {},
   "source": [
    "ROC Curve for Testing and Validation datasets."
   ]
  },
  {
   "cell_type": "code",
   "execution_count": 85,
   "metadata": {
    "scrolled": true
   },
   "outputs": [
    {
     "data": {
      "image/png": "[encoded data removed]",
      "text/plain": [
       "<Figure size 432x288 with 1 Axes>"
      ]
     },
     "metadata": {
      "needs_background": "light"
     },
     "output_type": "display_data"
    },
    {
     "data": {
      "image/png": "[encoded data removed]",
      "text/plain": [
       "<Figure size 432x288 with 1 Axes>"
      ]
     },
     "metadata": {
      "needs_background": "light"
     },
     "output_type": "display_data"
    }
   ],
   "source": [
    "#roc for testing set\n",
    "Y_Test_Prob_XGB1 = XGB1.predict_proba(X_test)[:,1]\n",
    "fpr1, tpr1, _ = metrics.roc_curve(Y_test,  Y_Test_Prob_XGB1)\n",
    "auc1 = metrics.roc_auc_score(Y_test, Y_Test_Prob_XGB1)\n",
    "plt.title('ROC curve on training data')\n",
    "plt.plot(fpr1, tpr1, label='AUC = %0.2f' % auc1)\n",
    "#plt.legend(loc = 'lower right')\n",
    "plt.xlabel(\"False Positive Rate\")\n",
    "plt.ylabel('True Positive Rate')\n",
    "plt.show()\n",
    "\n",
    "#roc for Validataion set\n",
    "Y_val_Prob_XGB1 = XGB1.predict_proba(X_val)[:,1]\n",
    "fpr2, tpr2, _ = metrics.roc_curve(Y_val,  Y_val_Prob_XGB1)\n",
    "auc2 = metrics.roc_auc_score(Y_val, Y_val_Prob_XGB1)\n",
    "plt.title('ROC curve on Validation data')\n",
    "plt.plot(fpr2, tpr2, label='AUC = %0.2f' % auc2)\n",
    "#plt.legend(loc = 'lower right')\n",
    "plt.xlabel(\"False Positive Rate\")\n",
    "plt.ylabel('True Positive Rate')\n",
    "plt.show()"
   ]
  },
  {
   "cell_type": "markdown",
   "metadata": {},
   "source": [
    "--------------------------------------------------"
   ]
  },
  {
   "cell_type": "markdown",
   "metadata": {},
   "source": [
    "# Random Over Sampling"
   ]
  },
  {
   "cell_type": "code",
   "execution_count": 50,
   "metadata": {},
   "outputs": [],
   "source": [
    "X = df.drop([\"Class\"], axis=1)\n",
    "Y = df[\"Class\"].values"
   ]
  },
  {
   "cell_type": "markdown",
   "metadata": {},
   "source": [
    "Spliting the data set:\n",
    "\n",
    "Training set : 70%  ;  Validation set : 10%   ;   Testing set : 20%"
   ]
  },
  {
   "cell_type": "code",
   "execution_count": 51,
   "metadata": {},
   "outputs": [],
   "source": [
    "#First spliting the data into 70% training and keeping the 30% in other\n",
    "X_train, X_test, Y_train, Y_test = train_test_split(X, Y, test_size=0.30, random_state=7)\n",
    "#Spliting the other 30% data into testing 20% and validation 10%\n",
    "X_test, X_val, Y_test, Y_val = train_test_split(X_test, Y_test, test_size=0.33, random_state=7)"
   ]
  },
  {
   "cell_type": "markdown",
   "metadata": {},
   "source": [
    "Applying random over sampling on train data"
   ]
  },
  {
   "cell_type": "code",
   "execution_count": 52,
   "metadata": {
    "scrolled": true
   },
   "outputs": [],
   "source": [
    "RS_Over = RandomOverSampler(random_state=0)\n",
    "\n",
    "X_train_resampled, Y_train_resampled = RS_Over.fit_resample(X_train, Y_train)"
   ]
  },
  {
   "cell_type": "code",
   "execution_count": 53,
   "metadata": {},
   "outputs": [
    {
     "name": "stdout",
     "output_type": "stream",
     "text": [
      "(398054, 30)\n",
      "(398054,)\n"
     ]
    }
   ],
   "source": [
    "print(X_train_resampled.shape)\n",
    "print(Y_train_resampled.shape)"
   ]
  },
  {
   "cell_type": "markdown",
   "metadata": {},
   "source": [
    "------------------------------\n",
    "RANDOM FOREST with Random Over Sampling"
   ]
  },
  {
   "cell_type": "code",
   "execution_count": 54,
   "metadata": {},
   "outputs": [],
   "source": [
    "RF2 = RandomForestClassifier().fit(X_train_resampled, Y_train_resampled)"
   ]
  },
  {
   "cell_type": "markdown",
   "metadata": {},
   "source": [
    "Predicting targets on testing data"
   ]
  },
  {
   "cell_type": "code",
   "execution_count": 55,
   "metadata": {},
   "outputs": [],
   "source": [
    "Y_Test_Pred_RF2 = RF2.predict(X_test)"
   ]
  },
  {
   "cell_type": "code",
   "execution_count": 107,
   "metadata": {
    "scrolled": true
   },
   "outputs": [
    {
     "name": "stdout",
     "output_type": "stream",
     "text": [
      "Accuracy of RANDOM FOREST on Testing data :  0.999580756734095\n",
      "Precision of RANDOM FOREST on Testing data :  0.9418604651162791\n",
      "Recall of RANDOM FOREST on Testing data :  0.81\n",
      "F1 score of RANDOM FOREST on Testing data :  0.8709677419354839\n",
      "Error rate of RANDOM FOREST on Testing data :  0.0004192432659050338\n",
      "Confusion matrix : \n",
      " [[57141     5]\n",
      " [   19    81]]\n"
     ]
    }
   ],
   "source": [
    "#metrix for Random Forest on test data\n",
    "print(\"Accuracy of RANDOM FOREST on Testing data : \", accuracy_score(Y_test, Y_Test_Pred_RF2))\n",
    "print(\"Precision of RANDOM FOREST on Testing data : \", precision_score(Y_test, Y_Test_Pred_RF2))\n",
    "print(\"Recall of RANDOM FOREST on Testing data : \", recall_score(Y_test, Y_Test_Pred_RF2))\n",
    "print(\"F1 score of RANDOM FOREST on Testing data : \", f1_score(Y_test, Y_Test_Pred_RF2))\n",
    "print(\"Error rate of RANDOM FOREST on Testing data : \", 1 - accuracy_score(Y_test, Y_Test_Pred_RF2))\n",
    "\n",
    "\n",
    "#CM_LR1 = confusion_matrix(Y_test, Y_Test_Pred1)\n",
    "print(\"Confusion matrix : \\n\", confusion_matrix(Y_test, Y_Test_Pred_RF2))"
   ]
  },
  {
   "cell_type": "markdown",
   "metadata": {},
   "source": [
    "Predicting targets on Validation data"
   ]
  },
  {
   "cell_type": "code",
   "execution_count": 57,
   "metadata": {},
   "outputs": [],
   "source": [
    "Y_val_Pred_RF2 = RF2.predict(X_val)"
   ]
  },
  {
   "cell_type": "code",
   "execution_count": 108,
   "metadata": {
    "scrolled": true
   },
   "outputs": [
    {
     "name": "stdout",
     "output_type": "stream",
     "text": [
      "Accuracy of RANDOM FOREST on Testing data :  0.9995034932794269\n",
      "Precision of RANDOM FOREST on Testing data :  0.9183673469387755\n",
      "Recall of RANDOM FOREST on Testing data :  0.8181818181818182\n",
      "F1 score of RANDOM FOREST on Testing data :  0.8653846153846154\n",
      "Error rate of RANDOM FOREST on Testing data :  0.0004965067205731089\n",
      "Confusion matrix : \n",
      " [[28138     4]\n",
      " [   10    45]]\n"
     ]
    }
   ],
   "source": [
    "#metrix for Random Forest on Validataion data\n",
    "\n",
    "#Accuracy_LR1 = LR1.score(X_test, Y_test)\n",
    "print(\"Accuracy of RANDOM FOREST on Testing data : \", accuracy_score(Y_val, Y_val_Pred_RF2))\n",
    "print(\"Precision of RANDOM FOREST on Testing data : \", precision_score(Y_val, Y_val_Pred_RF2))\n",
    "print(\"Recall of RANDOM FOREST on Testing data : \", recall_score(Y_val, Y_val_Pred_RF2))\n",
    "print(\"F1 score of RANDOM FOREST on Testing data : \", f1_score(Y_val, Y_val_Pred_RF2))\n",
    "print(\"Error rate of RANDOM FOREST on Testing data : \", 1 - accuracy_score(Y_val, Y_val_Pred_RF2))\n",
    "\n",
    "\n",
    "#CM_LR1 = confusion_matrix(Y_test, Y_Test_Pred1)\n",
    "print(\"Confusion matrix : \\n\", confusion_matrix(Y_val, Y_val_Pred_RF2))"
   ]
  },
  {
   "cell_type": "markdown",
   "metadata": {},
   "source": [
    "Area under Precision recall curve for Testing and Validation datasets."
   ]
  },
  {
   "cell_type": "code",
   "execution_count": 59,
   "metadata": {
    "scrolled": true
   },
   "outputs": [
    {
     "data": {
      "text/plain": [
       "Text(0.5, 1.0, 'Precision-Recall curve on Validation data')"
      ]
     },
     "execution_count": 59,
     "metadata": {},
     "output_type": "execute_result"
    },
    {
     "data": {
      "image/png": "[encoded data removed]",
      "text/plain": [
       "<Figure size 432x288 with 1 Axes>"
      ]
     },
     "metadata": {
      "needs_background": "light"
     },
     "output_type": "display_data"
    },
    {
     "data": {
      "image/png": "[encoded data removed]",
      "text/plain": [
       "<Figure size 432x288 with 1 Axes>"
      ]
     },
     "metadata": {
      "needs_background": "light"
     },
     "output_type": "display_data"
    }
   ],
   "source": [
    "#fig, (ax1,ax2) = plt.subplots(1,2,figsize = (12,6))\n",
    "dist1 = plot_precision_recall_curve(RF2,  X_test, Y_test)\n",
    "dist1.ax_.set_title('Precision-Recall curve on Testing data')\n",
    "\n",
    "dist2 = plot_precision_recall_curve(RF2,  X_val, Y_val)\n",
    "dist2.ax_.set_title('Precision-Recall curve on Validation data')"
   ]
  },
  {
   "cell_type": "markdown",
   "metadata": {},
   "source": [
    "ROC Curve for Testing and Validation datasets."
   ]
  },
  {
   "cell_type": "code",
   "execution_count": 86,
   "metadata": {
    "scrolled": true
   },
   "outputs": [
    {
     "data": {
      "image/png": "[encoded data removed]",
      "text/plain": [
       "<Figure size 432x288 with 1 Axes>"
      ]
     },
     "metadata": {
      "needs_background": "light"
     },
     "output_type": "display_data"
    },
    {
     "data": {
      "image/png": "[encoded data removed]",
      "text/plain": [
       "<Figure size 432x288 with 1 Axes>"
      ]
     },
     "metadata": {
      "needs_background": "light"
     },
     "output_type": "display_data"
    }
   ],
   "source": [
    "#roc for testing set\n",
    "Y_Test_Prob_RF2 = RF2.predict_proba(X_test)[:,1]\n",
    "fpr1, tpr1, _ = metrics.roc_curve(Y_test,  Y_Test_Prob_RF2)\n",
    "auc1 = metrics.roc_auc_score(Y_test, Y_Test_Prob_RF2)\n",
    "plt.title('ROC curve on training data')\n",
    "plt.plot(fpr1, tpr1, label='AUC = %0.2f' % auc1)\n",
    "#plt.legend(loc = 'lower right')\n",
    "plt.xlabel(\"False Positive Rate\")\n",
    "plt.ylabel('True Positive Rate')\n",
    "plt.show()\n",
    "\n",
    "#roc for Validataion set\n",
    "Y_val_Prob_RF2 = RF2.predict_proba(X_val)[:,1]\n",
    "fpr2, tpr2, _ = metrics.roc_curve(Y_val,  Y_val_Prob_RF2)\n",
    "auc2 = metrics.roc_auc_score(Y_val, Y_val_Prob_RF2)\n",
    "plt.title('ROC curve on Validation data')\n",
    "plt.plot(fpr2, tpr2, label='AUC = %0.2f' % auc2)\n",
    "#plt.legend(loc = 'lower right')\n",
    "plt.xlabel(\"False Positive Rate\")\n",
    "plt.ylabel('True Positive Rate')\n",
    "plt.show()"
   ]
  },
  {
   "cell_type": "markdown",
   "metadata": {},
   "source": [
    "-----------------------------\n",
    "XGBoost with Random Over Sampling"
   ]
  },
  {
   "cell_type": "code",
   "execution_count": 60,
   "metadata": {},
   "outputs": [],
   "source": [
    "XGB2 = xgb.XGBClassifier(n_estimators = 500, max_depth = 30, learning_rate = 0.1).fit(X_train_resampled, Y_train_resampled)"
   ]
  },
  {
   "cell_type": "markdown",
   "metadata": {},
   "source": [
    "Predicting targets on testing data and printing metrics"
   ]
  },
  {
   "cell_type": "code",
   "execution_count": 61,
   "metadata": {},
   "outputs": [],
   "source": [
    "Y_Test_Pred_XGB2 = XGB2.predict(X_test)"
   ]
  },
  {
   "cell_type": "code",
   "execution_count": 109,
   "metadata": {},
   "outputs": [
    {
     "name": "stdout",
     "output_type": "stream",
     "text": [
      "Accuracy of XGBoost on Testing data :  0.9995458197952696\n",
      "Precision of XGBoost on Testing data :  0.8854166666666666\n",
      "Recall of XGBoost on Testing data :  0.85\n",
      "F1 score of XGBoost on Testing data :  0.8673469387755102\n",
      "Error rate of XGBoost on Testing data :  0.00045418020473042553\n",
      "Confusion matrix : \n",
      " [[57135    11]\n",
      " [   15    85]]\n"
     ]
    }
   ],
   "source": [
    "#metrix for XGBoost on test data\n",
    "\n",
    "print(\"Accuracy of XGBoost on Testing data : \", accuracy_score(Y_test, Y_Test_Pred_XGB2))\n",
    "print(\"Precision of XGBoost on Testing data : \", precision_score(Y_test, Y_Test_Pred_XGB2))\n",
    "print(\"Recall of XGBoost on Testing data : \", recall_score(Y_test, Y_Test_Pred_XGB2))\n",
    "print(\"F1 score of XGBoost on Testing data : \", f1_score(Y_test, Y_Test_Pred_XGB2))\n",
    "print(\"Error rate of XGBoost on Testing data : \", 1 - accuracy_score(Y_test, Y_Test_Pred_XGB2))\n",
    "\n",
    "\n",
    "print(\"Confusion matrix : \\n\", confusion_matrix(Y_test, Y_Test_Pred_XGB2))"
   ]
  },
  {
   "cell_type": "markdown",
   "metadata": {},
   "source": [
    "Predicting targets on Validataion data and printing metrics"
   ]
  },
  {
   "cell_type": "code",
   "execution_count": 110,
   "metadata": {},
   "outputs": [
    {
     "name": "stdout",
     "output_type": "stream",
     "text": [
      "Accuracy of XGBoost on Testing data :  0.9996098875766926\n",
      "Precision of XGBoost on Testing data :  0.94\n",
      "Recall of XGBoost on Testing data :  0.8545454545454545\n",
      "F1 score of XGBoost on Testing data :  0.8952380952380952\n",
      "Error rate of XGBoost on Testing data :  0.00039011242330744267\n",
      "Confusion matrix : \n",
      " [[28139     3]\n",
      " [    8    47]]\n"
     ]
    }
   ],
   "source": [
    "Y_val_Pred_XGB2 = XGB2.predict(X_val)\n",
    "#metrix for XGBoost on Validataion data\n",
    "\n",
    "print(\"Accuracy of XGBoost on Testing data : \", accuracy_score(Y_val, Y_val_Pred_XGB2))\n",
    "print(\"Precision of XGBoost on Testing data : \", precision_score(Y_val, Y_val_Pred_XGB2))\n",
    "print(\"Recall of XGBoost on Testing data : \", recall_score(Y_val, Y_val_Pred_XGB2))\n",
    "print(\"F1 score of XGBoost on Testing data : \", f1_score(Y_val, Y_val_Pred_XGB2))\n",
    "print(\"Error rate of XGBoost on Testing data : \", 1 - accuracy_score(Y_val, Y_val_Pred_XGB2))\n",
    "\n",
    "\n",
    "print(\"Confusion matrix : \\n\", confusion_matrix(Y_val, Y_val_Pred_XGB2))"
   ]
  },
  {
   "cell_type": "code",
   "execution_count": 64,
   "metadata": {
    "scrolled": true
   },
   "outputs": [
    {
     "data": {
      "text/plain": [
       "Text(0.5, 1.0, 'Precision-Recall curve on Validation data')"
      ]
     },
     "execution_count": 64,
     "metadata": {},
     "output_type": "execute_result"
    },
    {
     "data": {
      "image/png": "[encoded data removed]",
      "text/plain": [
       "<Figure size 432x288 with 1 Axes>"
      ]
     },
     "metadata": {
      "needs_background": "light"
     },
     "output_type": "display_data"
    },
    {
     "data": {
      "image/png": "[encoded data removed]",
      "text/plain": [
       "<Figure size 432x288 with 1 Axes>"
      ]
     },
     "metadata": {
      "needs_background": "light"
     },
     "output_type": "display_data"
    }
   ],
   "source": [
    "#fig, (ax1,ax2) = plt.subplots(1,2,figsize = (12,6))\n",
    "dist1 = plot_precision_recall_curve(XGB2,  X_test, Y_test)\n",
    "dist1.ax_.set_title('Precision-Recall curve on Testing data')\n",
    "\n",
    "dist2 = plot_precision_recall_curve(XGB2,  X_val, Y_val)\n",
    "dist2.ax_.set_title('Precision-Recall curve on Validation data')"
   ]
  },
  {
   "cell_type": "markdown",
   "metadata": {},
   "source": [
    "ROC Curve for Testing and Validation datasets."
   ]
  },
  {
   "cell_type": "code",
   "execution_count": 87,
   "metadata": {
    "scrolled": true
   },
   "outputs": [
    {
     "data": {
      "image/png": "[encoded data removed]",
      "text/plain": [
       "<Figure size 432x288 with 1 Axes>"
      ]
     },
     "metadata": {
      "needs_background": "light"
     },
     "output_type": "display_data"
    },
    {
     "data": {
      "image/png": "[encoded data removed]",
      "text/plain": [
       "<Figure size 432x288 with 1 Axes>"
      ]
     },
     "metadata": {
      "needs_background": "light"
     },
     "output_type": "display_data"
    }
   ],
   "source": [
    "#roc for testing set\n",
    "Y_Test_Prob_XGB2 = XGB2.predict_proba(X_test)[:,1]\n",
    "fpr1, tpr1, _ = metrics.roc_curve(Y_test,  Y_Test_Prob_XGB2)\n",
    "auc1 = metrics.roc_auc_score(Y_test, Y_Test_Prob_XGB2)\n",
    "plt.title('ROC curve on training data')\n",
    "plt.plot(fpr1, tpr1, label='AUC = %0.2f' % auc1)\n",
    "#plt.legend(loc = 'lower right')\n",
    "plt.xlabel(\"False Positive Rate\")\n",
    "plt.ylabel('True Positive Rate')\n",
    "plt.show()\n",
    "\n",
    "#roc for Validataion set\n",
    "Y_val_Prob_XGB2 = XGB2.predict_proba(X_val)[:,1]\n",
    "fpr2, tpr2, _ = metrics.roc_curve(Y_val,  Y_val_Prob_XGB2)\n",
    "auc2 = metrics.roc_auc_score(Y_val, Y_val_Prob_XGB2)\n",
    "plt.title('ROC curve on Validation data')\n",
    "plt.plot(fpr2, tpr2, label='AUC = %0.2f' % auc2)\n",
    "#plt.legend(loc = 'lower right')\n",
    "plt.xlabel(\"False Positive Rate\")\n",
    "plt.ylabel('True Positive Rate')\n",
    "plt.show()"
   ]
  },
  {
   "cell_type": "markdown",
   "metadata": {},
   "source": [
    "## SMOTE"
   ]
  },
  {
   "cell_type": "code",
   "execution_count": 65,
   "metadata": {},
   "outputs": [],
   "source": [
    "X = df.drop([\"Class\"], axis=1)\n",
    "Y = df[\"Class\"].values"
   ]
  },
  {
   "cell_type": "code",
   "execution_count": 66,
   "metadata": {},
   "outputs": [],
   "source": [
    "#First spliting the data into 70% training and keeping the 30% in other\n",
    "X_train, X_test, Y_train, Y_test = train_test_split(X, Y, test_size=0.30, random_state=7)\n",
    "#Spliting the other 30% data into testing 20% and validation 10%\n",
    "X_test, X_val, Y_test, Y_val = train_test_split(X_test, Y_test, test_size=0.33, random_state=7)"
   ]
  },
  {
   "cell_type": "markdown",
   "metadata": {},
   "source": [
    "Appliying smote on Training data"
   ]
  },
  {
   "cell_type": "code",
   "execution_count": 67,
   "metadata": {},
   "outputs": [],
   "source": [
    "X_train_smote, Y_train_smote = SMOTE(random_state =7).fit_sample(X_train, Y_train)"
   ]
  },
  {
   "cell_type": "code",
   "execution_count": 68,
   "metadata": {},
   "outputs": [
    {
     "name": "stdout",
     "output_type": "stream",
     "text": [
      "(398054, 30)\n",
      "(398054,)\n"
     ]
    }
   ],
   "source": [
    "print(X_train_smote.shape)\n",
    "print(Y_train_smote.shape)"
   ]
  },
  {
   "cell_type": "markdown",
   "metadata": {},
   "source": [
    "----------------------------\n",
    "RANDOM FOREST with SMOTE"
   ]
  },
  {
   "cell_type": "code",
   "execution_count": 69,
   "metadata": {},
   "outputs": [],
   "source": [
    "RF3 = RandomForestClassifier().fit(X_train_smote, Y_train_smote)"
   ]
  },
  {
   "cell_type": "markdown",
   "metadata": {},
   "source": [
    "Predicting targets on testing data"
   ]
  },
  {
   "cell_type": "code",
   "execution_count": 70,
   "metadata": {},
   "outputs": [],
   "source": [
    "Y_Test_Pred_RF3 = RF3.predict(X_test)"
   ]
  },
  {
   "cell_type": "code",
   "execution_count": 114,
   "metadata": {},
   "outputs": [
    {
     "name": "stdout",
     "output_type": "stream",
     "text": [
      "Accuracy of Random Forest on Testing data :  0.9994410089787933\n",
      "Precision of Random Forest on Testing data :  0.84\n",
      "Recall of Random Forest on Testing data :  0.84\n",
      "F1 score of Random Forest on Testing data :  0.8399999999999999\n",
      "Error rate of Random Forest on Testing data :  0.0005589910212067117\n",
      "Confusion matrix : \n",
      " [[57130    16]\n",
      " [   16    84]]\n"
     ]
    }
   ],
   "source": [
    "#metrix for Random Forest on test data\n",
    "\n",
    "#Accuracy_LR1 = LR1.score(X_test, Y_test)\n",
    "print(\"Accuracy of Random Forest on Testing data : \", accuracy_score(Y_test, Y_Test_Pred_RF3))\n",
    "print(\"Precision of Random Forest on Testing data : \", precision_score(Y_test, Y_Test_Pred_RF3))\n",
    "print(\"Recall of Random Forest on Testing data : \", recall_score(Y_test, Y_Test_Pred_RF3))\n",
    "print(\"F1 score of Random Forest on Testing data : \", f1_score(Y_test, Y_Test_Pred_RF3))\n",
    "print(\"Error rate of Random Forest on Testing data : \", 1 - accuracy_score(Y_test, Y_Test_Pred_RF3))\n",
    "\n",
    "#CM_LR1 = confusion_matrix(Y_test, Y_Test_Pred1)\n",
    "print(\"Confusion matrix : \\n\", confusion_matrix(Y_test, Y_Test_Pred_RF3))"
   ]
  },
  {
   "cell_type": "markdown",
   "metadata": {},
   "source": [
    "Predicting targets on Validation data"
   ]
  },
  {
   "cell_type": "code",
   "execution_count": 113,
   "metadata": {},
   "outputs": [
    {
     "name": "stdout",
     "output_type": "stream",
     "text": [
      "Accuracy of Random Forest on Testing data :  0.9995744228109373\n",
      "Precision of Random Forest on Testing data :  0.8909090909090909\n",
      "Recall of Random Forest on Testing data :  0.8909090909090909\n",
      "F1 score of Random Forest on Testing data :  0.8909090909090909\n",
      "Error rate of Random Forest on Testing data :  0.00042557718906266473\n",
      "Confusion matrix : \n",
      " [[28136     6]\n",
      " [    6    49]]\n"
     ]
    }
   ],
   "source": [
    "Y_val_Pred_RF3 = RF3.predict(X_val)\n",
    "#metrix for Random Forest on Validataion data\n",
    "\n",
    "#Accuracy_LR1 = LR1.score(X_test, Y_test)\n",
    "print(\"Accuracy of Random Forest on Testing data : \", accuracy_score(Y_val, Y_val_Pred_RF3))\n",
    "print(\"Precision of Random Forest on Testing data : \", precision_score(Y_val, Y_val_Pred_RF3))\n",
    "print(\"Recall of Random Forest on Testing data : \", recall_score(Y_val, Y_val_Pred_RF3))\n",
    "print(\"F1 score of Random Forest on Testing data : \", f1_score(Y_val, Y_val_Pred_RF3))\n",
    "print(\"Error rate of Random Forest on Testing data : \", 1 - accuracy_score(Y_val, Y_val_Pred_RF3))\n",
    "\n",
    "\n",
    "#CM_LR1 = confusion_matrix(Y_test, Y_Test_Pred1)\n",
    "print(\"Confusion matrix : \\n\", confusion_matrix(Y_val, Y_val_Pred_RF3))"
   ]
  },
  {
   "cell_type": "markdown",
   "metadata": {},
   "source": [
    "Area under Precision recall curve for Testing and Validation datasets."
   ]
  },
  {
   "cell_type": "code",
   "execution_count": 73,
   "metadata": {
    "scrolled": true
   },
   "outputs": [
    {
     "data": {
      "text/plain": [
       "Text(0.5, 1.0, 'Precision-Recall curve on Validation data')"
      ]
     },
     "execution_count": 73,
     "metadata": {},
     "output_type": "execute_result"
    },
    {
     "data": {
      "image/png": "[encoded data removed]",
      "text/plain": [
       "<Figure size 432x288 with 1 Axes>"
      ]
     },
     "metadata": {
      "needs_background": "light"
     },
     "output_type": "display_data"
    },
    {
     "data": {
      "image/png": "[encoded data removed]",
      "text/plain": [
       "<Figure size 432x288 with 1 Axes>"
      ]
     },
     "metadata": {
      "needs_background": "light"
     },
     "output_type": "display_data"
    }
   ],
   "source": [
    "#fig, (ax1,ax2) = plt.subplots(1,2,figsize = (12,6))\n",
    "dist1 = plot_precision_recall_curve(RF3, X_test, Y_test)\n",
    "dist1.ax_.set_title('Precision-Recall curve on Testing data')\n",
    "\n",
    "dist2 = plot_precision_recall_curve(RF3, X_val, Y_val)\n",
    "dist2.ax_.set_title('Precision-Recall curve on Validation data')"
   ]
  },
  {
   "cell_type": "markdown",
   "metadata": {},
   "source": [
    "ROC Curve for Testing and Validation datasets."
   ]
  },
  {
   "cell_type": "code",
   "execution_count": 88,
   "metadata": {
    "scrolled": true
   },
   "outputs": [
    {
     "data": {
      "image/png": "[encoded data removed]",
      "text/plain": [
       "<Figure size 432x288 with 1 Axes>"
      ]
     },
     "metadata": {
      "needs_background": "light"
     },
     "output_type": "display_data"
    },
    {
     "data": {
      "image/png": "[encoded data removed]",
      "text/plain": [
       "<Figure size 432x288 with 1 Axes>"
      ]
     },
     "metadata": {
      "needs_background": "light"
     },
     "output_type": "display_data"
    }
   ],
   "source": [
    "#ROC Curve for Testing and Validation datasets.\n",
    "#roc for testing set\n",
    "Y_Test_Prob_RF3 = RF3.predict_proba(X_test)[:,1]\n",
    "fpr1, tpr1, _ = metrics.roc_curve(Y_test,  Y_Test_Prob_RF3)\n",
    "auc1 = metrics.roc_auc_score(Y_test, Y_Test_Prob_RF3)\n",
    "plt.title('ROC curve on training data')\n",
    "plt.plot(fpr1, tpr1, label='AUC = %0.2f' % auc1)\n",
    "#plt.legend(loc = 'lower right')\n",
    "plt.xlabel(\"False Positive Rate\")\n",
    "plt.ylabel('True Positive Rate')\n",
    "plt.show()\n",
    "\n",
    "#roc for Validataion set\n",
    "Y_val_Prob_RF3 = RF3.predict_proba(X_val)[:,1]\n",
    "fpr2, tpr2, _ = metrics.roc_curve(Y_val,  Y_val_Prob_RF3)\n",
    "auc2 = metrics.roc_auc_score(Y_val, Y_val_Prob_RF3)\n",
    "plt.title('ROC curve on Validation data')\n",
    "plt.plot(fpr2, tpr2, label='AUC = %0.2f' % auc2)\n",
    "#plt.legend(loc = 'lower right')\n",
    "plt.xlabel(\"False Positive Rate\")\n",
    "plt.ylabel('True Positive Rate')\n",
    "plt.show()"
   ]
  },
  {
   "cell_type": "markdown",
   "metadata": {},
   "source": [
    "----------------------------\n",
    "XGBOOST with SMOTE"
   ]
  },
  {
   "cell_type": "code",
   "execution_count": 74,
   "metadata": {},
   "outputs": [],
   "source": [
    "XGB3 = xgb.XGBClassifier(n_estimators = 500, max_depth = 30, learning_rate = 0.1).fit(X_train_smote, Y_train_smote)"
   ]
  },
  {
   "cell_type": "markdown",
   "metadata": {},
   "source": [
    "Predicting targets on testing data and printing metrics"
   ]
  },
  {
   "cell_type": "code",
   "execution_count": 112,
   "metadata": {},
   "outputs": [
    {
     "name": "stdout",
     "output_type": "stream",
     "text": [
      "Accuracy of XGBoost on Testing data :  0.999336198162317\n",
      "Precision of XGBoost on Testing data :  0.7818181818181819\n",
      "Recall of XGBoost on Testing data :  0.86\n",
      "F1 score of XGBoost on Testing data :  0.819047619047619\n",
      "Error rate of XGBoost on Testing data :  0.0006638018376829979\n",
      "Confusion matrix : \n",
      " [[57122    24]\n",
      " [   14    86]]\n"
     ]
    }
   ],
   "source": [
    "Y_Test_Pred_XGB3 = XGB3.predict(X_test)\n",
    "#metrix for XGBoost on test data\n",
    "\n",
    "print(\"Accuracy of XGBoost on Testing data : \", accuracy_score(Y_test, Y_Test_Pred_XGB3))\n",
    "print(\"Precision of XGBoost on Testing data : \", precision_score(Y_test, Y_Test_Pred_XGB3))\n",
    "print(\"Recall of XGBoost on Testing data : \", recall_score(Y_test, Y_Test_Pred_XGB3))\n",
    "print(\"F1 score of XGBoost on Testing data : \", f1_score(Y_test, Y_Test_Pred_XGB3))\n",
    "print(\"Error rate of XGBoost on Testing data : \", 1 - accuracy_score(Y_test, Y_Test_Pred_XGB3))\n",
    "\n",
    "print(\"Confusion matrix : \\n\", confusion_matrix(Y_test, Y_Test_Pred_XGB3))"
   ]
  },
  {
   "cell_type": "markdown",
   "metadata": {},
   "source": [
    "Predicting targets on Validataion data and printing metrics"
   ]
  },
  {
   "cell_type": "code",
   "execution_count": 111,
   "metadata": {},
   "outputs": [
    {
     "name": "stdout",
     "output_type": "stream",
     "text": [
      "Accuracy of XGBoost on Testing data :  0.9993261694506508\n",
      "Precision of XGBoost on Testing data :  0.8\n",
      "Recall of XGBoost on Testing data :  0.8727272727272727\n",
      "F1 score of XGBoost on Testing data :  0.8347826086956521\n",
      "Error rate of XGBoost on Testing data :  0.0006738305493492192\n",
      "Confusion matrix : \n",
      " [[28130    12]\n",
      " [    7    48]]\n"
     ]
    }
   ],
   "source": [
    "Y_val_Pred_XGB3 = XGB3.predict(X_val)\n",
    "#metrix for XGBoost on Validataion data\n",
    "\n",
    "print(\"Accuracy of XGBoost on Testing data : \", accuracy_score(Y_val, Y_val_Pred_XGB3))\n",
    "print(\"Precision of XGBoost on Testing data : \", precision_score(Y_val, Y_val_Pred_XGB3))\n",
    "print(\"Recall of XGBoost on Testing data : \", recall_score(Y_val, Y_val_Pred_XGB3))\n",
    "print(\"F1 score of XGBoost on Testing data : \", f1_score(Y_val, Y_val_Pred_XGB3))\n",
    "print(\"Error rate of XGBoost on Testing data : \", 1 - accuracy_score(Y_val, Y_val_Pred_XGB3))\n",
    "\n",
    "print(\"Confusion matrix : \\n\", confusion_matrix(Y_val, Y_val_Pred_XGB3))"
   ]
  },
  {
   "cell_type": "markdown",
   "metadata": {},
   "source": [
    "Area under Precision recall curve for Testing and Validation datasets."
   ]
  },
  {
   "cell_type": "code",
   "execution_count": 77,
   "metadata": {
    "scrolled": true
   },
   "outputs": [
    {
     "data": {
      "text/plain": [
       "Text(0.5, 1.0, 'Precision-Recall curve on Validation data')"
      ]
     },
     "execution_count": 77,
     "metadata": {},
     "output_type": "execute_result"
    },
    {
     "data": {
      "image/png": "[encoded data removed]",
      "text/plain": [
       "<Figure size 432x288 with 1 Axes>"
      ]
     },
     "metadata": {
      "needs_background": "light"
     },
     "output_type": "display_data"
    },
    {
     "data": {
      "image/png": "[encoded data removed]",
      "text/plain": [
       "<Figure size 432x288 with 1 Axes>"
      ]
     },
     "metadata": {
      "needs_background": "light"
     },
     "output_type": "display_data"
    }
   ],
   "source": [
    "#fig, (ax1,ax2) = plt.subplots(1,2,figsize = (12,6))\n",
    "dist1 = plot_precision_recall_curve(XGB3, X_test, Y_test)\n",
    "dist1.ax_.set_title('Precision-Recall curve on Testing data')\n",
    "\n",
    "dist2 = plot_precision_recall_curve(XGB3, X_val, Y_val)\n",
    "dist2.ax_.set_title('Precision-Recall curve on Validation data')"
   ]
  },
  {
   "cell_type": "markdown",
   "metadata": {},
   "source": [
    "ROC Curve for Testing and Validation datasets."
   ]
  },
  {
   "cell_type": "code",
   "execution_count": 89,
   "metadata": {
    "scrolled": true
   },
   "outputs": [
    {
     "data": {
      "image/png": "[encoded data removed]",
      "text/plain": [
       "<Figure size 432x288 with 1 Axes>"
      ]
     },
     "metadata": {
      "needs_background": "light"
     },
     "output_type": "display_data"
    },
    {
     "data": {
      "image/png": "[encoded data removed]",
      "text/plain": [
       "<Figure size 432x288 with 1 Axes>"
      ]
     },
     "metadata": {
      "needs_background": "light"
     },
     "output_type": "display_data"
    }
   ],
   "source": [
    "#roc for testing set\n",
    "Y_Test_Prob_XGB3 = XGB3.predict_proba(X_test)[:,1]\n",
    "fpr1, tpr1, _ = metrics.roc_curve(Y_test,  Y_Test_Prob_XGB3)\n",
    "auc1 = metrics.roc_auc_score(Y_test, Y_Test_Prob_XGB3)\n",
    "plt.title('ROC curve on training data')\n",
    "plt.plot(fpr1, tpr1, label='AUC = %0.2f' % auc1)\n",
    "#plt.legend(loc = 'lower right')\n",
    "plt.xlabel(\"False Positive Rate\")\n",
    "plt.ylabel('True Positive Rate')\n",
    "plt.show()\n",
    "\n",
    "#roc for Validataion set\n",
    "Y_val_Prob_XGB3 = XGB3.predict_proba(X_val)[:,1]\n",
    "fpr2, tpr2, _ = metrics.roc_curve(Y_val,  Y_val_Prob_XGB3)\n",
    "auc2 = metrics.roc_auc_score(Y_val, Y_val_Prob_XGB3)\n",
    "plt.title('ROC curve on Validation data')\n",
    "plt.plot(fpr2, tpr2, label='AUC = %0.2f' % auc2)\n",
    "#plt.legend(loc = 'lower right')\n",
    "plt.xlabel(\"False Positive Rate\")\n",
    "plt.ylabel('True Positive Rate')\n",
    "plt.show()"
   ]
  },
  {
   "cell_type": "markdown",
   "metadata": {},
   "source": [
    "### Conclusion from Supervised learning:\n",
    "            \n",
    "    Results after preprocessing:\n",
    "\n",
    "         Random Forest  results on testing data        = Acc: 99.96%  ; f1-score:  0.89  ;  AUPRC: 0.88\n",
    "         Random Forest  results on Validataion data    = Acc: 99.95%  ; f1-score:  0.88  ;  AUPRC: 0.87\n",
    "\n",
    "         XGBoost results on testing data               = Acc: 99.95%  ; f1-score: 0.87  ;  AUPRC : 0.90\n",
    "         XGBoost results on Validation data            = Acc: 99.96%  ; f1-score: 0.89  ;  AUPRC : 0.91\n",
    "            \n",
    "    Results using Random Over Sampling:\n",
    "       \n",
    "        Random Forest   results on testing data        = Acc: 99.95%  ; f1-score: 0.87 ; AUPRC: 0.87\n",
    "        Random Forest  results on Validataion data     = Acc: 99.95%  ; f1-score: 0.87 ; AUPRC: 0.89\n",
    "\n",
    "        XGBoost  results on testing data               = Acc: 99.95% ; f1-score: 0.87  ; AUPRC: 0.89\n",
    "\t    XGBoost results on Validation data             = Acc: 99.96% ; f1-score: 0.895 ; AUPRC: 0.89\n",
    "\n",
    "    Results using SMOTE:\n",
    "        \n",
    "        Random Forest  results on testing data        = Acc: 99.94%  ; f1-score: 0.84 ; AUPRC: 0.85\n",
    "        Random Forest  results on Validataion data    = Acc: 99.96%  ; f1-score: 0.89 ; AUPRC: 0.89\n",
    "\n",
    "        XGBoost results on testing data               = Acc: 99.93%  ; f1-score: 0.82 ; AUPRC: 0.88\n",
    "        XGBoost results on Validation data            = Acc: 99.93%  ; f1-score: 0.83 ; AUPRC: 0.88"
   ]
  },
  {
   "cell_type": "markdown",
   "metadata": {},
   "source": [
    "# UNSUPERVISED ANOMOLY DETECTION"
   ]
  },
  {
   "cell_type": "markdown",
   "metadata": {},
   "source": [
    "Finding anomoly/ outliers in the dataset. In the given set the fraud transactions are outliers.\n",
    "Two methods I choosed to detect ouliers are LOF and Isolation Forest"
   ]
  },
  {
   "cell_type": "markdown",
   "metadata": {},
   "source": [
    "Local Outlier Factor: computes the local density deviation of a given data point with respect\n",
    "to its neighbors."
   ]
  },
  {
   "cell_type": "code",
   "execution_count": 90,
   "metadata": {
    "scrolled": true
   },
   "outputs": [
    {
     "name": "stdout",
     "output_type": "stream",
     "text": [
      "(284315, 30)\n",
      "(492, 30)\n"
     ]
    }
   ],
   "source": [
    "Normal_NonFraud = df[df.Class==0]\n",
    "Normal = Normal_NonFraud.drop(['Class'], axis=1)\n",
    "\n",
    "Outliers_Fraud = df[df.Class==1]\n",
    "Outliers = Outliers_Fraud.drop(['Class'], axis=1)\n",
    "\n",
    "print(Normal.shape)\n",
    "print(Outliers.shape)"
   ]
  },
  {
   "cell_type": "code",
   "execution_count": 91,
   "metadata": {},
   "outputs": [],
   "source": [
    "lof = LocalOutlierFactor(n_neighbors=20, algorithm='auto', leaf_size=30, metric='minkowski', p=2, metric_params=None, contamination='auto', novelty=True, n_jobs=None)\n",
    "LOF = lof.fit(Normal)"
   ]
  },
  {
   "cell_type": "code",
   "execution_count": 92,
   "metadata": {},
   "outputs": [],
   "source": [
    "Normal_LOF = LOF.predict(Normal)\n",
    "Outliers_LOF = LOF.predict(Outliers)"
   ]
  },
  {
   "cell_type": "code",
   "execution_count": 93,
   "metadata": {},
   "outputs": [],
   "source": [
    "Normal_Accuracy = np.round((list(Normal_LOF).count(1))/Normal_LOF.shape[0] , 4)"
   ]
  },
  {
   "cell_type": "code",
   "execution_count": 94,
   "metadata": {},
   "outputs": [],
   "source": [
    "Outliers_Accuracy = np.round((list(Outliers_LOF).count(-1))/Outliers_LOF.shape[0] , 4)"
   ]
  },
  {
   "cell_type": "code",
   "execution_count": 95,
   "metadata": {
    "scrolled": true
   },
   "outputs": [
    {
     "name": "stdout",
     "output_type": "stream",
     "text": [
      "Accuracy detecting Non_Fraud : 0.9586\n",
      "Accuracy detecting Fraud or Outliers: 0.2317\n"
     ]
    }
   ],
   "source": [
    "print(\"Accuracy detecting Non_Fraud :\", Normal_Accuracy)\n",
    "print(\"Accuracy detecting Fraud or Outliers:\", Outliers_Accuracy)"
   ]
  },
  {
   "cell_type": "markdown",
   "metadata": {},
   "source": [
    "From above we can see the LOF predicted Non-fraud transactions correctl for 95.86% time and Fraud transactions only 23.17%"
   ]
  },
  {
   "cell_type": "markdown",
   "metadata": {},
   "source": [
    "# IsolationForest"
   ]
  },
  {
   "cell_type": "markdown",
   "metadata": {},
   "source": [
    "IsolationForest: In this method it isolates transactions by randomly selecting a feature and then randomly selecting a split value between the maximum and minimum values of the selected feature."
   ]
  },
  {
   "cell_type": "code",
   "execution_count": 96,
   "metadata": {},
   "outputs": [
    {
     "name": "stdout",
     "output_type": "stream",
     "text": [
      "(284315, 30)\n",
      "(492, 30)\n"
     ]
    }
   ],
   "source": [
    "Normal_NonFraud = df[df.Class==0]\n",
    "Normal = Normal_NonFraud.drop(['Class'], axis=1)\n",
    "\n",
    "Outliers_Fraud = df[df.Class==1]\n",
    "Outliers = Outliers_Fraud.drop(['Class'], axis=1)\n",
    "\n",
    "print(Normal.shape)\n",
    "print(Outliers.shape)"
   ]
  },
  {
   "cell_type": "code",
   "execution_count": 97,
   "metadata": {
    "scrolled": true
   },
   "outputs": [
    {
     "data": {
      "text/plain": [
       "IsolationForest(random_state=7)"
      ]
     },
     "execution_count": 97,
     "metadata": {},
     "output_type": "execute_result"
    }
   ],
   "source": [
    "ISF = IsolationForest(random_state=7)\n",
    "ISF.fit(Normal)"
   ]
  },
  {
   "cell_type": "code",
   "execution_count": 98,
   "metadata": {},
   "outputs": [],
   "source": [
    "Normal_ISF = ISF.predict(Normal)\n",
    "Outliers_ISF = ISF.predict(Outliers)"
   ]
  },
  {
   "cell_type": "code",
   "execution_count": 99,
   "metadata": {},
   "outputs": [],
   "source": [
    "Normal_Accuracy_ISF = np.round((list(Normal_ISF).count(1))/Normal_ISF.shape[0] , 4)"
   ]
  },
  {
   "cell_type": "code",
   "execution_count": 100,
   "metadata": {},
   "outputs": [],
   "source": [
    "Outliers_Accuracy_ISF = np.round((list(Outliers_ISF).count(-1))/Outliers_ISF.shape[0] , 4)"
   ]
  },
  {
   "cell_type": "code",
   "execution_count": 101,
   "metadata": {
    "scrolled": true
   },
   "outputs": [
    {
     "name": "stdout",
     "output_type": "stream",
     "text": [
      "Accuracy detecting Non_Fraud by Isolation Forest : 0.9611\n",
      "Accuracy detecting Fraud or Outliers by Isolation Forest: 0.8374\n"
     ]
    }
   ],
   "source": [
    "print(\"Accuracy detecting Non_Fraud by Isolation Forest :\", Normal_Accuracy_ISF)\n",
    "print(\"Accuracy detecting Fraud or Outliers by Isolation Forest:\", Outliers_Accuracy_ISF)"
   ]
  },
  {
   "cell_type": "markdown",
   "metadata": {},
   "source": [
    "From above we can see the Isolation Forest predicted Non-fraud transactions correctly for 96% time and Fraud transactions 83.7% which is very good compared to LOF."
   ]
  }
 ],
 "metadata": {
  "kernelspec": {
   "display_name": "Python 3",
   "language": "python",
   "name": "python3"
  },
  "language_info": {
   "codemirror_mode": {
    "name": "ipython",
    "version": 3
   },
   "file_extension": ".py",
   "mimetype": "text/x-python",
   "name": "python",
   "nbconvert_exporter": "python",
   "pygments_lexer": "ipython3",
   "version": "3.7.3"
  }
 },
 "nbformat": 4,
 "nbformat_minor": 2
}
