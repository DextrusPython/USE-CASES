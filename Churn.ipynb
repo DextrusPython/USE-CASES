{
 "cells": [
  {
   "cell_type": "markdown",
   "id": "contrary-garbage",
   "metadata": {},
   "source": [
    "# Churn model\n",
    "Import the libraries that will be useful for the model"
   ]
  },
  {
   "cell_type": "code",
   "execution_count": 1,
   "id": "popular-midnight",
   "metadata": {},
   "outputs": [],
   "source": [
    "# Libraries for manipulate the data\n",
    "import numpy as np\n",
    "import pandas as pd\n",
    "# Libraries for plot the data\n",
    "import matplotlib.pyplot as plt\n",
    "import seaborn as sns\n",
    "# Libraries for the model\n",
    "from sklearn.preprocessing import OneHotEncoder, StandardScaler\n",
    "from sklearn.feature_selection import RFE, SelectFromModel\n",
    "from sklearn.compose import ColumnTransformer, make_column_selector\n",
    "from sklearn.model_selection import train_test_split, KFold, RandomizedSearchCV\n",
    "from sklearn.linear_model import LogisticRegression\n",
    "from sklearn.tree import DecisionTreeClassifier\n",
    "from sklearn.ensemble import RandomForestClassifier\n",
    "from sklearn.pipeline import Pipeline\n",
    "from sklearn.base import BaseEstimator, TransformerMixin\n",
    "from sklearn.decomposition import PCA\n",
    "from sklearn.metrics import confusion_matrix, auc, classification_report, precision_recall_curve, roc_auc_score, roc_curve, precision_score, recall_score, f1_score, accuracy_score, plot_precision_recall_curve\n",
    "from xgboost.sklearn import XGBClassifier\n",
    "\n",
    "import warnings\n",
    "warnings.filterwarnings(\"ignore\")\n",
    "pd.set_option('max_columns', None)"
   ]
  },
  {
   "cell_type": "code",
   "execution_count": 2,
   "id": "parallel-leonard",
   "metadata": {},
   "outputs": [
    {
     "data": {
      "text/html": [
       "<div>\n",
       "<style scoped>\n",
       "    .dataframe tbody tr th:only-of-type {\n",
       "        vertical-align: middle;\n",
       "    }\n",
       "\n",
       "    .dataframe tbody tr th {\n",
       "        vertical-align: top;\n",
       "    }\n",
       "\n",
       "    .dataframe thead th {\n",
       "        text-align: right;\n",
       "    }\n",
       "</style>\n",
       "<table border=\"1\" class=\"dataframe\">\n",
       "  <thead>\n",
       "    <tr style=\"text-align: right;\">\n",
       "      <th></th>\n",
       "      <th>gender</th>\n",
       "      <th>SeniorCitizen</th>\n",
       "      <th>Partner</th>\n",
       "      <th>Dependents</th>\n",
       "      <th>tenure</th>\n",
       "      <th>PhoneService</th>\n",
       "      <th>MultipleLines</th>\n",
       "      <th>InternetService</th>\n",
       "      <th>OnlineSecurity</th>\n",
       "      <th>OnlineBackup</th>\n",
       "      <th>DeviceProtection</th>\n",
       "      <th>TechSupport</th>\n",
       "      <th>StreamingTV</th>\n",
       "      <th>StreamingMovies</th>\n",
       "      <th>Contract</th>\n",
       "      <th>PaperlessBilling</th>\n",
       "      <th>PaymentMethod</th>\n",
       "      <th>MonthlyCharges</th>\n",
       "      <th>TotalCharges</th>\n",
       "      <th>Churn</th>\n",
       "    </tr>\n",
       "  </thead>\n",
       "  <tbody>\n",
       "    <tr>\n",
       "      <th>3409</th>\n",
       "      <td>Female</td>\n",
       "      <td>1</td>\n",
       "      <td>Yes</td>\n",
       "      <td>No</td>\n",
       "      <td>70</td>\n",
       "      <td>Yes</td>\n",
       "      <td>Yes</td>\n",
       "      <td>Fiber optic</td>\n",
       "      <td>Yes</td>\n",
       "      <td>Yes</td>\n",
       "      <td>Yes</td>\n",
       "      <td>Yes</td>\n",
       "      <td>Yes</td>\n",
       "      <td>Yes</td>\n",
       "      <td>Two year</td>\n",
       "      <td>Yes</td>\n",
       "      <td>Electronic check</td>\n",
       "      <td>113.65</td>\n",
       "      <td>7714.65</td>\n",
       "      <td>No</td>\n",
       "    </tr>\n",
       "    <tr>\n",
       "      <th>2129</th>\n",
       "      <td>Male</td>\n",
       "      <td>0</td>\n",
       "      <td>No</td>\n",
       "      <td>No</td>\n",
       "      <td>1</td>\n",
       "      <td>Yes</td>\n",
       "      <td>Yes</td>\n",
       "      <td>Fiber optic</td>\n",
       "      <td>No</td>\n",
       "      <td>No</td>\n",
       "      <td>No</td>\n",
       "      <td>No</td>\n",
       "      <td>No</td>\n",
       "      <td>No</td>\n",
       "      <td>Month-to-month</td>\n",
       "      <td>Yes</td>\n",
       "      <td>Electronic check</td>\n",
       "      <td>75.30</td>\n",
       "      <td>75.3</td>\n",
       "      <td>Yes</td>\n",
       "    </tr>\n",
       "    <tr>\n",
       "      <th>6542</th>\n",
       "      <td>Male</td>\n",
       "      <td>0</td>\n",
       "      <td>No</td>\n",
       "      <td>No</td>\n",
       "      <td>15</td>\n",
       "      <td>Yes</td>\n",
       "      <td>Yes</td>\n",
       "      <td>Fiber optic</td>\n",
       "      <td>No</td>\n",
       "      <td>No</td>\n",
       "      <td>No</td>\n",
       "      <td>No</td>\n",
       "      <td>No</td>\n",
       "      <td>No</td>\n",
       "      <td>Month-to-month</td>\n",
       "      <td>Yes</td>\n",
       "      <td>Mailed check</td>\n",
       "      <td>76.00</td>\n",
       "      <td>1130.85</td>\n",
       "      <td>Yes</td>\n",
       "    </tr>\n",
       "    <tr>\n",
       "      <th>3188</th>\n",
       "      <td>Female</td>\n",
       "      <td>0</td>\n",
       "      <td>No</td>\n",
       "      <td>No</td>\n",
       "      <td>8</td>\n",
       "      <td>Yes</td>\n",
       "      <td>No</td>\n",
       "      <td>DSL</td>\n",
       "      <td>Yes</td>\n",
       "      <td>No</td>\n",
       "      <td>No</td>\n",
       "      <td>No</td>\n",
       "      <td>No</td>\n",
       "      <td>No</td>\n",
       "      <td>Month-to-month</td>\n",
       "      <td>Yes</td>\n",
       "      <td>Electronic check</td>\n",
       "      <td>49.85</td>\n",
       "      <td>365.55</td>\n",
       "      <td>Yes</td>\n",
       "    </tr>\n",
       "    <tr>\n",
       "      <th>787</th>\n",
       "      <td>Female</td>\n",
       "      <td>0</td>\n",
       "      <td>Yes</td>\n",
       "      <td>No</td>\n",
       "      <td>34</td>\n",
       "      <td>Yes</td>\n",
       "      <td>Yes</td>\n",
       "      <td>DSL</td>\n",
       "      <td>Yes</td>\n",
       "      <td>No</td>\n",
       "      <td>No</td>\n",
       "      <td>Yes</td>\n",
       "      <td>No</td>\n",
       "      <td>No</td>\n",
       "      <td>Month-to-month</td>\n",
       "      <td>Yes</td>\n",
       "      <td>Bank transfer (automatic)</td>\n",
       "      <td>60.85</td>\n",
       "      <td>2003.6</td>\n",
       "      <td>No</td>\n",
       "    </tr>\n",
       "  </tbody>\n",
       "</table>\n",
       "</div>"
      ],
      "text/plain": [
       "      gender  SeniorCitizen Partner Dependents  tenure PhoneService  \\\n",
       "3409  Female              1     Yes         No      70          Yes   \n",
       "2129    Male              0      No         No       1          Yes   \n",
       "6542    Male              0      No         No      15          Yes   \n",
       "3188  Female              0      No         No       8          Yes   \n",
       "787   Female              0     Yes         No      34          Yes   \n",
       "\n",
       "     MultipleLines InternetService OnlineSecurity OnlineBackup  \\\n",
       "3409           Yes     Fiber optic            Yes          Yes   \n",
       "2129           Yes     Fiber optic             No           No   \n",
       "6542           Yes     Fiber optic             No           No   \n",
       "3188            No             DSL            Yes           No   \n",
       "787            Yes             DSL            Yes           No   \n",
       "\n",
       "     DeviceProtection TechSupport StreamingTV StreamingMovies        Contract  \\\n",
       "3409              Yes         Yes         Yes             Yes        Two year   \n",
       "2129               No          No          No              No  Month-to-month   \n",
       "6542               No          No          No              No  Month-to-month   \n",
       "3188               No          No          No              No  Month-to-month   \n",
       "787                No         Yes          No              No  Month-to-month   \n",
       "\n",
       "     PaperlessBilling              PaymentMethod  MonthlyCharges TotalCharges  \\\n",
       "3409              Yes           Electronic check          113.65      7714.65   \n",
       "2129              Yes           Electronic check           75.30         75.3   \n",
       "6542              Yes               Mailed check           76.00      1130.85   \n",
       "3188              Yes           Electronic check           49.85       365.55   \n",
       "787               Yes  Bank transfer (automatic)           60.85       2003.6   \n",
       "\n",
       "     Churn  \n",
       "3409    No  \n",
       "2129   Yes  \n",
       "6542   Yes  \n",
       "3188   Yes  \n",
       "787     No  "
      ]
     },
     "execution_count": 2,
     "metadata": {},
     "output_type": "execute_result"
    }
   ],
   "source": [
    "# Read the data\n",
    "df = pd.read_csv('../Data_df/Telco-Customer-Churn.csv')\n",
    "df_churn = pd.read_csv('../Data_df/Churn data.csv')\n",
    "# Drop the customerID \n",
    "df = df.drop(columns='customerID')\n",
    "# take a sample of the data\n",
    "df.sample(5)"
   ]
  },
  {
   "cell_type": "markdown",
   "id": "cosmetic-albania",
   "metadata": {},
   "source": [
    "## Exploratory data analysis\n",
    "In the dataset, each row represents a customer, each column contains customer’s attributes.\n",
    "\n",
    "The data set includes information about:\n",
    "\n",
    "* Customers who left within the last month – the column is called Churn\n",
    "* Services that each customer has signed up for – phone, multiple lines, internet, online security, online backup, device protection, tech support, and streaming TV and movies\n",
    "* Customer account information – how long they’ve been a customer, contract, payment method, paperless billing, monthly charges, and total charges\n",
    "* Demographic info about customers – gender, age range, and if they have partners and dependents."
   ]
  },
  {
   "cell_type": "code",
   "execution_count": 3,
   "id": "dated-justice",
   "metadata": {},
   "outputs": [
    {
     "name": "stdout",
     "output_type": "stream",
     "text": [
      "<class 'pandas.core.frame.DataFrame'>\n",
      "RangeIndex: 7043 entries, 0 to 7042\n",
      "Data columns (total 20 columns):\n",
      " #   Column            Non-Null Count  Dtype  \n",
      "---  ------            --------------  -----  \n",
      " 0   gender            7043 non-null   object \n",
      " 1   SeniorCitizen     7043 non-null   int64  \n",
      " 2   Partner           7043 non-null   object \n",
      " 3   Dependents        7043 non-null   object \n",
      " 4   tenure            7043 non-null   int64  \n",
      " 5   PhoneService      7043 non-null   object \n",
      " 6   MultipleLines     7043 non-null   object \n",
      " 7   InternetService   7043 non-null   object \n",
      " 8   OnlineSecurity    7043 non-null   object \n",
      " 9   OnlineBackup      7043 non-null   object \n",
      " 10  DeviceProtection  7043 non-null   object \n",
      " 11  TechSupport       7043 non-null   object \n",
      " 12  StreamingTV       7043 non-null   object \n",
      " 13  StreamingMovies   7043 non-null   object \n",
      " 14  Contract          7043 non-null   object \n",
      " 15  PaperlessBilling  7043 non-null   object \n",
      " 16  PaymentMethod     7043 non-null   object \n",
      " 17  MonthlyCharges    7043 non-null   float64\n",
      " 18  TotalCharges      7043 non-null   object \n",
      " 19  Churn             7043 non-null   object \n",
      "dtypes: float64(1), int64(2), object(17)\n",
      "memory usage: 1.1+ MB\n"
     ]
    }
   ],
   "source": [
    "# See information of the dataset\n",
    "df.info()"
   ]
  },
  {
   "cell_type": "markdown",
   "id": "fleet-dominican",
   "metadata": {},
   "source": [
    "#### Fix the data types and change the target"
   ]
  },
  {
   "cell_type": "code",
   "execution_count": 4,
   "id": "rental-luxury",
   "metadata": {},
   "outputs": [
    {
     "data": {
      "text/plain": [
       "No     5174\n",
       "Yes    1869\n",
       "Name: Churn, dtype: int64"
      ]
     },
     "execution_count": 4,
     "metadata": {},
     "output_type": "execute_result"
    }
   ],
   "source": [
    "# The target need to be a numeric columns\n",
    "df.Churn.value_counts()"
   ]
  },
  {
   "cell_type": "code",
   "execution_count": 5,
   "id": "better-encounter",
   "metadata": {},
   "outputs": [],
   "source": [
    "# Pass total charges to numeric\n",
    "df['TotalCharges'] = pd.to_numeric(df.TotalCharges, errors='coerce')\n",
    "# Pass the churn column to numeric\n",
    "df['Churn'] = df.Churn.replace({'No': 0, 'Yes': 1})"
   ]
  },
  {
   "cell_type": "markdown",
   "id": "secure-synthesis",
   "metadata": {},
   "source": [
    "#### See the nulls of the dataset\n",
    "Only 11 values in the columns TotalCharges are nulls. Because the proportion of nulls is realy little, I will drop the rows with nulls."
   ]
  },
  {
   "cell_type": "code",
   "execution_count": 6,
   "id": "pretty-screw",
   "metadata": {},
   "outputs": [
    {
     "data": {
      "text/plain": [
       "gender               0\n",
       "SeniorCitizen        0\n",
       "Partner              0\n",
       "Dependents           0\n",
       "tenure               0\n",
       "PhoneService         0\n",
       "MultipleLines        0\n",
       "InternetService      0\n",
       "OnlineSecurity       0\n",
       "OnlineBackup         0\n",
       "DeviceProtection     0\n",
       "TechSupport          0\n",
       "StreamingTV          0\n",
       "StreamingMovies      0\n",
       "Contract             0\n",
       "PaperlessBilling     0\n",
       "PaymentMethod        0\n",
       "MonthlyCharges       0\n",
       "TotalCharges        11\n",
       "Churn                0\n",
       "dtype: int64"
      ]
     },
     "metadata": {},
     "output_type": "display_data"
    }
   ],
   "source": [
    "# Check the nulls\n",
    "display(df.isna().sum())\n",
    "# Drop null values\n",
    "df = df.dropna()"
   ]
  },
  {
   "cell_type": "markdown",
   "id": "dutch-yellow",
   "metadata": {},
   "source": [
    "#### See the unique values in the different columns.\n",
    "In the dataset we have too much categorical columns"
   ]
  },
  {
   "cell_type": "code",
   "execution_count": 7,
   "id": "similar-exchange",
   "metadata": {},
   "outputs": [
    {
     "data": {
      "text/plain": [
       "gender                 2\n",
       "SeniorCitizen          2\n",
       "Partner                2\n",
       "Dependents             2\n",
       "tenure                72\n",
       "PhoneService           2\n",
       "MultipleLines          3\n",
       "InternetService        3\n",
       "OnlineSecurity         3\n",
       "OnlineBackup           3\n",
       "DeviceProtection       3\n",
       "TechSupport            3\n",
       "StreamingTV            3\n",
       "StreamingMovies        3\n",
       "Contract               3\n",
       "PaperlessBilling       2\n",
       "PaymentMethod          4\n",
       "MonthlyCharges      1584\n",
       "TotalCharges        6530\n",
       "Churn                  2\n",
       "dtype: int64"
      ]
     },
     "execution_count": 7,
     "metadata": {},
     "output_type": "execute_result"
    }
   ],
   "source": [
    "df.nunique()"
   ]
  },
  {
   "cell_type": "markdown",
   "id": "rural-courage",
   "metadata": {},
   "source": [
    "Generate descriptive statistics for all the numeric columns"
   ]
  },
  {
   "cell_type": "code",
   "execution_count": 8,
   "id": "varied-truck",
   "metadata": {},
   "outputs": [
    {
     "data": {
      "text/html": [
       "<div>\n",
       "<style scoped>\n",
       "    .dataframe tbody tr th:only-of-type {\n",
       "        vertical-align: middle;\n",
       "    }\n",
       "\n",
       "    .dataframe tbody tr th {\n",
       "        vertical-align: top;\n",
       "    }\n",
       "\n",
       "    .dataframe thead th {\n",
       "        text-align: right;\n",
       "    }\n",
       "</style>\n",
       "<table border=\"1\" class=\"dataframe\">\n",
       "  <thead>\n",
       "    <tr style=\"text-align: right;\">\n",
       "      <th></th>\n",
       "      <th>SeniorCitizen</th>\n",
       "      <th>tenure</th>\n",
       "      <th>MonthlyCharges</th>\n",
       "      <th>TotalCharges</th>\n",
       "      <th>Churn</th>\n",
       "    </tr>\n",
       "  </thead>\n",
       "  <tbody>\n",
       "    <tr>\n",
       "      <th>count</th>\n",
       "      <td>7032.000000</td>\n",
       "      <td>7032.000000</td>\n",
       "      <td>7032.000000</td>\n",
       "      <td>7032.000000</td>\n",
       "      <td>7032.000000</td>\n",
       "    </tr>\n",
       "    <tr>\n",
       "      <th>mean</th>\n",
       "      <td>0.162400</td>\n",
       "      <td>32.421786</td>\n",
       "      <td>64.798208</td>\n",
       "      <td>2283.300441</td>\n",
       "      <td>0.265785</td>\n",
       "    </tr>\n",
       "    <tr>\n",
       "      <th>std</th>\n",
       "      <td>0.368844</td>\n",
       "      <td>24.545260</td>\n",
       "      <td>30.085974</td>\n",
       "      <td>2266.771362</td>\n",
       "      <td>0.441782</td>\n",
       "    </tr>\n",
       "    <tr>\n",
       "      <th>min</th>\n",
       "      <td>0.000000</td>\n",
       "      <td>1.000000</td>\n",
       "      <td>18.250000</td>\n",
       "      <td>18.800000</td>\n",
       "      <td>0.000000</td>\n",
       "    </tr>\n",
       "    <tr>\n",
       "      <th>25%</th>\n",
       "      <td>0.000000</td>\n",
       "      <td>9.000000</td>\n",
       "      <td>35.587500</td>\n",
       "      <td>401.450000</td>\n",
       "      <td>0.000000</td>\n",
       "    </tr>\n",
       "    <tr>\n",
       "      <th>50%</th>\n",
       "      <td>0.000000</td>\n",
       "      <td>29.000000</td>\n",
       "      <td>70.350000</td>\n",
       "      <td>1397.475000</td>\n",
       "      <td>0.000000</td>\n",
       "    </tr>\n",
       "    <tr>\n",
       "      <th>75%</th>\n",
       "      <td>0.000000</td>\n",
       "      <td>55.000000</td>\n",
       "      <td>89.862500</td>\n",
       "      <td>3794.737500</td>\n",
       "      <td>1.000000</td>\n",
       "    </tr>\n",
       "    <tr>\n",
       "      <th>max</th>\n",
       "      <td>1.000000</td>\n",
       "      <td>72.000000</td>\n",
       "      <td>118.750000</td>\n",
       "      <td>8684.800000</td>\n",
       "      <td>1.000000</td>\n",
       "    </tr>\n",
       "  </tbody>\n",
       "</table>\n",
       "</div>"
      ],
      "text/plain": [
       "       SeniorCitizen       tenure  MonthlyCharges  TotalCharges        Churn\n",
       "count    7032.000000  7032.000000     7032.000000   7032.000000  7032.000000\n",
       "mean        0.162400    32.421786       64.798208   2283.300441     0.265785\n",
       "std         0.368844    24.545260       30.085974   2266.771362     0.441782\n",
       "min         0.000000     1.000000       18.250000     18.800000     0.000000\n",
       "25%         0.000000     9.000000       35.587500    401.450000     0.000000\n",
       "50%         0.000000    29.000000       70.350000   1397.475000     0.000000\n",
       "75%         0.000000    55.000000       89.862500   3794.737500     1.000000\n",
       "max         1.000000    72.000000      118.750000   8684.800000     1.000000"
      ]
     },
     "execution_count": 8,
     "metadata": {},
     "output_type": "execute_result"
    }
   ],
   "source": [
    "# Apply the describe method to all the numeric columns\n",
    "df.describe()"
   ]
  },
  {
   "cell_type": "markdown",
   "id": "banner-dictionary",
   "metadata": {},
   "source": [
    "### Plotting the variables\n",
    "#### Pie plot of the churn variables\n",
    "\n",
    "The dataset has 26.6% of churn cases and the rest of the data is client that didn't leave the company"
   ]
  },
  {
   "cell_type": "code",
   "execution_count": 9,
   "id": "mounted-spotlight",
   "metadata": {},
   "outputs": [
    {
     "data": {
      "image/png": "[encoded data removed]",
      "text/plain": [
       "<Figure size 432x288 with 1 Axes>"
      ]
     },
     "metadata": {},
     "output_type": "display_data"
    }
   ],
   "source": [
    "fig1, ax1 = plt.subplots()\n",
    "\n",
    "ax1.set_title('Percentage of Churn')\n",
    "\n",
    "ax1.pie(df.Churn.value_counts(normalize=True), explode=[0,0.1], labels=['No', 'Yes'], autopct='%1.1f%%',\n",
    "        shadow=True, startangle=90)\n",
    "ax1.axis('equal')\n",
    "\n",
    "plt.show()"
   ]
  },
  {
   "cell_type": "markdown",
   "id": "confused-chest",
   "metadata": {},
   "source": [
    "#### Barplot with the categorical columns and the target"
   ]
  },
  {
   "cell_type": "code",
   "execution_count": 10,
   "id": "intimate-settle",
   "metadata": {},
   "outputs": [
    {
     "data": {
      "image/png": "[encoded data removed]",
      "text/plain": [
       "<Figure size 1440x1008 with 15 Axes>"
      ]
     },
     "metadata": {
      "needs_background": "light"
     },
     "output_type": "display_data"
    }
   ],
   "source": [
    "# Make a plot with 3 rows and 5 columns\n",
    "fig, axes = plt.subplots(nrows=3, ncols=5, figsize=(20,14))\n",
    "# Add the title\n",
    "fig.suptitle('Bar plot of Categorical', fontsize=15)\n",
    "# Plot each categorical columns with the churn proportion in each plot\n",
    "for column, ax in zip(df.select_dtypes(object), axes.flatten()):\n",
    "    sns.barplot(x=column, y=\"Churn\", data=df, ax=ax, palette=\"flare\")\n",
    "    # Set the y limit\n",
    "    ax.set_ylim(0,1)\n",
    "    # Set the title for the subplot\n",
    "    ax.set_title(column)\n",
    "    \n",
    "# Fix the plot\n",
    "fig.tight_layout()"
   ]
  },
  {
   "cell_type": "markdown",
   "id": "novel-registrar",
   "metadata": {},
   "source": [
    "#### Histogram of the numeric columns"
   ]
  },
  {
   "cell_type": "code",
   "execution_count": 11,
   "id": "completed-uzbekistan",
   "metadata": {},
   "outputs": [
    {
     "data": {
      "image/png": "[encoded data removed]",
      "text/plain": [
       "<Figure size 1224x432 with 4 Axes>"
      ]
     },
     "metadata": {
      "needs_background": "light"
     },
     "output_type": "display_data"
    }
   ],
   "source": [
    "# Make a plot with 1 rows and 4 columns\n",
    "fig, axes = plt.subplots(nrows=1, ncols=4, figsize=(17,6))\n",
    "# Add the title\n",
    "fig.suptitle('Histogram of the numeric columns', fontsize=15)\n",
    "# Plot each categorical columns with the churn proportion in each plot\n",
    "for column, ax in zip(df.select_dtypes(np.number).drop(columns='Churn'), axes.flatten()):\n",
    "    sns.histplot(x=column, data=df[df['Churn']==0], ax=ax, color=\"blue\")\n",
    "    sns.histplot(x=column, data=df[df['Churn']==1], ax=ax, color=\"red\")\n",
    "    # Set the legend\n",
    "    ax.legend(['Churn = 0', 'Churn = 1'])\n",
    "    # Set the title\n",
    "    ax.set_title(column)\n",
    "\n",
    "# Fix the plot\n",
    "fig.tight_layout()"
   ]
  },
  {
   "cell_type": "markdown",
   "id": "blond-insurance",
   "metadata": {},
   "source": [
    "#### Correlation between variables and the target"
   ]
  },
  {
   "cell_type": "code",
   "execution_count": 12,
   "id": "armed-survival",
   "metadata": {},
   "outputs": [
    {
     "data": {
      "text/plain": [
       "<AxesSubplot:>"
      ]
     },
     "execution_count": 12,
     "metadata": {},
     "output_type": "execute_result"
    },
    {
     "data": {
      "image/png": "[encoded data removed]",
      "text/plain": [
       "<Figure size 432x288 with 2 Axes>"
      ]
     },
     "metadata": {
      "needs_background": "light"
     },
     "output_type": "display_data"
    }
   ],
   "source": [
    "# Check with the heatmap the correlation of the numeric variables\n",
    "sns.heatmap(df.corr(), annot=True)"
   ]
  },
  {
   "cell_type": "markdown",
   "id": "eastern-import",
   "metadata": {},
   "source": [
    "#### Correlation with all the variables against the target\n",
    "Add the categorical variables and take the correlation"
   ]
  },
  {
   "cell_type": "code",
   "execution_count": 13,
   "id": "confident-provision",
   "metadata": {},
   "outputs": [
    {
     "data": {
      "image/png": "[encoded data removed]",
      "text/plain": [
       "<Figure size 1080x576 with 1 Axes>"
      ]
     },
     "metadata": {
      "needs_background": "light"
     },
     "output_type": "display_data"
    }
   ],
   "source": [
    "#Let's convert all the categorical variables into dummy variables\n",
    "df_dummies = pd.get_dummies(df)\n",
    "# Take the correlation of all the variables with the target, the churn column.\n",
    "correlation = df_dummies.corr()['Churn'].sort_values(ascending = False)\n",
    "# Make the  figure\n",
    "plt.figure(figsize=(15,8))\n",
    "# Do a barplot with the correlation\n",
    "sns.barplot(x=correlation.index, y=correlation)\n",
    "# Rotate the x axis\n",
    "plt.xticks(rotation=90)\n",
    "plt.show()"
   ]
  },
  {
   "cell_type": "markdown",
   "id": "elegant-sally",
   "metadata": {},
   "source": [
    "## MODEL\n",
    "First, split the data in two variables:\n",
    "* The X variable with the features.\n",
    "* The y variable with the target."
   ]
  },
  {
   "cell_type": "code",
   "execution_count": 14,
   "id": "copyrighted-institute",
   "metadata": {},
   "outputs": [],
   "source": [
    "X = df.drop(columns='Churn')\n",
    "y = df.Churn"
   ]
  },
  {
   "cell_type": "markdown",
   "id": "passing-aruba",
   "metadata": {},
   "source": [
    "Now, split the data in train and test set."
   ]
  },
  {
   "cell_type": "code",
   "execution_count": 15,
   "id": "occasional-reserve",
   "metadata": {},
   "outputs": [],
   "source": [
    "X_train, X_test, y_train, y_test = train_test_split(X, y, test_size=0.2, stratify=y, random_state=42)"
   ]
  },
  {
   "cell_type": "code",
   "execution_count": 16,
   "id": "healthy-ticket",
   "metadata": {},
   "outputs": [
    {
     "data": {
      "text/plain": [
       "0    0.734222\n",
       "1    0.265778\n",
       "Name: Churn, dtype: float64"
      ]
     },
     "execution_count": 16,
     "metadata": {},
     "output_type": "execute_result"
    }
   ],
   "source": [
    "y_train.value_counts(normalize=True)"
   ]
  },
  {
   "cell_type": "markdown",
   "id": "satisfied-device",
   "metadata": {},
   "source": [
    "### Train the models\n",
    "To train the models, I choose 3 algoritms:\n",
    "1. Logistic Regression.\n",
    "2. Random Forest Classifier.\n",
    "3. Gradient Boosting for Classification, XGBoost.\n",
    "\n",
    "I will perform a random search to select the best model and then I will retrain the best model to improve the performance.\n",
    "\n",
    "The metrics that I choose in this problems is the f1-score because the data is not balance, this metrics help to deal with thtat and the accuracy score will be skewed."
   ]
  },
  {
   "cell_type": "code",
   "execution_count": 17,
   "id": "facial-airport",
   "metadata": {},
   "outputs": [],
   "source": [
    "# Make a columns transformer to treat the variables.\n",
    "# For the categorical columns, I pass to dummy variables\n",
    "# For the numeric columns, I normalize the data.\n",
    "tranformer = ColumnTransformer([\n",
    "    (\"numeric\",StandardScaler(),make_column_selector(dtype_include=np.number)),\n",
    "    (\"encoder\",OneHotEncoder(handle_unknown=\"ignore\"),make_column_selector(dtype_exclude=np.number))],\n",
    "    remainder=\"passthrough\")\n",
    "\n",
    "# Create the pipeline, with the tranformer and the model\n",
    "pipeline_churn = Pipeline([\n",
    "    ('StandarEncoder', tranformer),\n",
    "    (\"model\",LogisticRegression(max_iter=1000, solver='liblinear'))\n",
    "])\n",
    "\n",
    "# Create the parameters for the different models\n",
    "parameters = [\n",
    "    {\n",
    "        \"model__C\": np.linspace(0.001,10,30),\n",
    "        \"model__fit_intercept\": [True,False],\n",
    "        'model__penalty':['l1', 'l2'],\n",
    "        \"model__class_weight\": [None,\"balanced\"]\n",
    "    },\n",
    "    {\n",
    "        \"model\":[RandomForestClassifier()],\n",
    "        \"model__max_depth\": np.arange(2, 10, 1),\n",
    "        \"model__n_estimators\": np.arange(25,750,50),\n",
    "        \"model__class_weight\": [None,\"balanced\", \"balanced_subsample\"]\n",
    "    },\n",
    "    {\n",
    "        \"model\":[XGBClassifier(use_label_encoder=False)],\n",
    "        \"model__n_estimators\": np.arange(50, 750, 50), \n",
    "        \"model__max_depth\": np.arange(2, 10, 1),\n",
    "        'model__lambda': [0.5,0.75,1,1.5],\n",
    "        'model__alpha': [0,0.5,0.75,1,1.5]\n",
    "    }\n",
    "]\n",
    "\n",
    "# Create the cross validation partition\n",
    "cv = KFold(3, shuffle=True, random_state=42)"
   ]
  },
  {
   "cell_type": "markdown",
   "id": "falling-colorado",
   "metadata": {},
   "source": [
    "Create the random search to select the best model with cross validation and the different parameters."
   ]
  },
  {
   "cell_type": "code",
   "execution_count": 18,
   "id": "similar-raleigh",
   "metadata": {
    "tags": []
   },
   "outputs": [
    {
     "name": "stdout",
     "output_type": "stream",
     "text": [
      "Fitting 3 folds for each of 200 candidates, totalling 600 fits\n"
     ]
    }
   ],
   "source": [
    "warnings.filterwarnings('ignore')\n",
    "# Create the random search\n",
    "ramd_grid = RandomizedSearchCV(pipeline_churn, parameters, scoring=\"f1\", n_jobs=-1, cv=cv, n_iter=200, verbose=1, random_state=42)\n",
    "# Train the random search\n",
    "ramd_grid.fit(X_train,y_train)\n",
    "# Get the result\n",
    "resultados = pd.DataFrame(ramd_grid.cv_results_).sort_values(\"rank_test_score\")"
   ]
  },
  {
   "cell_type": "code",
   "execution_count": 19,
   "id": "veterinary-grenada",
   "metadata": {},
   "outputs": [
    {
     "data": {
      "text/html": [
       "<div>\n",
       "<style scoped>\n",
       "    .dataframe tbody tr th:only-of-type {\n",
       "        vertical-align: middle;\n",
       "    }\n",
       "\n",
       "    .dataframe tbody tr th {\n",
       "        vertical-align: top;\n",
       "    }\n",
       "\n",
       "    .dataframe thead th {\n",
       "        text-align: right;\n",
       "    }\n",
       "</style>\n",
       "<table border=\"1\" class=\"dataframe\">\n",
       "  <thead>\n",
       "    <tr style=\"text-align: right;\">\n",
       "      <th></th>\n",
       "      <th>mean_fit_time</th>\n",
       "      <th>std_fit_time</th>\n",
       "      <th>mean_score_time</th>\n",
       "      <th>std_score_time</th>\n",
       "      <th>param_model__n_estimators</th>\n",
       "      <th>param_model__max_depth</th>\n",
       "      <th>param_model__class_weight</th>\n",
       "      <th>param_model</th>\n",
       "      <th>param_model__lambda</th>\n",
       "      <th>param_model__alpha</th>\n",
       "      <th>param_model__penalty</th>\n",
       "      <th>param_model__fit_intercept</th>\n",
       "      <th>param_model__C</th>\n",
       "      <th>params</th>\n",
       "      <th>split0_test_score</th>\n",
       "      <th>split1_test_score</th>\n",
       "      <th>split2_test_score</th>\n",
       "      <th>mean_test_score</th>\n",
       "      <th>std_test_score</th>\n",
       "      <th>rank_test_score</th>\n",
       "    </tr>\n",
       "  </thead>\n",
       "  <tbody>\n",
       "    <tr>\n",
       "      <th>128</th>\n",
       "      <td>12.739349</td>\n",
       "      <td>0.482634</td>\n",
       "      <td>1.035381</td>\n",
       "      <td>0.030081</td>\n",
       "      <td>675</td>\n",
       "      <td>7</td>\n",
       "      <td>balanced_subsample</td>\n",
       "      <td>RandomForestClassifier(class_weight='balanced_...</td>\n",
       "      <td>NaN</td>\n",
       "      <td>NaN</td>\n",
       "      <td>NaN</td>\n",
       "      <td>NaN</td>\n",
       "      <td>NaN</td>\n",
       "      <td>{'model__n_estimators': 675, 'model__max_depth...</td>\n",
       "      <td>0.627483</td>\n",
       "      <td>0.633981</td>\n",
       "      <td>0.645620</td>\n",
       "      <td>0.635695</td>\n",
       "      <td>0.007503</td>\n",
       "      <td>1</td>\n",
       "    </tr>\n",
       "    <tr>\n",
       "      <th>79</th>\n",
       "      <td>11.659289</td>\n",
       "      <td>0.105212</td>\n",
       "      <td>0.739473</td>\n",
       "      <td>0.058334</td>\n",
       "      <td>575</td>\n",
       "      <td>8</td>\n",
       "      <td>balanced_subsample</td>\n",
       "      <td>RandomForestClassifier(class_weight='balanced_...</td>\n",
       "      <td>NaN</td>\n",
       "      <td>NaN</td>\n",
       "      <td>NaN</td>\n",
       "      <td>NaN</td>\n",
       "      <td>NaN</td>\n",
       "      <td>{'model__n_estimators': 575, 'model__max_depth...</td>\n",
       "      <td>0.625850</td>\n",
       "      <td>0.635417</td>\n",
       "      <td>0.640065</td>\n",
       "      <td>0.633777</td>\n",
       "      <td>0.005918</td>\n",
       "      <td>2</td>\n",
       "    </tr>\n",
       "    <tr>\n",
       "      <th>194</th>\n",
       "      <td>5.384611</td>\n",
       "      <td>0.034843</td>\n",
       "      <td>0.482385</td>\n",
       "      <td>0.009085</td>\n",
       "      <td>375</td>\n",
       "      <td>8</td>\n",
       "      <td>balanced</td>\n",
       "      <td>RandomForestClassifier(class_weight='balanced_...</td>\n",
       "      <td>NaN</td>\n",
       "      <td>NaN</td>\n",
       "      <td>NaN</td>\n",
       "      <td>NaN</td>\n",
       "      <td>NaN</td>\n",
       "      <td>{'model__n_estimators': 375, 'model__max_depth...</td>\n",
       "      <td>0.622979</td>\n",
       "      <td>0.636443</td>\n",
       "      <td>0.641755</td>\n",
       "      <td>0.633725</td>\n",
       "      <td>0.007902</td>\n",
       "      <td>3</td>\n",
       "    </tr>\n",
       "    <tr>\n",
       "      <th>196</th>\n",
       "      <td>7.976267</td>\n",
       "      <td>0.199893</td>\n",
       "      <td>0.574124</td>\n",
       "      <td>0.016776</td>\n",
       "      <td>475</td>\n",
       "      <td>7</td>\n",
       "      <td>balanced_subsample</td>\n",
       "      <td>RandomForestClassifier(class_weight='balanced_...</td>\n",
       "      <td>NaN</td>\n",
       "      <td>NaN</td>\n",
       "      <td>NaN</td>\n",
       "      <td>NaN</td>\n",
       "      <td>NaN</td>\n",
       "      <td>{'model__n_estimators': 475, 'model__max_depth...</td>\n",
       "      <td>0.623058</td>\n",
       "      <td>0.632997</td>\n",
       "      <td>0.645008</td>\n",
       "      <td>0.633688</td>\n",
       "      <td>0.008974</td>\n",
       "      <td>4</td>\n",
       "    </tr>\n",
       "    <tr>\n",
       "      <th>199</th>\n",
       "      <td>2.546307</td>\n",
       "      <td>0.076604</td>\n",
       "      <td>0.236531</td>\n",
       "      <td>0.033468</td>\n",
       "      <td>125</td>\n",
       "      <td>8</td>\n",
       "      <td>balanced_subsample</td>\n",
       "      <td>RandomForestClassifier(class_weight='balanced_...</td>\n",
       "      <td>NaN</td>\n",
       "      <td>NaN</td>\n",
       "      <td>NaN</td>\n",
       "      <td>NaN</td>\n",
       "      <td>NaN</td>\n",
       "      <td>{'model__n_estimators': 125, 'model__max_depth...</td>\n",
       "      <td>0.626486</td>\n",
       "      <td>0.632404</td>\n",
       "      <td>0.641815</td>\n",
       "      <td>0.633568</td>\n",
       "      <td>0.006312</td>\n",
       "      <td>5</td>\n",
       "    </tr>\n",
       "  </tbody>\n",
       "</table>\n",
       "</div>"
      ],
      "text/plain": [
       "     mean_fit_time  std_fit_time  mean_score_time  std_score_time  \\\n",
       "128      12.739349      0.482634         1.035381        0.030081   \n",
       "79       11.659289      0.105212         0.739473        0.058334   \n",
       "194       5.384611      0.034843         0.482385        0.009085   \n",
       "196       7.976267      0.199893         0.574124        0.016776   \n",
       "199       2.546307      0.076604         0.236531        0.033468   \n",
       "\n",
       "    param_model__n_estimators param_model__max_depth  \\\n",
       "128                       675                      7   \n",
       "79                        575                      8   \n",
       "194                       375                      8   \n",
       "196                       475                      7   \n",
       "199                       125                      8   \n",
       "\n",
       "    param_model__class_weight  \\\n",
       "128        balanced_subsample   \n",
       "79         balanced_subsample   \n",
       "194                  balanced   \n",
       "196        balanced_subsample   \n",
       "199        balanced_subsample   \n",
       "\n",
       "                                           param_model param_model__lambda  \\\n",
       "128  RandomForestClassifier(class_weight='balanced_...                 NaN   \n",
       "79   RandomForestClassifier(class_weight='balanced_...                 NaN   \n",
       "194  RandomForestClassifier(class_weight='balanced_...                 NaN   \n",
       "196  RandomForestClassifier(class_weight='balanced_...                 NaN   \n",
       "199  RandomForestClassifier(class_weight='balanced_...                 NaN   \n",
       "\n",
       "    param_model__alpha param_model__penalty param_model__fit_intercept  \\\n",
       "128                NaN                  NaN                        NaN   \n",
       "79                 NaN                  NaN                        NaN   \n",
       "194                NaN                  NaN                        NaN   \n",
       "196                NaN                  NaN                        NaN   \n",
       "199                NaN                  NaN                        NaN   \n",
       "\n",
       "    param_model__C                                             params  \\\n",
       "128            NaN  {'model__n_estimators': 675, 'model__max_depth...   \n",
       "79             NaN  {'model__n_estimators': 575, 'model__max_depth...   \n",
       "194            NaN  {'model__n_estimators': 375, 'model__max_depth...   \n",
       "196            NaN  {'model__n_estimators': 475, 'model__max_depth...   \n",
       "199            NaN  {'model__n_estimators': 125, 'model__max_depth...   \n",
       "\n",
       "     split0_test_score  split1_test_score  split2_test_score  mean_test_score  \\\n",
       "128           0.627483           0.633981           0.645620         0.635695   \n",
       "79            0.625850           0.635417           0.640065         0.633777   \n",
       "194           0.622979           0.636443           0.641755         0.633725   \n",
       "196           0.623058           0.632997           0.645008         0.633688   \n",
       "199           0.626486           0.632404           0.641815         0.633568   \n",
       "\n",
       "     std_test_score  rank_test_score  \n",
       "128        0.007503                1  \n",
       "79         0.005918                2  \n",
       "194        0.007902                3  \n",
       "196        0.008974                4  \n",
       "199        0.006312                5  "
      ]
     },
     "execution_count": 19,
     "metadata": {},
     "output_type": "execute_result"
    }
   ],
   "source": [
    "resultados.head()"
   ]
  },
  {
   "cell_type": "markdown",
   "id": "favorite-sunset",
   "metadata": {},
   "source": [
    "The model has a good performance in the first cross validation train with the tree models. The best algorithm is Random Forest Classifier with an average f1 score of 0.63 in the cross validation.\n",
    "\n",
    "With respect to the model metrics, the f1-score for the positive label is equal to 0.68 and for the label 0 is equal to 0.84. Also, the accuracy of the model is 0.79, this means that the model predicts well 79% of the times. As well as, the recall is 0.84 this means that the model captures 84% of churn cases. Finally, the precision is equal to 0.57, meaning that the model for each prediction that is equal to churn is correct 57% of the times."
   ]
  },
  {
   "cell_type": "code",
   "execution_count": 20,
   "id": "labeled-edition",
   "metadata": {},
   "outputs": [
    {
     "name": "stdout",
     "output_type": "stream",
     "text": [
      "              precision    recall  f1-score   support\n",
      "\n",
      "           0       0.93      0.76      0.84      4130\n",
      "           1       0.57      0.84      0.68      1495\n",
      "\n",
      "    accuracy                           0.79      5625\n",
      "   macro avg       0.75      0.80      0.76      5625\n",
      "weighted avg       0.83      0.79      0.80      5625\n",
      "\n"
     ]
    }
   ],
   "source": [
    "y_pred_train = ramd_grid.predict(X_train)\n",
    "print(classification_report(y_train, y_pred_train))"
   ]
  },
  {
   "cell_type": "markdown",
   "id": "unable-graph",
   "metadata": {},
   "source": [
    "### Confusion matrix\n",
    "The model predict well the 0 label in 3239 times and label 1 in 1279 times, this are the true negativa and the true postive respectively. With regard to the false negatives this are equal to 216 in the train set and the false positives are equal to 891."
   ]
  },
  {
   "cell_type": "code",
   "execution_count": 21,
   "id": "august-ebony",
   "metadata": {},
   "outputs": [
    {
     "data": {
      "text/plain": [
       "<AxesSubplot:>"
      ]
     },
     "execution_count": 21,
     "metadata": {},
     "output_type": "execute_result"
    },
    {
     "data": {
      "image/png": "[encoded data removed]",
      "text/plain": [
       "<Figure size 432x288 with 2 Axes>"
      ]
     },
     "metadata": {
      "needs_background": "light"
     },
     "output_type": "display_data"
    }
   ],
   "source": [
    "# Create the confusion matrix for the train set\n",
    "sns.heatmap(confusion_matrix(y_train,y_pred_train), annot=True, fmt=\"d\")"
   ]
  },
  {
   "cell_type": "markdown",
   "id": "amber-scheme",
   "metadata": {},
   "source": [
    "# Train the best model, Random Forest Classifier\n",
    "I will retrain the best model to improve the performance. For that, I will add 2 steps more in the pipeline:\n",
    "1. The first one, is a features selection step to keep the most relevant variables.\n",
    "2. The second one, is to reduce the dimensionality of the dataset through PCA.\n",
    "\n",
    "Then for the random forest model, I will add more values to the hyperparameters."
   ]
  },
  {
   "cell_type": "code",
   "execution_count": 22,
   "id": "veterinary-danger",
   "metadata": {},
   "outputs": [
    {
     "data": {
      "text/plain": [
       "{'model__n_estimators': 675,\n",
       " 'model__max_depth': 7,\n",
       " 'model__class_weight': 'balanced_subsample',\n",
       " 'model': RandomForestClassifier(class_weight='balanced_subsample', max_depth=7,\n",
       "                        n_estimators=675)}"
      ]
     },
     "execution_count": 22,
     "metadata": {},
     "output_type": "execute_result"
    }
   ],
   "source": [
    "# View the best model in the last random search\n",
    "ramd_grid.best_params_"
   ]
  },
  {
   "cell_type": "code",
   "execution_count": 23,
   "id": "spread-extension",
   "metadata": {},
   "outputs": [],
   "source": [
    "# Create the pipeline with the 4 steps\n",
    "pipeline_rf = Pipeline([\n",
    "    ('StandarEncoder', tranformer),\n",
    "    (\"features_selection\",RFE(LogisticRegression(), step = 1)),\n",
    "    (\"reduction\",PCA(0.8)),\n",
    "    (\"model\",RandomForestClassifier(class_weight='balanced'))\n",
    "])\n",
    "# Create the parameters for the pipeline\n",
    "parameters_rf = [\n",
    "    {\n",
    "        \"features_selection\":[RFE(RandomForestClassifier(class_weight='balanced', max_depth=8, n_estimators=275), step = 1),\n",
    "                              SelectFromModel(RandomForestClassifier(class_weight='balanced', max_depth=8, n_estimators=275)), \n",
    "                              None],\n",
    "        \"reduction\": [PCA(0.9), PCA(0.8), None],\n",
    "        \"model__max_depth\": np.arange(4, 12, 1),\n",
    "        \"model__n_estimators\":np.arange(300,900,10),\n",
    "        \"model__max_features\": ['auto', 'sqrt', 'log2']\n",
    "    }]"
   ]
  },
  {
   "cell_type": "code",
   "execution_count": 24,
   "id": "intensive-hello",
   "metadata": {},
   "outputs": [
    {
     "name": "stdout",
     "output_type": "stream",
     "text": [
      "Fitting 3 folds for each of 150 candidates, totalling 450 fits\n"
     ]
    },
    {
     "data": {
      "text/html": [
       "<div>\n",
       "<style scoped>\n",
       "    .dataframe tbody tr th:only-of-type {\n",
       "        vertical-align: middle;\n",
       "    }\n",
       "\n",
       "    .dataframe tbody tr th {\n",
       "        vertical-align: top;\n",
       "    }\n",
       "\n",
       "    .dataframe thead th {\n",
       "        text-align: right;\n",
       "    }\n",
       "</style>\n",
       "<table border=\"1\" class=\"dataframe\">\n",
       "  <thead>\n",
       "    <tr style=\"text-align: right;\">\n",
       "      <th></th>\n",
       "      <th>mean_fit_time</th>\n",
       "      <th>std_fit_time</th>\n",
       "      <th>mean_score_time</th>\n",
       "      <th>std_score_time</th>\n",
       "      <th>param_reduction</th>\n",
       "      <th>param_model__n_estimators</th>\n",
       "      <th>param_model__max_features</th>\n",
       "      <th>param_model__max_depth</th>\n",
       "      <th>param_features_selection</th>\n",
       "      <th>params</th>\n",
       "      <th>split0_test_score</th>\n",
       "      <th>split1_test_score</th>\n",
       "      <th>split2_test_score</th>\n",
       "      <th>mean_test_score</th>\n",
       "      <th>std_test_score</th>\n",
       "      <th>rank_test_score</th>\n",
       "    </tr>\n",
       "  </thead>\n",
       "  <tbody>\n",
       "    <tr>\n",
       "      <th>86</th>\n",
       "      <td>14.022488</td>\n",
       "      <td>0.515145</td>\n",
       "      <td>1.432971</td>\n",
       "      <td>0.230939</td>\n",
       "      <td>None</td>\n",
       "      <td>840</td>\n",
       "      <td>log2</td>\n",
       "      <td>7</td>\n",
       "      <td>None</td>\n",
       "      <td>{'reduction': None, 'model__n_estimators': 840...</td>\n",
       "      <td>0.625205</td>\n",
       "      <td>0.634761</td>\n",
       "      <td>0.647105</td>\n",
       "      <td>0.635690</td>\n",
       "      <td>0.008965</td>\n",
       "      <td>1</td>\n",
       "    </tr>\n",
       "    <tr>\n",
       "      <th>14</th>\n",
       "      <td>130.648247</td>\n",
       "      <td>0.330032</td>\n",
       "      <td>0.817935</td>\n",
       "      <td>0.101589</td>\n",
       "      <td>PCA(n_components=0.9)</td>\n",
       "      <td>480</td>\n",
       "      <td>auto</td>\n",
       "      <td>7</td>\n",
       "      <td>RFE(estimator=RandomForestClassifier(class_wei...</td>\n",
       "      <td>{'reduction': PCA(n_components=0.9), 'model__n...</td>\n",
       "      <td>0.621277</td>\n",
       "      <td>0.648794</td>\n",
       "      <td>0.635135</td>\n",
       "      <td>0.635068</td>\n",
       "      <td>0.011234</td>\n",
       "      <td>2</td>\n",
       "    </tr>\n",
       "    <tr>\n",
       "      <th>49</th>\n",
       "      <td>125.462912</td>\n",
       "      <td>0.334161</td>\n",
       "      <td>1.245524</td>\n",
       "      <td>0.200746</td>\n",
       "      <td>None</td>\n",
       "      <td>760</td>\n",
       "      <td>auto</td>\n",
       "      <td>7</td>\n",
       "      <td>RFE(estimator=RandomForestClassifier(class_wei...</td>\n",
       "      <td>{'reduction': None, 'model__n_estimators': 760...</td>\n",
       "      <td>0.625624</td>\n",
       "      <td>0.635672</td>\n",
       "      <td>0.643770</td>\n",
       "      <td>0.635022</td>\n",
       "      <td>0.007422</td>\n",
       "      <td>3</td>\n",
       "    </tr>\n",
       "    <tr>\n",
       "      <th>51</th>\n",
       "      <td>10.015199</td>\n",
       "      <td>0.308813</td>\n",
       "      <td>0.775588</td>\n",
       "      <td>0.080045</td>\n",
       "      <td>None</td>\n",
       "      <td>370</td>\n",
       "      <td>auto</td>\n",
       "      <td>7</td>\n",
       "      <td>SelectFromModel(estimator=RandomForestClassifi...</td>\n",
       "      <td>{'reduction': None, 'model__n_estimators': 370...</td>\n",
       "      <td>0.631491</td>\n",
       "      <td>0.636756</td>\n",
       "      <td>0.636511</td>\n",
       "      <td>0.634919</td>\n",
       "      <td>0.002426</td>\n",
       "      <td>4</td>\n",
       "    </tr>\n",
       "    <tr>\n",
       "      <th>7</th>\n",
       "      <td>11.562279</td>\n",
       "      <td>1.410689</td>\n",
       "      <td>0.785680</td>\n",
       "      <td>0.003522</td>\n",
       "      <td>None</td>\n",
       "      <td>310</td>\n",
       "      <td>log2</td>\n",
       "      <td>7</td>\n",
       "      <td>SelectFromModel(estimator=RandomForestClassifi...</td>\n",
       "      <td>{'reduction': None, 'model__n_estimators': 310...</td>\n",
       "      <td>0.632464</td>\n",
       "      <td>0.635004</td>\n",
       "      <td>0.637168</td>\n",
       "      <td>0.634879</td>\n",
       "      <td>0.001922</td>\n",
       "      <td>5</td>\n",
       "    </tr>\n",
       "  </tbody>\n",
       "</table>\n",
       "</div>"
      ],
      "text/plain": [
       "    mean_fit_time  std_fit_time  mean_score_time  std_score_time  \\\n",
       "86      14.022488      0.515145         1.432971        0.230939   \n",
       "14     130.648247      0.330032         0.817935        0.101589   \n",
       "49     125.462912      0.334161         1.245524        0.200746   \n",
       "51      10.015199      0.308813         0.775588        0.080045   \n",
       "7       11.562279      1.410689         0.785680        0.003522   \n",
       "\n",
       "          param_reduction param_model__n_estimators param_model__max_features  \\\n",
       "86                   None                       840                      log2   \n",
       "14  PCA(n_components=0.9)                       480                      auto   \n",
       "49                   None                       760                      auto   \n",
       "51                   None                       370                      auto   \n",
       "7                    None                       310                      log2   \n",
       "\n",
       "   param_model__max_depth                           param_features_selection  \\\n",
       "86                      7                                               None   \n",
       "14                      7  RFE(estimator=RandomForestClassifier(class_wei...   \n",
       "49                      7  RFE(estimator=RandomForestClassifier(class_wei...   \n",
       "51                      7  SelectFromModel(estimator=RandomForestClassifi...   \n",
       "7                       7  SelectFromModel(estimator=RandomForestClassifi...   \n",
       "\n",
       "                                               params  split0_test_score  \\\n",
       "86  {'reduction': None, 'model__n_estimators': 840...           0.625205   \n",
       "14  {'reduction': PCA(n_components=0.9), 'model__n...           0.621277   \n",
       "49  {'reduction': None, 'model__n_estimators': 760...           0.625624   \n",
       "51  {'reduction': None, 'model__n_estimators': 370...           0.631491   \n",
       "7   {'reduction': None, 'model__n_estimators': 310...           0.632464   \n",
       "\n",
       "    split1_test_score  split2_test_score  mean_test_score  std_test_score  \\\n",
       "86           0.634761           0.647105         0.635690        0.008965   \n",
       "14           0.648794           0.635135         0.635068        0.011234   \n",
       "49           0.635672           0.643770         0.635022        0.007422   \n",
       "51           0.636756           0.636511         0.634919        0.002426   \n",
       "7            0.635004           0.637168         0.634879        0.001922   \n",
       "\n",
       "    rank_test_score  \n",
       "86                1  \n",
       "14                2  \n",
       "49                3  \n",
       "51                4  \n",
       "7                 5  "
      ]
     },
     "execution_count": 24,
     "metadata": {},
     "output_type": "execute_result"
    }
   ],
   "source": [
    "# Create the random search for the model\n",
    "ramd_grid_rf = RandomizedSearchCV(pipeline_rf, parameters_rf, scoring=\"f1\", n_jobs=-1, cv=cv, n_iter=150, verbose=1)\n",
    "# Train the model\n",
    "ramd_grid_rf.fit(X_train,y_train)\n",
    "# Get the results\n",
    "resultados = pd.DataFrame(ramd_grid_rf.cv_results_).sort_values(\"rank_test_score\")\n",
    "resultados.head()"
   ]
  },
  {
   "cell_type": "code",
   "execution_count": 26,
   "id": "declared-seattle",
   "metadata": {},
   "outputs": [
    {
     "data": {
      "text/plain": [
       "{'reduction': None,\n",
       " 'model__n_estimators': 840,\n",
       " 'model__max_features': 'log2',\n",
       " 'model__max_depth': 7,\n",
       " 'features_selection': None}"
      ]
     },
     "execution_count": 26,
     "metadata": {},
     "output_type": "execute_result"
    }
   ],
   "source": [
    "# Show the best params in the random search. \n",
    "ramd_grid_rf.best_params_"
   ]
  },
  {
   "cell_type": "markdown",
   "id": "fitting-finland",
   "metadata": {},
   "source": [
    "The model metrics in the training set, the f1-score for the positive label is equal to 0.67 and for the label 0 is equal to 0.84. Also, the accuracy of the model is 0.78, this means that the model predicts well 78% of the times. As well as the recall is 0.84 this means that the model captures 84% of churn cases. Finally, the precision is equal to 0.56, meaning that the model for each prediction that is equal to churn is correct 56% of the times."
   ]
  },
  {
   "cell_type": "code",
   "execution_count": 27,
   "id": "traditional-elizabeth",
   "metadata": {},
   "outputs": [
    {
     "name": "stdout",
     "output_type": "stream",
     "text": [
      "              precision    recall  f1-score   support\n",
      "\n",
      "           0       0.93      0.76      0.84      4130\n",
      "           1       0.56      0.84      0.67      1495\n",
      "\n",
      "    accuracy                           0.78      5625\n",
      "   macro avg       0.75      0.80      0.76      5625\n",
      "weighted avg       0.83      0.78      0.79      5625\n",
      "\n"
     ]
    }
   ],
   "source": [
    "# Get the performance of the model in the train set\n",
    "y_pred_train_rf = ramd_grid_rf.predict(X_train)\n",
    "print(classification_report(y_train, y_pred_train_rf))"
   ]
  },
  {
   "cell_type": "markdown",
   "id": "b41ec6d6-eb4d-4c3a-8d7a-f537c1c12107",
   "metadata": {},
   "source": [
    "In the test set the metrics are very similar to the training set, this mean that the model doesn't overfit, the variance of the model is low. The f1-score for the positive label is equal to 0.62 and for the label 0 is equal to 0.80. Also, the accuracy of the model is 0.74, this means that the model predicts well 74% of the times. As well as the recall is 0.78 this means that the model captures 78% of churn cases. Finally, the precision is equal to 0.51, meaning that the model for each prediction that is equal to churn is correct 51% of the times."
   ]
  },
  {
   "cell_type": "code",
   "execution_count": 28,
   "id": "entertaining-breakfast",
   "metadata": {},
   "outputs": [
    {
     "name": "stdout",
     "output_type": "stream",
     "text": [
      "              precision    recall  f1-score   support\n",
      "\n",
      "           0       0.90      0.72      0.80      1033\n",
      "           1       0.51      0.78      0.62       374\n",
      "\n",
      "    accuracy                           0.74      1407\n",
      "   macro avg       0.70      0.75      0.71      1407\n",
      "weighted avg       0.80      0.74      0.75      1407\n",
      "\n"
     ]
    }
   ],
   "source": [
    "# Get the performance of the model in the test set\n",
    "y_pred_test_rf = ramd_grid_rf.predict(X_test)\n",
    "print(classification_report(y_test, y_pred_test_rf))"
   ]
  },
  {
   "cell_type": "markdown",
   "id": "innocent-league",
   "metadata": {},
   "source": [
    "### Confusion matrix\n",
    "The model predict well the 0 label in 3239 times and label 1 in 1279 times, this are the true negativa and the true postive respectively. With regard to the false negatives this are equal to 216 in the train set and the false positives are equal to 891."
   ]
  },
  {
   "cell_type": "code",
   "execution_count": 29,
   "id": "specified-recipient",
   "metadata": {
    "tags": []
   },
   "outputs": [
    {
     "data": {
      "text/plain": [
       "<AxesSubplot:>"
      ]
     },
     "execution_count": 29,
     "metadata": {},
     "output_type": "execute_result"
    },
    {
     "data": {
      "image/png": "[encoded data removed]",
      "text/plain": [
       "<Figure size 432x288 with 2 Axes>"
      ]
     },
     "metadata": {
      "needs_background": "light"
     },
     "output_type": "display_data"
    }
   ],
   "source": [
    "# Create the confusion matrix for the test set\n",
    "sns.heatmap(confusion_matrix(y_test,y_pred_test_rf),annot=True,fmt=\"d\")"
   ]
  }
 ],
 "metadata": {
  "kernelspec": {
   "display_name": "RightData2",
   "language": "python",
   "name": "rightdata"
  },
  "language_info": {
   "codemirror_mode": {
    "name": "ipython",
    "version": 3
   },
   "file_extension": ".py",
   "mimetype": "text/x-python",
   "name": "python",
   "nbconvert_exporter": "python",
   "pygments_lexer": "ipython3",
   "version": "3.8.11"
  }
 },
 "nbformat": 4,
 "nbformat_minor": 5
}
